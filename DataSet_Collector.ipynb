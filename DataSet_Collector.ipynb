{
 "cells": [
  {
   "cell_type": "code",
   "execution_count": 2,
   "id": "fa2f40e7",
   "metadata": {},
   "outputs": [],
   "source": [
    "from pytube import YouTube\n",
    "from xml.etree.ElementTree import parse\n",
    "import os"
   ]
  },
  {
   "cell_type": "code",
   "execution_count": 3,
   "id": "0f1a9672",
   "metadata": {},
   "outputs": [
    {
     "name": "stdout",
     "output_type": "stream",
     "text": [
      "D:\\kusp\\venv\\kusp\n"
     ]
    }
   ],
   "source": [
    "print(os.getcwd())"
   ]
  },
  {
   "cell_type": "markdown",
   "id": "0feec25b",
   "metadata": {},
   "source": [
    "### Data Properties"
   ]
  },
  {
   "cell_type": "code",
   "execution_count": 4,
   "id": "52519332",
   "metadata": {},
   "outputs": [
    {
     "name": "stderr",
     "output_type": "stream",
     "text": [
      "C:\\Users\\ASUS\\AppData\\Local\\Temp/ipykernel_12924/373981108.py:12: DeprecationWarning: executable_path has been deprecated, please pass in a Service object\n",
      "  driver = webdriver.Chrome('./chromedriver.exe')\n"
     ]
    },
    {
     "name": "stdout",
     "output_type": "stream",
     "text": [
      "['https://www.youtube.com/watch?v=hSP26EgtnD4', 'https://www.youtube.com/watch?v=4C3vuOqBlN8', 'https://www.youtube.com/watch?v=dpb8Pktib64', 'https://www.youtube.com/watch?v=ARyH5gdv9nw', 'https://www.youtube.com/watch?v=KevStr17z40', 'https://www.youtube.com/watch?v=SRCflDAG2zw', 'https://www.youtube.com/watch?v=H1XrhhFGh-0', 'https://www.youtube.com/watch?v=d4T39OfS7EE', 'https://www.youtube.com/watch?v=_89yL56P2MY', 'https://www.youtube.com/watch?v=gXvhd8cOCBI', 'https://www.youtube.com/watch?v=AvpEHCW5fSA', 'https://www.youtube.com/watch?v=jVbqvPnWB94', 'https://www.youtube.com/watch?v=1ijeEDt_JWk', 'https://www.youtube.com/watch?v=9uXlIlyNIxo', 'https://www.youtube.com/watch?v=r7c78nZeL90', 'https://www.youtube.com/watch?v=ui-IawOBrcA', 'https://www.youtube.com/watch?v=77C6Oft1poA', 'https://www.youtube.com/watch?v=rYYLBESZwm0', 'https://www.youtube.com/watch?v=y901YTUuqPY', 'https://www.youtube.com/watch?v=BLZdbIf-LbI', 'https://www.youtube.com/watch?v=T8BFN-XLfps', 'https://www.youtube.com/watch?v=xQe38r_M8Wc', 'https://www.youtube.com/watch?v=5a0mY54HSUo', 'https://www.youtube.com/watch?v=IMtdkOJ0OaI', 'https://www.youtube.com/watch?v=NyOKTbmjCNQ', 'https://www.youtube.com/watch?v=wCZ_UEkrHq8', 'https://www.youtube.com/watch?v=XbsrMgjH1BM', 'https://www.youtube.com/watch?v=9bzOR7YGXyU', 'https://www.youtube.com/watch?v=hVvU8SX-W8Y', 'https://www.youtube.com/watch?v=i470qRODmn4']\n",
      "['https://www.youtube.com/watch?v=v1bkS1BfD84', 'https://www.youtube.com/watch?v=aCsOWiOzB0c', 'https://www.youtube.com/watch?v=wvJGeD_DNAY', 'https://www.youtube.com/watch?v=-9W2oWaW0As', 'https://www.youtube.com/watch?v=9S_S1QQBuzE', 'https://www.youtube.com/watch?v=14tws3wJ-SY', 'https://www.youtube.com/watch?v=TPwrp-4FHqM', 'https://www.youtube.com/watch?v=54gdaOO9pR4', 'https://www.youtube.com/watch?v=zQKtLkh0UjM', 'https://www.youtube.com/watch?v=2560QklqKsk', 'https://www.youtube.com/watch?v=mb24InL744M', 'https://www.youtube.com/watch?v=8Gqzi4rmW1M', 'https://www.youtube.com/watch?v=crQU5X9w4ec', 'https://www.youtube.com/watch?v=ydM5AZBbU-E', 'https://www.youtube.com/watch?v=GDeLzP-I7to', 'https://www.youtube.com/watch?v=nP_M0_ZifiA', 'https://www.youtube.com/watch?v=L1Kuxyz_2y0', 'https://www.youtube.com/watch?v=TXvhTsNSiLI', 'https://www.youtube.com/watch?v=Svn8l8-ZdkU', 'https://www.youtube.com/watch?v=sF_epYZPxRE', 'https://www.youtube.com/watch?v=MCIicmPituE', 'https://www.youtube.com/watch?v=lIMwfDlPsr8', 'https://www.youtube.com/watch?v=WPhB_m-QTe4', 'https://www.youtube.com/watch?v=8ONkpPcjZ0g', 'https://www.youtube.com/watch?v=LEvsqT3_R_Y', 'https://www.youtube.com/watch?v=mDZnxFWzXm8', 'https://www.youtube.com/watch?v=qREgdmyGwvA', 'https://www.youtube.com/watch?v=E37DEws_1oU', 'https://www.youtube.com/watch?v=gYvsfLj2dJo', 'https://www.youtube.com/watch?v=8ifE_7qWUmQ']\n",
      "['https://www.youtube.com/watch?v=xb1ntVHP0eg', 'https://www.youtube.com/watch?v=O3PFFz4Kl2c', 'https://www.youtube.com/watch?v=efIyNpe4qyo', 'https://www.youtube.com/watch?v=rTaEZ7iTRhE', 'https://www.youtube.com/watch?v=weJX9Q9bw38', 'https://www.youtube.com/watch?v=R9u_VPDMx0U', 'https://www.youtube.com/watch?v=4uop30xquTM', 'https://www.youtube.com/watch?v=mW4TVuaY464', 'https://www.youtube.com/watch?v=lfphBjyNg98', 'https://www.youtube.com/watch?v=0a1hiQVijgE', 'https://www.youtube.com/watch?v=ItfZJk6Dv7A', 'https://www.youtube.com/watch?v=pXBNopnrsEo', 'https://www.youtube.com/watch?v=VQTYoa_g79k', 'https://www.youtube.com/watch?v=1ufN1OWYATQ', 'https://www.youtube.com/watch?v=BTXdCP9tEbI', 'https://www.youtube.com/watch?v=STjcOMDFJs0', 'https://www.youtube.com/watch?v=0Q0YmgmVAaE', 'https://www.youtube.com/watch?v=yIEXzubMsK4', 'https://www.youtube.com/watch?v=zCxfT9Qr56g', 'https://www.youtube.com/watch?v=0gJQmrRYlRw', 'https://www.youtube.com/watch?v=aOaF15SSYeo', 'https://www.youtube.com/watch?v=R2J86uR-X54', 'https://www.youtube.com/watch?v=EaqLQjkLK0Y', 'https://www.youtube.com/watch?v=xyAjyo055iI', 'https://www.youtube.com/watch?v=6WbX2LRKU0o', 'https://www.youtube.com/watch?v=YUaG4Qv3RxI', 'https://www.youtube.com/watch?v=LVKQA_7kKL4', 'https://www.youtube.com/watch?v=aUYyIlX90eE', 'https://www.youtube.com/watch?v=Rbg6c2gV1l0', 'https://www.youtube.com/watch?v=jQwrnLwfS6A']\n"
     ]
    }
   ],
   "source": [
    "from selenium import webdriver\n",
    "from bs4 import BeautifulSoup as bs\n",
    "import pandas as pd\n",
    "from selenium.webdriver.common.keys import Keys\n",
    "import time\n",
    "\n",
    "keyword = ['c/newskbs', 'c/MBCNEWS11', 'sbs8news']\n",
    "yt_list = dict()\n",
    "\n",
    "for k in keyword :\n",
    "    url = 'https://www.youtube.com/{}/videos'.format(k)\n",
    "    driver = webdriver.Chrome('./chromedriver.exe')\n",
    "    driver.get(url)\n",
    "    soup = bs(driver.page_source, 'html.parser')\n",
    "    driver.close()\n",
    "\n",
    "    name = soup.select('a#video-title')\n",
    "    video_url = soup.select('a#video-title')\n",
    "    view = soup.select('a#video-title')\n",
    "\n",
    "    name_list = []\n",
    "    url_list = []\n",
    "    view_list = []\n",
    "\n",
    "    for i in range(len(name)):\n",
    "        name_list.append(name[i].text.strip())\n",
    "        view_list.append(view[i].get('aria-label').split()[-1])\n",
    "    for i in video_url:\n",
    "        url_list.append('{}{}'.format('https://www.youtube.com',i.get('href')))\n",
    "\n",
    "    yt_Info = {\n",
    "        '제목': name_list,\n",
    "        '주소': url_list,\n",
    "        '조회수': view_list\n",
    "    }\n",
    "    yt_list[k] = yt_Info \n",
    "    print(yt_list[k]['주소'], end='\\n')\n",
    "    "
   ]
  },
  {
   "cell_type": "code",
   "execution_count": 5,
   "id": "1dafd49f",
   "metadata": {},
   "outputs": [
    {
     "name": "stdout",
     "output_type": "stream",
     "text": [
      "k : 30\n",
      "k : 30\n",
      "k : 30\n"
     ]
    }
   ],
   "source": [
    "for k in keyword:\n",
    "    print('k :', len(yt_list[k]['주소']))"
   ]
  },
  {
   "cell_type": "code",
   "execution_count": 8,
   "id": "06ec0b6f",
   "metadata": {
    "scrolled": true
   },
   "outputs": [
    {
     "name": "stdout",
     "output_type": "stream",
     "text": [
      "c/newskbs : 30\n",
      "video_url : https://www.youtube.com/watch?v=hSP26EgtnD4\n",
      "video_name : newskbs_hSP26EgtnD4\n"
     ]
    },
    {
     "name": "stderr",
     "output_type": "stream",
     "text": [
      "C:\\Users\\ASUS\\AppData\\Local\\Temp/ipykernel_12924/3668012427.py:22: DeprecationWarning: Call to deprecated function get_by_language_code (This object can be treated as a dictionary, i.e. captions['en']).\n",
      "  cap = yt.captions.get_by_language_code('a.ko')\n"
     ]
    },
    {
     "name": "stdout",
     "output_type": "stream",
     "text": [
      "video_url : https://www.youtube.com/watch?v=4C3vuOqBlN8\n",
      "video_name : newskbs_4C3vuOqBlN8\n"
     ]
    },
    {
     "name": "stderr",
     "output_type": "stream",
     "text": [
      "C:\\Users\\ASUS\\AppData\\Local\\Temp/ipykernel_12924/3668012427.py:22: DeprecationWarning: Call to deprecated function get_by_language_code (This object can be treated as a dictionary, i.e. captions['en']).\n",
      "  cap = yt.captions.get_by_language_code('a.ko')\n"
     ]
    },
    {
     "name": "stdout",
     "output_type": "stream",
     "text": [
      "video_url : https://www.youtube.com/watch?v=dpb8Pktib64\n",
      "video_name : newskbs_dpb8Pktib64\n"
     ]
    },
    {
     "name": "stderr",
     "output_type": "stream",
     "text": [
      "C:\\Users\\ASUS\\AppData\\Local\\Temp/ipykernel_12924/3668012427.py:22: DeprecationWarning: Call to deprecated function get_by_language_code (This object can be treated as a dictionary, i.e. captions['en']).\n",
      "  cap = yt.captions.get_by_language_code('a.ko')\n"
     ]
    },
    {
     "name": "stdout",
     "output_type": "stream",
     "text": [
      "video_url : https://www.youtube.com/watch?v=ARyH5gdv9nw\n",
      "video_name : newskbs_ARyH5gdv9nw\n"
     ]
    },
    {
     "name": "stderr",
     "output_type": "stream",
     "text": [
      "C:\\Users\\ASUS\\AppData\\Local\\Temp/ipykernel_12924/3668012427.py:22: DeprecationWarning: Call to deprecated function get_by_language_code (This object can be treated as a dictionary, i.e. captions['en']).\n",
      "  cap = yt.captions.get_by_language_code('a.ko')\n"
     ]
    },
    {
     "name": "stdout",
     "output_type": "stream",
     "text": [
      "video_url : https://www.youtube.com/watch?v=KevStr17z40\n",
      "video_name : newskbs_KevStr17z40\n"
     ]
    },
    {
     "name": "stderr",
     "output_type": "stream",
     "text": [
      "C:\\Users\\ASUS\\AppData\\Local\\Temp/ipykernel_12924/3668012427.py:22: DeprecationWarning: Call to deprecated function get_by_language_code (This object can be treated as a dictionary, i.e. captions['en']).\n",
      "  cap = yt.captions.get_by_language_code('a.ko')\n"
     ]
    },
    {
     "name": "stdout",
     "output_type": "stream",
     "text": [
      "video_url : https://www.youtube.com/watch?v=SRCflDAG2zw\n",
      "video_name : newskbs_SRCflDAG2zw\n"
     ]
    },
    {
     "name": "stderr",
     "output_type": "stream",
     "text": [
      "C:\\Users\\ASUS\\AppData\\Local\\Temp/ipykernel_12924/3668012427.py:22: DeprecationWarning: Call to deprecated function get_by_language_code (This object can be treated as a dictionary, i.e. captions['en']).\n",
      "  cap = yt.captions.get_by_language_code('a.ko')\n"
     ]
    },
    {
     "name": "stdout",
     "output_type": "stream",
     "text": [
      "video_url : https://www.youtube.com/watch?v=H1XrhhFGh-0\n",
      "video_name : newskbs_H1XrhhFGh-0\n"
     ]
    },
    {
     "name": "stderr",
     "output_type": "stream",
     "text": [
      "C:\\Users\\ASUS\\AppData\\Local\\Temp/ipykernel_12924/3668012427.py:22: DeprecationWarning: Call to deprecated function get_by_language_code (This object can be treated as a dictionary, i.e. captions['en']).\n",
      "  cap = yt.captions.get_by_language_code('a.ko')\n"
     ]
    },
    {
     "name": "stdout",
     "output_type": "stream",
     "text": [
      "video_url : https://www.youtube.com/watch?v=d4T39OfS7EE\n",
      "video_name : newskbs_d4T39OfS7EE\n"
     ]
    },
    {
     "name": "stderr",
     "output_type": "stream",
     "text": [
      "C:\\Users\\ASUS\\AppData\\Local\\Temp/ipykernel_12924/3668012427.py:22: DeprecationWarning: Call to deprecated function get_by_language_code (This object can be treated as a dictionary, i.e. captions['en']).\n",
      "  cap = yt.captions.get_by_language_code('a.ko')\n"
     ]
    },
    {
     "name": "stdout",
     "output_type": "stream",
     "text": [
      "video_url : https://www.youtube.com/watch?v=_89yL56P2MY\n",
      "video_name : newskbs__89yL56P2MY\n"
     ]
    },
    {
     "name": "stderr",
     "output_type": "stream",
     "text": [
      "C:\\Users\\ASUS\\AppData\\Local\\Temp/ipykernel_12924/3668012427.py:22: DeprecationWarning: Call to deprecated function get_by_language_code (This object can be treated as a dictionary, i.e. captions['en']).\n",
      "  cap = yt.captions.get_by_language_code('a.ko')\n"
     ]
    },
    {
     "name": "stdout",
     "output_type": "stream",
     "text": [
      "video_url : https://www.youtube.com/watch?v=gXvhd8cOCBI\n",
      "video_name : newskbs_gXvhd8cOCBI\n"
     ]
    },
    {
     "name": "stderr",
     "output_type": "stream",
     "text": [
      "C:\\Users\\ASUS\\AppData\\Local\\Temp/ipykernel_12924/3668012427.py:22: DeprecationWarning: Call to deprecated function get_by_language_code (This object can be treated as a dictionary, i.e. captions['en']).\n",
      "  cap = yt.captions.get_by_language_code('a.ko')\n"
     ]
    },
    {
     "name": "stdout",
     "output_type": "stream",
     "text": [
      "video_url : https://www.youtube.com/watch?v=AvpEHCW5fSA\n",
      "video_name : newskbs_AvpEHCW5fSA\n"
     ]
    },
    {
     "name": "stderr",
     "output_type": "stream",
     "text": [
      "C:\\Users\\ASUS\\AppData\\Local\\Temp/ipykernel_12924/3668012427.py:22: DeprecationWarning: Call to deprecated function get_by_language_code (This object can be treated as a dictionary, i.e. captions['en']).\n",
      "  cap = yt.captions.get_by_language_code('a.ko')\n"
     ]
    },
    {
     "name": "stdout",
     "output_type": "stream",
     "text": [
      "video_url : https://www.youtube.com/watch?v=jVbqvPnWB94\n",
      "video_name : newskbs_jVbqvPnWB94\n"
     ]
    },
    {
     "name": "stderr",
     "output_type": "stream",
     "text": [
      "C:\\Users\\ASUS\\AppData\\Local\\Temp/ipykernel_12924/3668012427.py:22: DeprecationWarning: Call to deprecated function get_by_language_code (This object can be treated as a dictionary, i.e. captions['en']).\n",
      "  cap = yt.captions.get_by_language_code('a.ko')\n"
     ]
    },
    {
     "name": "stdout",
     "output_type": "stream",
     "text": [
      "video_url : https://www.youtube.com/watch?v=1ijeEDt_JWk\n",
      "video_name : newskbs_1ijeEDt_JWk\n"
     ]
    },
    {
     "name": "stderr",
     "output_type": "stream",
     "text": [
      "C:\\Users\\ASUS\\AppData\\Local\\Temp/ipykernel_12924/3668012427.py:22: DeprecationWarning: Call to deprecated function get_by_language_code (This object can be treated as a dictionary, i.e. captions['en']).\n",
      "  cap = yt.captions.get_by_language_code('a.ko')\n"
     ]
    },
    {
     "name": "stdout",
     "output_type": "stream",
     "text": [
      "video_url : https://www.youtube.com/watch?v=9uXlIlyNIxo\n",
      "video_name : newskbs_9uXlIlyNIxo\n"
     ]
    },
    {
     "name": "stderr",
     "output_type": "stream",
     "text": [
      "C:\\Users\\ASUS\\AppData\\Local\\Temp/ipykernel_12924/3668012427.py:22: DeprecationWarning: Call to deprecated function get_by_language_code (This object can be treated as a dictionary, i.e. captions['en']).\n",
      "  cap = yt.captions.get_by_language_code('a.ko')\n"
     ]
    },
    {
     "name": "stdout",
     "output_type": "stream",
     "text": [
      "video_url : https://www.youtube.com/watch?v=r7c78nZeL90\n",
      "video_name : newskbs_r7c78nZeL90\n"
     ]
    },
    {
     "name": "stderr",
     "output_type": "stream",
     "text": [
      "C:\\Users\\ASUS\\AppData\\Local\\Temp/ipykernel_12924/3668012427.py:22: DeprecationWarning: Call to deprecated function get_by_language_code (This object can be treated as a dictionary, i.e. captions['en']).\n",
      "  cap = yt.captions.get_by_language_code('a.ko')\n"
     ]
    },
    {
     "name": "stdout",
     "output_type": "stream",
     "text": [
      "video_url : https://www.youtube.com/watch?v=ui-IawOBrcA\n",
      "video_name : newskbs_ui-IawOBrcA\n"
     ]
    },
    {
     "name": "stderr",
     "output_type": "stream",
     "text": [
      "C:\\Users\\ASUS\\AppData\\Local\\Temp/ipykernel_12924/3668012427.py:22: DeprecationWarning: Call to deprecated function get_by_language_code (This object can be treated as a dictionary, i.e. captions['en']).\n",
      "  cap = yt.captions.get_by_language_code('a.ko')\n"
     ]
    },
    {
     "name": "stdout",
     "output_type": "stream",
     "text": [
      "video_url : https://www.youtube.com/watch?v=77C6Oft1poA\n",
      "video_name : newskbs_77C6Oft1poA\n"
     ]
    },
    {
     "name": "stderr",
     "output_type": "stream",
     "text": [
      "C:\\Users\\ASUS\\AppData\\Local\\Temp/ipykernel_12924/3668012427.py:22: DeprecationWarning: Call to deprecated function get_by_language_code (This object can be treated as a dictionary, i.e. captions['en']).\n",
      "  cap = yt.captions.get_by_language_code('a.ko')\n"
     ]
    },
    {
     "name": "stdout",
     "output_type": "stream",
     "text": [
      "video_url : https://www.youtube.com/watch?v=rYYLBESZwm0\n",
      "video_name : newskbs_rYYLBESZwm0\n"
     ]
    },
    {
     "name": "stderr",
     "output_type": "stream",
     "text": [
      "C:\\Users\\ASUS\\AppData\\Local\\Temp/ipykernel_12924/3668012427.py:22: DeprecationWarning: Call to deprecated function get_by_language_code (This object can be treated as a dictionary, i.e. captions['en']).\n",
      "  cap = yt.captions.get_by_language_code('a.ko')\n"
     ]
    },
    {
     "name": "stdout",
     "output_type": "stream",
     "text": [
      "video_url : https://www.youtube.com/watch?v=y901YTUuqPY\n",
      "video_name : newskbs_y901YTUuqPY\n"
     ]
    },
    {
     "name": "stderr",
     "output_type": "stream",
     "text": [
      "C:\\Users\\ASUS\\AppData\\Local\\Temp/ipykernel_12924/3668012427.py:22: DeprecationWarning: Call to deprecated function get_by_language_code (This object can be treated as a dictionary, i.e. captions['en']).\n",
      "  cap = yt.captions.get_by_language_code('a.ko')\n"
     ]
    },
    {
     "name": "stdout",
     "output_type": "stream",
     "text": [
      "video_url : https://www.youtube.com/watch?v=BLZdbIf-LbI\n",
      "video_name : newskbs_BLZdbIf-LbI\n"
     ]
    },
    {
     "name": "stderr",
     "output_type": "stream",
     "text": [
      "C:\\Users\\ASUS\\AppData\\Local\\Temp/ipykernel_12924/3668012427.py:22: DeprecationWarning: Call to deprecated function get_by_language_code (This object can be treated as a dictionary, i.e. captions['en']).\n",
      "  cap = yt.captions.get_by_language_code('a.ko')\n"
     ]
    },
    {
     "name": "stdout",
     "output_type": "stream",
     "text": [
      "video_url : https://www.youtube.com/watch?v=T8BFN-XLfps\n",
      "video_name : newskbs_T8BFN-XLfps\n"
     ]
    },
    {
     "name": "stderr",
     "output_type": "stream",
     "text": [
      "C:\\Users\\ASUS\\AppData\\Local\\Temp/ipykernel_12924/3668012427.py:22: DeprecationWarning: Call to deprecated function get_by_language_code (This object can be treated as a dictionary, i.e. captions['en']).\n",
      "  cap = yt.captions.get_by_language_code('a.ko')\n"
     ]
    },
    {
     "name": "stdout",
     "output_type": "stream",
     "text": [
      "video_url : https://www.youtube.com/watch?v=xQe38r_M8Wc\n",
      "video_name : newskbs_xQe38r_M8Wc\n"
     ]
    },
    {
     "name": "stderr",
     "output_type": "stream",
     "text": [
      "C:\\Users\\ASUS\\AppData\\Local\\Temp/ipykernel_12924/3668012427.py:22: DeprecationWarning: Call to deprecated function get_by_language_code (This object can be treated as a dictionary, i.e. captions['en']).\n",
      "  cap = yt.captions.get_by_language_code('a.ko')\n"
     ]
    },
    {
     "name": "stdout",
     "output_type": "stream",
     "text": [
      "video_url : https://www.youtube.com/watch?v=5a0mY54HSUo\n",
      "video_name : newskbs_5a0mY54HSUo\n"
     ]
    },
    {
     "name": "stderr",
     "output_type": "stream",
     "text": [
      "C:\\Users\\ASUS\\AppData\\Local\\Temp/ipykernel_12924/3668012427.py:22: DeprecationWarning: Call to deprecated function get_by_language_code (This object can be treated as a dictionary, i.e. captions['en']).\n",
      "  cap = yt.captions.get_by_language_code('a.ko')\n"
     ]
    },
    {
     "name": "stdout",
     "output_type": "stream",
     "text": [
      "video_url : https://www.youtube.com/watch?v=IMtdkOJ0OaI\n",
      "video_name : newskbs_IMtdkOJ0OaI\n"
     ]
    },
    {
     "name": "stderr",
     "output_type": "stream",
     "text": [
      "C:\\Users\\ASUS\\AppData\\Local\\Temp/ipykernel_12924/3668012427.py:22: DeprecationWarning: Call to deprecated function get_by_language_code (This object can be treated as a dictionary, i.e. captions['en']).\n",
      "  cap = yt.captions.get_by_language_code('a.ko')\n"
     ]
    },
    {
     "name": "stdout",
     "output_type": "stream",
     "text": [
      "video_url : https://www.youtube.com/watch?v=NyOKTbmjCNQ\n",
      "video_name : newskbs_NyOKTbmjCNQ\n"
     ]
    },
    {
     "name": "stderr",
     "output_type": "stream",
     "text": [
      "C:\\Users\\ASUS\\AppData\\Local\\Temp/ipykernel_12924/3668012427.py:22: DeprecationWarning: Call to deprecated function get_by_language_code (This object can be treated as a dictionary, i.e. captions['en']).\n",
      "  cap = yt.captions.get_by_language_code('a.ko')\n"
     ]
    },
    {
     "name": "stdout",
     "output_type": "stream",
     "text": [
      "video_url : https://www.youtube.com/watch?v=wCZ_UEkrHq8\n",
      "video_name : newskbs_wCZ_UEkrHq8\n"
     ]
    },
    {
     "name": "stderr",
     "output_type": "stream",
     "text": [
      "C:\\Users\\ASUS\\AppData\\Local\\Temp/ipykernel_12924/3668012427.py:22: DeprecationWarning: Call to deprecated function get_by_language_code (This object can be treated as a dictionary, i.e. captions['en']).\n",
      "  cap = yt.captions.get_by_language_code('a.ko')\n"
     ]
    },
    {
     "name": "stdout",
     "output_type": "stream",
     "text": [
      "video_url : https://www.youtube.com/watch?v=XbsrMgjH1BM\n",
      "video_name : newskbs_XbsrMgjH1BM\n"
     ]
    },
    {
     "name": "stderr",
     "output_type": "stream",
     "text": [
      "C:\\Users\\ASUS\\AppData\\Local\\Temp/ipykernel_12924/3668012427.py:22: DeprecationWarning: Call to deprecated function get_by_language_code (This object can be treated as a dictionary, i.e. captions['en']).\n",
      "  cap = yt.captions.get_by_language_code('a.ko')\n"
     ]
    },
    {
     "name": "stdout",
     "output_type": "stream",
     "text": [
      "video_url : https://www.youtube.com/watch?v=9bzOR7YGXyU\n",
      "video_name : newskbs_9bzOR7YGXyU\n"
     ]
    },
    {
     "name": "stderr",
     "output_type": "stream",
     "text": [
      "C:\\Users\\ASUS\\AppData\\Local\\Temp/ipykernel_12924/3668012427.py:22: DeprecationWarning: Call to deprecated function get_by_language_code (This object can be treated as a dictionary, i.e. captions['en']).\n",
      "  cap = yt.captions.get_by_language_code('a.ko')\n"
     ]
    },
    {
     "name": "stdout",
     "output_type": "stream",
     "text": [
      "video_url : https://www.youtube.com/watch?v=hVvU8SX-W8Y\n",
      "video_name : newskbs_hVvU8SX-W8Y\n"
     ]
    },
    {
     "name": "stderr",
     "output_type": "stream",
     "text": [
      "C:\\Users\\ASUS\\AppData\\Local\\Temp/ipykernel_12924/3668012427.py:22: DeprecationWarning: Call to deprecated function get_by_language_code (This object can be treated as a dictionary, i.e. captions['en']).\n",
      "  cap = yt.captions.get_by_language_code('a.ko')\n"
     ]
    },
    {
     "name": "stdout",
     "output_type": "stream",
     "text": [
      "video_url : https://www.youtube.com/watch?v=i470qRODmn4\n",
      "video_name : newskbs_i470qRODmn4\n"
     ]
    },
    {
     "name": "stderr",
     "output_type": "stream",
     "text": [
      "C:\\Users\\ASUS\\AppData\\Local\\Temp/ipykernel_12924/3668012427.py:22: DeprecationWarning: Call to deprecated function get_by_language_code (This object can be treated as a dictionary, i.e. captions['en']).\n",
      "  cap = yt.captions.get_by_language_code('a.ko')\n"
     ]
    },
    {
     "name": "stdout",
     "output_type": "stream",
     "text": [
      "c/MBCNEWS11 : 30\n",
      "video_url : https://www.youtube.com/watch?v=v1bkS1BfD84\n",
      "video_name : MBCNEWS11_v1bkS1BfD84\n"
     ]
    },
    {
     "name": "stderr",
     "output_type": "stream",
     "text": [
      "C:\\Users\\ASUS\\AppData\\Local\\Temp/ipykernel_12924/3668012427.py:22: DeprecationWarning: Call to deprecated function get_by_language_code (This object can be treated as a dictionary, i.e. captions['en']).\n",
      "  cap = yt.captions.get_by_language_code('a.ko')\n"
     ]
    },
    {
     "name": "stdout",
     "output_type": "stream",
     "text": [
      "video_url : https://www.youtube.com/watch?v=aCsOWiOzB0c\n",
      "video_name : MBCNEWS11_aCsOWiOzB0c\n"
     ]
    },
    {
     "name": "stderr",
     "output_type": "stream",
     "text": [
      "C:\\Users\\ASUS\\AppData\\Local\\Temp/ipykernel_12924/3668012427.py:22: DeprecationWarning: Call to deprecated function get_by_language_code (This object can be treated as a dictionary, i.e. captions['en']).\n",
      "  cap = yt.captions.get_by_language_code('a.ko')\n"
     ]
    },
    {
     "name": "stdout",
     "output_type": "stream",
     "text": [
      "video_url : https://www.youtube.com/watch?v=wvJGeD_DNAY\n",
      "video_name : MBCNEWS11_wvJGeD_DNAY\n"
     ]
    },
    {
     "name": "stderr",
     "output_type": "stream",
     "text": [
      "C:\\Users\\ASUS\\AppData\\Local\\Temp/ipykernel_12924/3668012427.py:22: DeprecationWarning: Call to deprecated function get_by_language_code (This object can be treated as a dictionary, i.e. captions['en']).\n",
      "  cap = yt.captions.get_by_language_code('a.ko')\n"
     ]
    },
    {
     "name": "stdout",
     "output_type": "stream",
     "text": [
      "video_url : https://www.youtube.com/watch?v=-9W2oWaW0As\n",
      "video_name : MBCNEWS11_-9W2oWaW0As\n"
     ]
    },
    {
     "name": "stderr",
     "output_type": "stream",
     "text": [
      "C:\\Users\\ASUS\\AppData\\Local\\Temp/ipykernel_12924/3668012427.py:22: DeprecationWarning: Call to deprecated function get_by_language_code (This object can be treated as a dictionary, i.e. captions['en']).\n",
      "  cap = yt.captions.get_by_language_code('a.ko')\n"
     ]
    },
    {
     "name": "stdout",
     "output_type": "stream",
     "text": [
      "video_url : https://www.youtube.com/watch?v=9S_S1QQBuzE\n",
      "video_name : MBCNEWS11_9S_S1QQBuzE\n"
     ]
    },
    {
     "name": "stderr",
     "output_type": "stream",
     "text": [
      "C:\\Users\\ASUS\\AppData\\Local\\Temp/ipykernel_12924/3668012427.py:22: DeprecationWarning: Call to deprecated function get_by_language_code (This object can be treated as a dictionary, i.e. captions['en']).\n",
      "  cap = yt.captions.get_by_language_code('a.ko')\n"
     ]
    },
    {
     "name": "stdout",
     "output_type": "stream",
     "text": [
      "video_url : https://www.youtube.com/watch?v=14tws3wJ-SY\n",
      "video_name : MBCNEWS11_14tws3wJ-SY\n"
     ]
    },
    {
     "name": "stderr",
     "output_type": "stream",
     "text": [
      "C:\\Users\\ASUS\\AppData\\Local\\Temp/ipykernel_12924/3668012427.py:22: DeprecationWarning: Call to deprecated function get_by_language_code (This object can be treated as a dictionary, i.e. captions['en']).\n",
      "  cap = yt.captions.get_by_language_code('a.ko')\n"
     ]
    },
    {
     "name": "stdout",
     "output_type": "stream",
     "text": [
      "video_url : https://www.youtube.com/watch?v=TPwrp-4FHqM\n",
      "video_name : MBCNEWS11_TPwrp-4FHqM\n"
     ]
    },
    {
     "name": "stderr",
     "output_type": "stream",
     "text": [
      "C:\\Users\\ASUS\\AppData\\Local\\Temp/ipykernel_12924/3668012427.py:22: DeprecationWarning: Call to deprecated function get_by_language_code (This object can be treated as a dictionary, i.e. captions['en']).\n",
      "  cap = yt.captions.get_by_language_code('a.ko')\n"
     ]
    },
    {
     "name": "stdout",
     "output_type": "stream",
     "text": [
      "video_url : https://www.youtube.com/watch?v=54gdaOO9pR4\n",
      "video_name : MBCNEWS11_54gdaOO9pR4\n"
     ]
    },
    {
     "name": "stderr",
     "output_type": "stream",
     "text": [
      "C:\\Users\\ASUS\\AppData\\Local\\Temp/ipykernel_12924/3668012427.py:22: DeprecationWarning: Call to deprecated function get_by_language_code (This object can be treated as a dictionary, i.e. captions['en']).\n",
      "  cap = yt.captions.get_by_language_code('a.ko')\n"
     ]
    },
    {
     "name": "stdout",
     "output_type": "stream",
     "text": [
      "video_url : https://www.youtube.com/watch?v=zQKtLkh0UjM\n",
      "video_name : MBCNEWS11_zQKtLkh0UjM\n"
     ]
    },
    {
     "name": "stderr",
     "output_type": "stream",
     "text": [
      "C:\\Users\\ASUS\\AppData\\Local\\Temp/ipykernel_12924/3668012427.py:22: DeprecationWarning: Call to deprecated function get_by_language_code (This object can be treated as a dictionary, i.e. captions['en']).\n",
      "  cap = yt.captions.get_by_language_code('a.ko')\n"
     ]
    },
    {
     "name": "stdout",
     "output_type": "stream",
     "text": [
      "video_url : https://www.youtube.com/watch?v=2560QklqKsk\n",
      "video_name : MBCNEWS11_2560QklqKsk\n"
     ]
    },
    {
     "name": "stderr",
     "output_type": "stream",
     "text": [
      "C:\\Users\\ASUS\\AppData\\Local\\Temp/ipykernel_12924/3668012427.py:22: DeprecationWarning: Call to deprecated function get_by_language_code (This object can be treated as a dictionary, i.e. captions['en']).\n",
      "  cap = yt.captions.get_by_language_code('a.ko')\n"
     ]
    },
    {
     "name": "stdout",
     "output_type": "stream",
     "text": [
      "video_url : https://www.youtube.com/watch?v=mb24InL744M\n",
      "video_name : MBCNEWS11_mb24InL744M\n"
     ]
    },
    {
     "name": "stderr",
     "output_type": "stream",
     "text": [
      "C:\\Users\\ASUS\\AppData\\Local\\Temp/ipykernel_12924/3668012427.py:22: DeprecationWarning: Call to deprecated function get_by_language_code (This object can be treated as a dictionary, i.e. captions['en']).\n",
      "  cap = yt.captions.get_by_language_code('a.ko')\n"
     ]
    },
    {
     "name": "stdout",
     "output_type": "stream",
     "text": [
      "video_url : https://www.youtube.com/watch?v=8Gqzi4rmW1M\n",
      "video_name : MBCNEWS11_8Gqzi4rmW1M\n"
     ]
    },
    {
     "name": "stderr",
     "output_type": "stream",
     "text": [
      "C:\\Users\\ASUS\\AppData\\Local\\Temp/ipykernel_12924/3668012427.py:22: DeprecationWarning: Call to deprecated function get_by_language_code (This object can be treated as a dictionary, i.e. captions['en']).\n",
      "  cap = yt.captions.get_by_language_code('a.ko')\n"
     ]
    },
    {
     "name": "stdout",
     "output_type": "stream",
     "text": [
      "video_url : https://www.youtube.com/watch?v=crQU5X9w4ec\n",
      "video_name : MBCNEWS11_crQU5X9w4ec\n"
     ]
    },
    {
     "name": "stderr",
     "output_type": "stream",
     "text": [
      "C:\\Users\\ASUS\\AppData\\Local\\Temp/ipykernel_12924/3668012427.py:22: DeprecationWarning: Call to deprecated function get_by_language_code (This object can be treated as a dictionary, i.e. captions['en']).\n",
      "  cap = yt.captions.get_by_language_code('a.ko')\n"
     ]
    },
    {
     "name": "stdout",
     "output_type": "stream",
     "text": [
      "video_url : https://www.youtube.com/watch?v=ydM5AZBbU-E\n",
      "video_name : MBCNEWS11_ydM5AZBbU-E\n"
     ]
    },
    {
     "name": "stderr",
     "output_type": "stream",
     "text": [
      "C:\\Users\\ASUS\\AppData\\Local\\Temp/ipykernel_12924/3668012427.py:22: DeprecationWarning: Call to deprecated function get_by_language_code (This object can be treated as a dictionary, i.e. captions['en']).\n",
      "  cap = yt.captions.get_by_language_code('a.ko')\n"
     ]
    },
    {
     "name": "stdout",
     "output_type": "stream",
     "text": [
      "video_url : https://www.youtube.com/watch?v=GDeLzP-I7to\n",
      "video_name : MBCNEWS11_GDeLzP-I7to\n"
     ]
    },
    {
     "name": "stderr",
     "output_type": "stream",
     "text": [
      "C:\\Users\\ASUS\\AppData\\Local\\Temp/ipykernel_12924/3668012427.py:22: DeprecationWarning: Call to deprecated function get_by_language_code (This object can be treated as a dictionary, i.e. captions['en']).\n",
      "  cap = yt.captions.get_by_language_code('a.ko')\n"
     ]
    },
    {
     "name": "stdout",
     "output_type": "stream",
     "text": [
      "video_url : https://www.youtube.com/watch?v=nP_M0_ZifiA\n",
      "video_name : MBCNEWS11_nP_M0_ZifiA\n"
     ]
    },
    {
     "name": "stderr",
     "output_type": "stream",
     "text": [
      "C:\\Users\\ASUS\\AppData\\Local\\Temp/ipykernel_12924/3668012427.py:22: DeprecationWarning: Call to deprecated function get_by_language_code (This object can be treated as a dictionary, i.e. captions['en']).\n",
      "  cap = yt.captions.get_by_language_code('a.ko')\n"
     ]
    },
    {
     "name": "stdout",
     "output_type": "stream",
     "text": [
      "video_url : https://www.youtube.com/watch?v=L1Kuxyz_2y0\n",
      "video_name : MBCNEWS11_L1Kuxyz_2y0\n"
     ]
    },
    {
     "name": "stderr",
     "output_type": "stream",
     "text": [
      "C:\\Users\\ASUS\\AppData\\Local\\Temp/ipykernel_12924/3668012427.py:22: DeprecationWarning: Call to deprecated function get_by_language_code (This object can be treated as a dictionary, i.e. captions['en']).\n",
      "  cap = yt.captions.get_by_language_code('a.ko')\n"
     ]
    },
    {
     "name": "stdout",
     "output_type": "stream",
     "text": [
      "video_url : https://www.youtube.com/watch?v=TXvhTsNSiLI\n",
      "video_name : MBCNEWS11_TXvhTsNSiLI\n"
     ]
    },
    {
     "name": "stderr",
     "output_type": "stream",
     "text": [
      "C:\\Users\\ASUS\\AppData\\Local\\Temp/ipykernel_12924/3668012427.py:22: DeprecationWarning: Call to deprecated function get_by_language_code (This object can be treated as a dictionary, i.e. captions['en']).\n",
      "  cap = yt.captions.get_by_language_code('a.ko')\n"
     ]
    },
    {
     "name": "stdout",
     "output_type": "stream",
     "text": [
      "video_url : https://www.youtube.com/watch?v=Svn8l8-ZdkU\n",
      "video_name : MBCNEWS11_Svn8l8-ZdkU\n"
     ]
    },
    {
     "name": "stderr",
     "output_type": "stream",
     "text": [
      "C:\\Users\\ASUS\\AppData\\Local\\Temp/ipykernel_12924/3668012427.py:22: DeprecationWarning: Call to deprecated function get_by_language_code (This object can be treated as a dictionary, i.e. captions['en']).\n",
      "  cap = yt.captions.get_by_language_code('a.ko')\n"
     ]
    },
    {
     "name": "stdout",
     "output_type": "stream",
     "text": [
      "video_url : https://www.youtube.com/watch?v=sF_epYZPxRE\n",
      "video_name : MBCNEWS11_sF_epYZPxRE\n"
     ]
    },
    {
     "name": "stderr",
     "output_type": "stream",
     "text": [
      "C:\\Users\\ASUS\\AppData\\Local\\Temp/ipykernel_12924/3668012427.py:22: DeprecationWarning: Call to deprecated function get_by_language_code (This object can be treated as a dictionary, i.e. captions['en']).\n",
      "  cap = yt.captions.get_by_language_code('a.ko')\n"
     ]
    },
    {
     "name": "stdout",
     "output_type": "stream",
     "text": [
      "video_url : https://www.youtube.com/watch?v=MCIicmPituE\n",
      "video_name : MBCNEWS11_MCIicmPituE\n"
     ]
    },
    {
     "name": "stderr",
     "output_type": "stream",
     "text": [
      "C:\\Users\\ASUS\\AppData\\Local\\Temp/ipykernel_12924/3668012427.py:22: DeprecationWarning: Call to deprecated function get_by_language_code (This object can be treated as a dictionary, i.e. captions['en']).\n",
      "  cap = yt.captions.get_by_language_code('a.ko')\n"
     ]
    },
    {
     "name": "stdout",
     "output_type": "stream",
     "text": [
      "video_url : https://www.youtube.com/watch?v=lIMwfDlPsr8\n",
      "video_name : MBCNEWS11_lIMwfDlPsr8\n"
     ]
    },
    {
     "name": "stderr",
     "output_type": "stream",
     "text": [
      "C:\\Users\\ASUS\\AppData\\Local\\Temp/ipykernel_12924/3668012427.py:22: DeprecationWarning: Call to deprecated function get_by_language_code (This object can be treated as a dictionary, i.e. captions['en']).\n",
      "  cap = yt.captions.get_by_language_code('a.ko')\n"
     ]
    },
    {
     "name": "stdout",
     "output_type": "stream",
     "text": [
      "video_url : https://www.youtube.com/watch?v=WPhB_m-QTe4\n",
      "video_name : MBCNEWS11_WPhB_m-QTe4\n"
     ]
    },
    {
     "name": "stderr",
     "output_type": "stream",
     "text": [
      "C:\\Users\\ASUS\\AppData\\Local\\Temp/ipykernel_12924/3668012427.py:22: DeprecationWarning: Call to deprecated function get_by_language_code (This object can be treated as a dictionary, i.e. captions['en']).\n",
      "  cap = yt.captions.get_by_language_code('a.ko')\n"
     ]
    },
    {
     "name": "stdout",
     "output_type": "stream",
     "text": [
      "video_url : https://www.youtube.com/watch?v=8ONkpPcjZ0g\n",
      "video_name : MBCNEWS11_8ONkpPcjZ0g\n"
     ]
    },
    {
     "name": "stderr",
     "output_type": "stream",
     "text": [
      "C:\\Users\\ASUS\\AppData\\Local\\Temp/ipykernel_12924/3668012427.py:22: DeprecationWarning: Call to deprecated function get_by_language_code (This object can be treated as a dictionary, i.e. captions['en']).\n",
      "  cap = yt.captions.get_by_language_code('a.ko')\n"
     ]
    },
    {
     "name": "stdout",
     "output_type": "stream",
     "text": [
      "video_url : https://www.youtube.com/watch?v=LEvsqT3_R_Y\n",
      "video_name : MBCNEWS11_LEvsqT3_R_Y\n"
     ]
    },
    {
     "name": "stderr",
     "output_type": "stream",
     "text": [
      "C:\\Users\\ASUS\\AppData\\Local\\Temp/ipykernel_12924/3668012427.py:22: DeprecationWarning: Call to deprecated function get_by_language_code (This object can be treated as a dictionary, i.e. captions['en']).\n",
      "  cap = yt.captions.get_by_language_code('a.ko')\n"
     ]
    },
    {
     "name": "stdout",
     "output_type": "stream",
     "text": [
      "video_url : https://www.youtube.com/watch?v=mDZnxFWzXm8\n",
      "video_name : MBCNEWS11_mDZnxFWzXm8\n"
     ]
    },
    {
     "name": "stderr",
     "output_type": "stream",
     "text": [
      "C:\\Users\\ASUS\\AppData\\Local\\Temp/ipykernel_12924/3668012427.py:22: DeprecationWarning: Call to deprecated function get_by_language_code (This object can be treated as a dictionary, i.e. captions['en']).\n",
      "  cap = yt.captions.get_by_language_code('a.ko')\n"
     ]
    },
    {
     "name": "stdout",
     "output_type": "stream",
     "text": [
      "video_url : https://www.youtube.com/watch?v=qREgdmyGwvA\n",
      "video_name : MBCNEWS11_qREgdmyGwvA\n"
     ]
    },
    {
     "name": "stderr",
     "output_type": "stream",
     "text": [
      "C:\\Users\\ASUS\\AppData\\Local\\Temp/ipykernel_12924/3668012427.py:22: DeprecationWarning: Call to deprecated function get_by_language_code (This object can be treated as a dictionary, i.e. captions['en']).\n",
      "  cap = yt.captions.get_by_language_code('a.ko')\n"
     ]
    },
    {
     "name": "stdout",
     "output_type": "stream",
     "text": [
      "video_url : https://www.youtube.com/watch?v=E37DEws_1oU\n",
      "video_name : MBCNEWS11_E37DEws_1oU\n"
     ]
    },
    {
     "name": "stderr",
     "output_type": "stream",
     "text": [
      "C:\\Users\\ASUS\\AppData\\Local\\Temp/ipykernel_12924/3668012427.py:22: DeprecationWarning: Call to deprecated function get_by_language_code (This object can be treated as a dictionary, i.e. captions['en']).\n",
      "  cap = yt.captions.get_by_language_code('a.ko')\n"
     ]
    },
    {
     "name": "stdout",
     "output_type": "stream",
     "text": [
      "video_url : https://www.youtube.com/watch?v=gYvsfLj2dJo\n",
      "video_name : MBCNEWS11_gYvsfLj2dJo\n"
     ]
    },
    {
     "name": "stderr",
     "output_type": "stream",
     "text": [
      "C:\\Users\\ASUS\\AppData\\Local\\Temp/ipykernel_12924/3668012427.py:22: DeprecationWarning: Call to deprecated function get_by_language_code (This object can be treated as a dictionary, i.e. captions['en']).\n",
      "  cap = yt.captions.get_by_language_code('a.ko')\n"
     ]
    },
    {
     "name": "stdout",
     "output_type": "stream",
     "text": [
      "video_url : https://www.youtube.com/watch?v=8ifE_7qWUmQ\n",
      "video_name : MBCNEWS11_8ifE_7qWUmQ\n"
     ]
    },
    {
     "name": "stderr",
     "output_type": "stream",
     "text": [
      "C:\\Users\\ASUS\\AppData\\Local\\Temp/ipykernel_12924/3668012427.py:22: DeprecationWarning: Call to deprecated function get_by_language_code (This object can be treated as a dictionary, i.e. captions['en']).\n",
      "  cap = yt.captions.get_by_language_code('a.ko')\n"
     ]
    },
    {
     "name": "stdout",
     "output_type": "stream",
     "text": [
      "sbs8news : 30\n",
      "video_url : https://www.youtube.com/watch?v=xb1ntVHP0eg\n",
      "video_name : sbs8news_xb1ntVHP0eg\n"
     ]
    },
    {
     "name": "stderr",
     "output_type": "stream",
     "text": [
      "C:\\Users\\ASUS\\AppData\\Local\\Temp/ipykernel_12924/3668012427.py:22: DeprecationWarning: Call to deprecated function get_by_language_code (This object can be treated as a dictionary, i.e. captions['en']).\n",
      "  cap = yt.captions.get_by_language_code('a.ko')\n"
     ]
    },
    {
     "name": "stdout",
     "output_type": "stream",
     "text": [
      "video_url : https://www.youtube.com/watch?v=O3PFFz4Kl2c\n",
      "video_name : sbs8news_O3PFFz4Kl2c\n"
     ]
    },
    {
     "name": "stderr",
     "output_type": "stream",
     "text": [
      "C:\\Users\\ASUS\\AppData\\Local\\Temp/ipykernel_12924/3668012427.py:22: DeprecationWarning: Call to deprecated function get_by_language_code (This object can be treated as a dictionary, i.e. captions['en']).\n",
      "  cap = yt.captions.get_by_language_code('a.ko')\n"
     ]
    },
    {
     "name": "stdout",
     "output_type": "stream",
     "text": [
      "video_url : https://www.youtube.com/watch?v=efIyNpe4qyo\n",
      "video_name : sbs8news_efIyNpe4qyo\n"
     ]
    },
    {
     "name": "stderr",
     "output_type": "stream",
     "text": [
      "C:\\Users\\ASUS\\AppData\\Local\\Temp/ipykernel_12924/3668012427.py:22: DeprecationWarning: Call to deprecated function get_by_language_code (This object can be treated as a dictionary, i.e. captions['en']).\n",
      "  cap = yt.captions.get_by_language_code('a.ko')\n"
     ]
    },
    {
     "name": "stdout",
     "output_type": "stream",
     "text": [
      "video_url : https://www.youtube.com/watch?v=rTaEZ7iTRhE\n",
      "video_name : sbs8news_rTaEZ7iTRhE\n"
     ]
    },
    {
     "name": "stderr",
     "output_type": "stream",
     "text": [
      "C:\\Users\\ASUS\\AppData\\Local\\Temp/ipykernel_12924/3668012427.py:22: DeprecationWarning: Call to deprecated function get_by_language_code (This object can be treated as a dictionary, i.e. captions['en']).\n",
      "  cap = yt.captions.get_by_language_code('a.ko')\n"
     ]
    },
    {
     "name": "stdout",
     "output_type": "stream",
     "text": [
      "video_url : https://www.youtube.com/watch?v=weJX9Q9bw38\n",
      "video_name : sbs8news_weJX9Q9bw38\n"
     ]
    },
    {
     "name": "stderr",
     "output_type": "stream",
     "text": [
      "C:\\Users\\ASUS\\AppData\\Local\\Temp/ipykernel_12924/3668012427.py:22: DeprecationWarning: Call to deprecated function get_by_language_code (This object can be treated as a dictionary, i.e. captions['en']).\n",
      "  cap = yt.captions.get_by_language_code('a.ko')\n"
     ]
    },
    {
     "name": "stdout",
     "output_type": "stream",
     "text": [
      "video_url : https://www.youtube.com/watch?v=R9u_VPDMx0U\n",
      "video_name : sbs8news_R9u_VPDMx0U\n"
     ]
    },
    {
     "name": "stderr",
     "output_type": "stream",
     "text": [
      "C:\\Users\\ASUS\\AppData\\Local\\Temp/ipykernel_12924/3668012427.py:22: DeprecationWarning: Call to deprecated function get_by_language_code (This object can be treated as a dictionary, i.e. captions['en']).\n",
      "  cap = yt.captions.get_by_language_code('a.ko')\n"
     ]
    },
    {
     "name": "stdout",
     "output_type": "stream",
     "text": [
      "video_url : https://www.youtube.com/watch?v=4uop30xquTM\n",
      "video_name : sbs8news_4uop30xquTM\n"
     ]
    },
    {
     "name": "stderr",
     "output_type": "stream",
     "text": [
      "C:\\Users\\ASUS\\AppData\\Local\\Temp/ipykernel_12924/3668012427.py:22: DeprecationWarning: Call to deprecated function get_by_language_code (This object can be treated as a dictionary, i.e. captions['en']).\n",
      "  cap = yt.captions.get_by_language_code('a.ko')\n"
     ]
    },
    {
     "name": "stdout",
     "output_type": "stream",
     "text": [
      "video_url : https://www.youtube.com/watch?v=mW4TVuaY464\n",
      "video_name : sbs8news_mW4TVuaY464\n"
     ]
    },
    {
     "name": "stderr",
     "output_type": "stream",
     "text": [
      "C:\\Users\\ASUS\\AppData\\Local\\Temp/ipykernel_12924/3668012427.py:22: DeprecationWarning: Call to deprecated function get_by_language_code (This object can be treated as a dictionary, i.e. captions['en']).\n",
      "  cap = yt.captions.get_by_language_code('a.ko')\n"
     ]
    },
    {
     "name": "stdout",
     "output_type": "stream",
     "text": [
      "video_url : https://www.youtube.com/watch?v=lfphBjyNg98\n",
      "video_name : sbs8news_lfphBjyNg98\n"
     ]
    },
    {
     "name": "stderr",
     "output_type": "stream",
     "text": [
      "C:\\Users\\ASUS\\AppData\\Local\\Temp/ipykernel_12924/3668012427.py:22: DeprecationWarning: Call to deprecated function get_by_language_code (This object can be treated as a dictionary, i.e. captions['en']).\n",
      "  cap = yt.captions.get_by_language_code('a.ko')\n"
     ]
    },
    {
     "name": "stdout",
     "output_type": "stream",
     "text": [
      "video_url : https://www.youtube.com/watch?v=0a1hiQVijgE\n",
      "video_name : sbs8news_0a1hiQVijgE\n"
     ]
    },
    {
     "name": "stderr",
     "output_type": "stream",
     "text": [
      "C:\\Users\\ASUS\\AppData\\Local\\Temp/ipykernel_12924/3668012427.py:22: DeprecationWarning: Call to deprecated function get_by_language_code (This object can be treated as a dictionary, i.e. captions['en']).\n",
      "  cap = yt.captions.get_by_language_code('a.ko')\n"
     ]
    },
    {
     "name": "stdout",
     "output_type": "stream",
     "text": [
      "video_url : https://www.youtube.com/watch?v=ItfZJk6Dv7A\n",
      "video_name : sbs8news_ItfZJk6Dv7A\n"
     ]
    },
    {
     "name": "stderr",
     "output_type": "stream",
     "text": [
      "C:\\Users\\ASUS\\AppData\\Local\\Temp/ipykernel_12924/3668012427.py:22: DeprecationWarning: Call to deprecated function get_by_language_code (This object can be treated as a dictionary, i.e. captions['en']).\n",
      "  cap = yt.captions.get_by_language_code('a.ko')\n"
     ]
    },
    {
     "name": "stdout",
     "output_type": "stream",
     "text": [
      "video_url : https://www.youtube.com/watch?v=pXBNopnrsEo\n",
      "video_name : sbs8news_pXBNopnrsEo\n"
     ]
    },
    {
     "name": "stderr",
     "output_type": "stream",
     "text": [
      "C:\\Users\\ASUS\\AppData\\Local\\Temp/ipykernel_12924/3668012427.py:22: DeprecationWarning: Call to deprecated function get_by_language_code (This object can be treated as a dictionary, i.e. captions['en']).\n",
      "  cap = yt.captions.get_by_language_code('a.ko')\n"
     ]
    },
    {
     "name": "stdout",
     "output_type": "stream",
     "text": [
      "video_url : https://www.youtube.com/watch?v=VQTYoa_g79k\n",
      "video_name : sbs8news_VQTYoa_g79k\n"
     ]
    },
    {
     "name": "stderr",
     "output_type": "stream",
     "text": [
      "C:\\Users\\ASUS\\AppData\\Local\\Temp/ipykernel_12924/3668012427.py:22: DeprecationWarning: Call to deprecated function get_by_language_code (This object can be treated as a dictionary, i.e. captions['en']).\n",
      "  cap = yt.captions.get_by_language_code('a.ko')\n"
     ]
    },
    {
     "name": "stdout",
     "output_type": "stream",
     "text": [
      "video_url : https://www.youtube.com/watch?v=1ufN1OWYATQ\n",
      "video_name : sbs8news_1ufN1OWYATQ\n"
     ]
    },
    {
     "name": "stderr",
     "output_type": "stream",
     "text": [
      "C:\\Users\\ASUS\\AppData\\Local\\Temp/ipykernel_12924/3668012427.py:22: DeprecationWarning: Call to deprecated function get_by_language_code (This object can be treated as a dictionary, i.e. captions['en']).\n",
      "  cap = yt.captions.get_by_language_code('a.ko')\n"
     ]
    },
    {
     "name": "stdout",
     "output_type": "stream",
     "text": [
      "video_url : https://www.youtube.com/watch?v=BTXdCP9tEbI\n",
      "video_name : sbs8news_BTXdCP9tEbI\n"
     ]
    },
    {
     "name": "stderr",
     "output_type": "stream",
     "text": [
      "C:\\Users\\ASUS\\AppData\\Local\\Temp/ipykernel_12924/3668012427.py:22: DeprecationWarning: Call to deprecated function get_by_language_code (This object can be treated as a dictionary, i.e. captions['en']).\n",
      "  cap = yt.captions.get_by_language_code('a.ko')\n"
     ]
    },
    {
     "name": "stdout",
     "output_type": "stream",
     "text": [
      "video_url : https://www.youtube.com/watch?v=STjcOMDFJs0\n",
      "video_name : sbs8news_STjcOMDFJs0\n"
     ]
    },
    {
     "name": "stderr",
     "output_type": "stream",
     "text": [
      "C:\\Users\\ASUS\\AppData\\Local\\Temp/ipykernel_12924/3668012427.py:22: DeprecationWarning: Call to deprecated function get_by_language_code (This object can be treated as a dictionary, i.e. captions['en']).\n",
      "  cap = yt.captions.get_by_language_code('a.ko')\n"
     ]
    },
    {
     "name": "stdout",
     "output_type": "stream",
     "text": [
      "video_url : https://www.youtube.com/watch?v=0Q0YmgmVAaE\n",
      "video_name : sbs8news_0Q0YmgmVAaE\n"
     ]
    },
    {
     "name": "stderr",
     "output_type": "stream",
     "text": [
      "C:\\Users\\ASUS\\AppData\\Local\\Temp/ipykernel_12924/3668012427.py:22: DeprecationWarning: Call to deprecated function get_by_language_code (This object can be treated as a dictionary, i.e. captions['en']).\n",
      "  cap = yt.captions.get_by_language_code('a.ko')\n"
     ]
    },
    {
     "name": "stdout",
     "output_type": "stream",
     "text": [
      "video_url : https://www.youtube.com/watch?v=yIEXzubMsK4\n",
      "video_name : sbs8news_yIEXzubMsK4\n"
     ]
    },
    {
     "name": "stderr",
     "output_type": "stream",
     "text": [
      "C:\\Users\\ASUS\\AppData\\Local\\Temp/ipykernel_12924/3668012427.py:22: DeprecationWarning: Call to deprecated function get_by_language_code (This object can be treated as a dictionary, i.e. captions['en']).\n",
      "  cap = yt.captions.get_by_language_code('a.ko')\n"
     ]
    },
    {
     "name": "stdout",
     "output_type": "stream",
     "text": [
      "video_url : https://www.youtube.com/watch?v=zCxfT9Qr56g\n",
      "video_name : sbs8news_zCxfT9Qr56g\n"
     ]
    },
    {
     "name": "stderr",
     "output_type": "stream",
     "text": [
      "C:\\Users\\ASUS\\AppData\\Local\\Temp/ipykernel_12924/3668012427.py:22: DeprecationWarning: Call to deprecated function get_by_language_code (This object can be treated as a dictionary, i.e. captions['en']).\n",
      "  cap = yt.captions.get_by_language_code('a.ko')\n"
     ]
    },
    {
     "name": "stdout",
     "output_type": "stream",
     "text": [
      "video_url : https://www.youtube.com/watch?v=0gJQmrRYlRw\n",
      "video_name : sbs8news_0gJQmrRYlRw\n"
     ]
    },
    {
     "name": "stderr",
     "output_type": "stream",
     "text": [
      "C:\\Users\\ASUS\\AppData\\Local\\Temp/ipykernel_12924/3668012427.py:22: DeprecationWarning: Call to deprecated function get_by_language_code (This object can be treated as a dictionary, i.e. captions['en']).\n",
      "  cap = yt.captions.get_by_language_code('a.ko')\n"
     ]
    },
    {
     "name": "stdout",
     "output_type": "stream",
     "text": [
      "video_url : https://www.youtube.com/watch?v=aOaF15SSYeo\n",
      "video_name : sbs8news_aOaF15SSYeo\n"
     ]
    },
    {
     "name": "stderr",
     "output_type": "stream",
     "text": [
      "C:\\Users\\ASUS\\AppData\\Local\\Temp/ipykernel_12924/3668012427.py:22: DeprecationWarning: Call to deprecated function get_by_language_code (This object can be treated as a dictionary, i.e. captions['en']).\n",
      "  cap = yt.captions.get_by_language_code('a.ko')\n"
     ]
    },
    {
     "name": "stdout",
     "output_type": "stream",
     "text": [
      "video_url : https://www.youtube.com/watch?v=R2J86uR-X54\n",
      "video_name : sbs8news_R2J86uR-X54\n"
     ]
    },
    {
     "name": "stderr",
     "output_type": "stream",
     "text": [
      "C:\\Users\\ASUS\\AppData\\Local\\Temp/ipykernel_12924/3668012427.py:22: DeprecationWarning: Call to deprecated function get_by_language_code (This object can be treated as a dictionary, i.e. captions['en']).\n",
      "  cap = yt.captions.get_by_language_code('a.ko')\n"
     ]
    },
    {
     "name": "stdout",
     "output_type": "stream",
     "text": [
      "video_url : https://www.youtube.com/watch?v=EaqLQjkLK0Y\n",
      "video_name : sbs8news_EaqLQjkLK0Y\n"
     ]
    },
    {
     "name": "stderr",
     "output_type": "stream",
     "text": [
      "C:\\Users\\ASUS\\AppData\\Local\\Temp/ipykernel_12924/3668012427.py:22: DeprecationWarning: Call to deprecated function get_by_language_code (This object can be treated as a dictionary, i.e. captions['en']).\n",
      "  cap = yt.captions.get_by_language_code('a.ko')\n"
     ]
    },
    {
     "name": "stdout",
     "output_type": "stream",
     "text": [
      "video_url : https://www.youtube.com/watch?v=xyAjyo055iI\n",
      "video_name : sbs8news_xyAjyo055iI\n"
     ]
    },
    {
     "name": "stderr",
     "output_type": "stream",
     "text": [
      "C:\\Users\\ASUS\\AppData\\Local\\Temp/ipykernel_12924/3668012427.py:22: DeprecationWarning: Call to deprecated function get_by_language_code (This object can be treated as a dictionary, i.e. captions['en']).\n",
      "  cap = yt.captions.get_by_language_code('a.ko')\n"
     ]
    },
    {
     "name": "stdout",
     "output_type": "stream",
     "text": [
      "video_url : https://www.youtube.com/watch?v=6WbX2LRKU0o\n",
      "video_name : sbs8news_6WbX2LRKU0o\n"
     ]
    },
    {
     "name": "stderr",
     "output_type": "stream",
     "text": [
      "C:\\Users\\ASUS\\AppData\\Local\\Temp/ipykernel_12924/3668012427.py:22: DeprecationWarning: Call to deprecated function get_by_language_code (This object can be treated as a dictionary, i.e. captions['en']).\n",
      "  cap = yt.captions.get_by_language_code('a.ko')\n"
     ]
    },
    {
     "name": "stdout",
     "output_type": "stream",
     "text": [
      "video_url : https://www.youtube.com/watch?v=YUaG4Qv3RxI\n",
      "video_name : sbs8news_YUaG4Qv3RxI\n"
     ]
    },
    {
     "name": "stderr",
     "output_type": "stream",
     "text": [
      "C:\\Users\\ASUS\\AppData\\Local\\Temp/ipykernel_12924/3668012427.py:22: DeprecationWarning: Call to deprecated function get_by_language_code (This object can be treated as a dictionary, i.e. captions['en']).\n",
      "  cap = yt.captions.get_by_language_code('a.ko')\n"
     ]
    },
    {
     "name": "stdout",
     "output_type": "stream",
     "text": [
      "video_url : https://www.youtube.com/watch?v=LVKQA_7kKL4\n",
      "video_name : sbs8news_LVKQA_7kKL4\n"
     ]
    },
    {
     "name": "stderr",
     "output_type": "stream",
     "text": [
      "C:\\Users\\ASUS\\AppData\\Local\\Temp/ipykernel_12924/3668012427.py:22: DeprecationWarning: Call to deprecated function get_by_language_code (This object can be treated as a dictionary, i.e. captions['en']).\n",
      "  cap = yt.captions.get_by_language_code('a.ko')\n"
     ]
    },
    {
     "name": "stdout",
     "output_type": "stream",
     "text": [
      "video_url : https://www.youtube.com/watch?v=aUYyIlX90eE\n",
      "video_name : sbs8news_aUYyIlX90eE\n"
     ]
    },
    {
     "name": "stderr",
     "output_type": "stream",
     "text": [
      "C:\\Users\\ASUS\\AppData\\Local\\Temp/ipykernel_12924/3668012427.py:22: DeprecationWarning: Call to deprecated function get_by_language_code (This object can be treated as a dictionary, i.e. captions['en']).\n",
      "  cap = yt.captions.get_by_language_code('a.ko')\n"
     ]
    },
    {
     "name": "stdout",
     "output_type": "stream",
     "text": [
      "video_url : https://www.youtube.com/watch?v=Rbg6c2gV1l0\n",
      "video_name : sbs8news_Rbg6c2gV1l0\n"
     ]
    },
    {
     "name": "stderr",
     "output_type": "stream",
     "text": [
      "C:\\Users\\ASUS\\AppData\\Local\\Temp/ipykernel_12924/3668012427.py:22: DeprecationWarning: Call to deprecated function get_by_language_code (This object can be treated as a dictionary, i.e. captions['en']).\n",
      "  cap = yt.captions.get_by_language_code('a.ko')\n"
     ]
    },
    {
     "name": "stdout",
     "output_type": "stream",
     "text": [
      "video_url : https://www.youtube.com/watch?v=jQwrnLwfS6A\n",
      "video_name : sbs8news_jQwrnLwfS6A\n"
     ]
    },
    {
     "name": "stderr",
     "output_type": "stream",
     "text": [
      "C:\\Users\\ASUS\\AppData\\Local\\Temp/ipykernel_12924/3668012427.py:22: DeprecationWarning: Call to deprecated function get_by_language_code (This object can be treated as a dictionary, i.e. captions['en']).\n",
      "  cap = yt.captions.get_by_language_code('a.ko')\n"
     ]
    }
   ],
   "source": [
    "DIR = os.getcwd()\n",
    "\n",
    "for k in keyword :\n",
    "    print('{} :'.format(k), len(yt_list[k]['주소']))\n",
    "    for video_url in yt_list[k]['주소'] :\n",
    "        print('video_url :', video_url)\n",
    "        name = ''\n",
    "        if 'c/' in k :\n",
    "            name = k.lstrip('/c')\n",
    "        else :\n",
    "            name = k\n",
    "        index = video_url.index('=')\n",
    "        video_name = name + '_' + video_url[index+1:]\n",
    "        video_path = os.path.join(DIR, name)\n",
    "        print('video_name :', video_name)\n",
    "        if not os.path.isdir(video_path) :\n",
    "            os.mkdir(video_path)\n",
    "\n",
    "        yt = YouTube(video_url)\n",
    "        #print(yt.captions.all())\n",
    "\n",
    "        cap = yt.captions.get_by_language_code('a.ko')\n",
    "        \n",
    "        if cap is not None:\n",
    "            # xml 다운로드\n",
    "            download_cap = cap.download(video_name, False, name, '') # title/srt여부/파일경로/prefix\n",
    "\n",
    "            # xml 2 txt\n",
    "            tree = parse(download_cap)\n",
    "            root = tree.getroot()\n",
    "            words = ''\n",
    "            for w in root.itertext() :\n",
    "                if w == '' or w == '\\n' :\n",
    "                    continue\n",
    "                else :\n",
    "                    words= words + w\n",
    "\n",
    "            with open(os.path.join(video_path, video_name+'.txt'), 'w', encoding='utf8') as f:\n",
    "                f.write(words)\n",
    "            \n",
    "        "
   ]
  },
  {
   "cell_type": "code",
   "execution_count": 12,
   "id": "4b92e74c",
   "metadata": {
    "scrolled": true
   },
   "outputs": [],
   "source": [
    "# delete xml files\n",
    "DIR = os.getcwd()\n",
    "names = ['newskbs', 'sbs8news', 'MBCNEWS11']\n",
    "video_paths = [os.path.join(DIR, name) for name in names]\n",
    "for video_path in video_paths :\n",
    "    files = os.listdir(video_path)\n",
    "    for file in files :\n",
    "        if '.xml' in file:\n",
    "            os.remove(os.path.join(video_path, file))"
   ]
  },
  {
   "cell_type": "code",
   "execution_count": null,
   "id": "8a857bdf",
   "metadata": {},
   "outputs": [],
   "source": []
  }
 ],
 "metadata": {
  "kernelspec": {
   "display_name": "Python 3 (ipykernel)",
   "language": "python",
   "name": "python3"
  },
  "language_info": {
   "codemirror_mode": {
    "name": "ipython",
    "version": 3
   },
   "file_extension": ".py",
   "mimetype": "text/x-python",
   "name": "python",
   "nbconvert_exporter": "python",
   "pygments_lexer": "ipython3",
   "version": "3.9.2"
  }
 },
 "nbformat": 4,
 "nbformat_minor": 5
}
