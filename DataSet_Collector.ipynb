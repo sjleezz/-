{
 "cells": [
  {
   "cell_type": "code",
   "execution_count": 1,
   "id": "fa2f40e7",
   "metadata": {},
   "outputs": [],
   "source": [
    "from pytube import YouTube\n",
    "from xml.etree.ElementTree import parse\n",
    "import os"
   ]
  },
  {
   "cell_type": "code",
   "execution_count": 2,
   "id": "0f1a9672",
   "metadata": {},
   "outputs": [
    {
     "name": "stdout",
     "output_type": "stream",
     "text": [
      "D:\\kusp\\venv\\kusp\n"
     ]
    }
   ],
   "source": [
    "print(os.getcwd())"
   ]
  },
  {
   "cell_type": "markdown",
   "id": "0feec25b",
   "metadata": {},
   "source": [
    "### Data Properties"
   ]
  },
  {
   "cell_type": "code",
   "execution_count": 27,
   "id": "52519332",
   "metadata": {},
   "outputs": [
    {
     "name": "stderr",
     "output_type": "stream",
     "text": [
      "C:\\Users\\ASUS\\AppData\\Local\\Temp/ipykernel_6768/373981108.py:12: DeprecationWarning: executable_path has been deprecated, please pass in a Service object\n",
      "  driver = webdriver.Chrome('./chromedriver.exe')\n"
     ]
    },
    {
     "name": "stdout",
     "output_type": "stream",
     "text": [
      "['https://www.youtube.com/watch?v=jVbqvPnWB94', 'https://www.youtube.com/watch?v=1ijeEDt_JWk', 'https://www.youtube.com/watch?v=9uXlIlyNIxo', 'https://www.youtube.com/watch?v=r7c78nZeL90', 'https://www.youtube.com/watch?v=ui-IawOBrcA', 'https://www.youtube.com/watch?v=77C6Oft1poA', 'https://www.youtube.com/watch?v=rYYLBESZwm0', 'https://www.youtube.com/watch?v=y901YTUuqPY', 'https://www.youtube.com/watch?v=BLZdbIf-LbI', 'https://www.youtube.com/watch?v=T8BFN-XLfps', 'https://www.youtube.com/watch?v=xQe38r_M8Wc', 'https://www.youtube.com/watch?v=5a0mY54HSUo', 'https://www.youtube.com/watch?v=IMtdkOJ0OaI', 'https://www.youtube.com/watch?v=NyOKTbmjCNQ', 'https://www.youtube.com/watch?v=wCZ_UEkrHq8', 'https://www.youtube.com/watch?v=XbsrMgjH1BM', 'https://www.youtube.com/watch?v=9bzOR7YGXyU', 'https://www.youtube.com/watch?v=hVvU8SX-W8Y', 'https://www.youtube.com/watch?v=i470qRODmn4', 'https://www.youtube.com/watch?v=zhJNNtoRrws', 'https://www.youtube.com/watch?v=9N6liLWbDaQ', 'https://www.youtube.com/watch?v=Ht8CqUgZwoM', 'https://www.youtube.com/watch?v=zCzFar2BZwQ', 'https://www.youtube.com/watch?v=tultlZbTrbo', 'https://www.youtube.com/watch?v=ABQvqjunOzs', 'https://www.youtube.com/watch?v=OfOjteLTyTw', 'https://www.youtube.com/watch?v=V0mTgn6WN5s', 'https://www.youtube.com/watch?v=iYW-XYaLm80', 'https://www.youtube.com/watch?v=AYoRgrz_K-I', 'https://www.youtube.com/watch?v=rI8vsFargNI']\n",
      "['https://www.youtube.com/watch?v=Svn8l8-ZdkU', 'https://www.youtube.com/watch?v=sF_epYZPxRE', 'https://www.youtube.com/watch?v=MCIicmPituE', 'https://www.youtube.com/watch?v=lIMwfDlPsr8', 'https://www.youtube.com/watch?v=WPhB_m-QTe4', 'https://www.youtube.com/watch?v=8ONkpPcjZ0g', 'https://www.youtube.com/watch?v=LEvsqT3_R_Y', 'https://www.youtube.com/watch?v=mDZnxFWzXm8', 'https://www.youtube.com/watch?v=qREgdmyGwvA', 'https://www.youtube.com/watch?v=E37DEws_1oU', 'https://www.youtube.com/watch?v=gYvsfLj2dJo', 'https://www.youtube.com/watch?v=v1bkS1BfD84', 'https://www.youtube.com/watch?v=8ifE_7qWUmQ', 'https://www.youtube.com/watch?v=PYRTBjucyJY', 'https://www.youtube.com/watch?v=aCsOWiOzB0c', 'https://www.youtube.com/watch?v=8nhhFcHLkSA', 'https://www.youtube.com/watch?v=9R90Ll6E5Ok', 'https://www.youtube.com/watch?v=cXCFZffFAjk', 'https://www.youtube.com/watch?v=W-YUZRrWNXs', 'https://www.youtube.com/watch?v=AJSAMQJZ9OY', 'https://www.youtube.com/watch?v=c2U42cZSaUw', 'https://www.youtube.com/watch?v=kKppLjoPTGY', 'https://www.youtube.com/watch?v=SbAN-2ycdd0', 'https://www.youtube.com/watch?v=AGF48kFHIcA', 'https://www.youtube.com/watch?v=eFRj7sYQea0', 'https://www.youtube.com/watch?v=-x56wkWxfJ8', 'https://www.youtube.com/watch?v=QpjWfpHtrAM', 'https://www.youtube.com/watch?v=TCLU-eLMFJw', 'https://www.youtube.com/watch?v=vjgIcVLj8Bk', 'https://www.youtube.com/watch?v=tOsKWtL7mWc']\n",
      "['https://www.youtube.com/watch?v=jQwrnLwfS6A', 'https://www.youtube.com/watch?v=R9u_VPDMx0U', 'https://www.youtube.com/watch?v=BTXdCP9tEbI', 'https://www.youtube.com/watch?v=YB4HHzfi9gk', 'https://www.youtube.com/watch?v=KwIoryp2lDY', 'https://www.youtube.com/watch?v=cUqpcLQRlZ0', 'https://www.youtube.com/watch?v=YJXyizV4WTo', 'https://www.youtube.com/watch?v=C1-OAsh7CxE', 'https://www.youtube.com/watch?v=jpNGyLKi8U4', 'https://www.youtube.com/watch?v=nKQt4rE17NE', 'https://www.youtube.com/watch?v=M37j9zgBR10', 'https://www.youtube.com/watch?v=_z8xI87BHrE', 'https://www.youtube.com/watch?v=eJ7eweReuKs', 'https://www.youtube.com/watch?v=QuogzUXk32Q', 'https://www.youtube.com/watch?v=CEXLhQFTc8k', 'https://www.youtube.com/watch?v=2XazStUm6wM', 'https://www.youtube.com/watch?v=VYcjwvvlb2Q', 'https://www.youtube.com/watch?v=JkuAColWxAw', 'https://www.youtube.com/watch?v=RowRIZmPGWU', 'https://www.youtube.com/watch?v=G4ex2eNDpAw', 'https://www.youtube.com/watch?v=r5pyIIfH-x8', 'https://www.youtube.com/watch?v=9LwwG7pv1xQ', 'https://www.youtube.com/watch?v=OqDhRBhdKV8', 'https://www.youtube.com/watch?v=_Dczp7Q1I4s', 'https://www.youtube.com/watch?v=o6rT1e4s2QY', 'https://www.youtube.com/watch?v=cCF-NRxSzus', 'https://www.youtube.com/watch?v=xn7LzZ1c5xI', 'https://www.youtube.com/watch?v=vUtBXA3rwmI', 'https://www.youtube.com/watch?v=8Oh-nip5vts', 'https://www.youtube.com/watch?v=VbINvYIBB5E']\n"
     ]
    }
   ],
   "source": [
    "from selenium import webdriver\n",
    "from bs4 import BeautifulSoup as bs\n",
    "import pandas as pd\n",
    "from selenium.webdriver.common.keys import Keys\n",
    "import time\n",
    "\n",
    "keyword = ['c/newskbs', 'c/MBCNEWS11', 'sbs8news']\n",
    "yt_list = dict()\n",
    "\n",
    "for k in keyword :\n",
    "    url = 'https://www.youtube.com/{}/videos'.format(k)\n",
    "    driver = webdriver.Chrome('./chromedriver.exe')\n",
    "    driver.get(url)\n",
    "    soup = bs(driver.page_source, 'html.parser')\n",
    "    driver.close()\n",
    "\n",
    "    name = soup.select('a#video-title')\n",
    "    video_url = soup.select('a#video-title')\n",
    "    view = soup.select('a#video-title')\n",
    "\n",
    "    name_list = []\n",
    "    url_list = []\n",
    "    view_list = []\n",
    "\n",
    "    for i in range(len(name)):\n",
    "        name_list.append(name[i].text.strip())\n",
    "        view_list.append(view[i].get('aria-label').split()[-1])\n",
    "    for i in video_url:\n",
    "        url_list.append('{}{}'.format('https://www.youtube.com',i.get('href')))\n",
    "\n",
    "    yt_Info = {\n",
    "        '제목': name_list,\n",
    "        '주소': url_list,\n",
    "        '조회수': view_list\n",
    "    }\n",
    "    yt_list[k] = yt_Info \n",
    "    print(yt_list[k]['주소'], end='\\n')\n",
    "    "
   ]
  },
  {
   "cell_type": "code",
   "execution_count": 36,
   "id": "8f0a4458",
   "metadata": {},
   "outputs": [
    {
     "name": "stdout",
     "output_type": "stream",
     "text": [
      "k : 30\n",
      "k : 30\n",
      "k : 30\n"
     ]
    }
   ],
   "source": [
    "for k in keyword:\n",
    "    print('k :', len(yt_list[k]['주소']))"
   ]
  },
  {
   "cell_type": "code",
   "execution_count": 40,
   "id": "06ec0b6f",
   "metadata": {
    "scrolled": true
   },
   "outputs": [
    {
     "name": "stdout",
     "output_type": "stream",
     "text": [
      "c/newskbs : 30\n",
      "video_url : https://www.youtube.com/watch?v=jVbqvPnWB94\n"
     ]
    },
    {
     "name": "stderr",
     "output_type": "stream",
     "text": [
      "C:\\Users\\ASUS\\AppData\\Local\\Temp/ipykernel_6768/900030924.py:21: DeprecationWarning: Call to deprecated function get_by_language_code (This object can be treated as a dictionary, i.e. captions['en']).\n",
      "  cap = yt.captions.get_by_language_code('a.ko')\n"
     ]
    },
    {
     "name": "stdout",
     "output_type": "stream",
     "text": [
      "video_url : https://www.youtube.com/watch?v=1ijeEDt_JWk\n"
     ]
    },
    {
     "name": "stderr",
     "output_type": "stream",
     "text": [
      "C:\\Users\\ASUS\\AppData\\Local\\Temp/ipykernel_6768/900030924.py:21: DeprecationWarning: Call to deprecated function get_by_language_code (This object can be treated as a dictionary, i.e. captions['en']).\n",
      "  cap = yt.captions.get_by_language_code('a.ko')\n"
     ]
    },
    {
     "name": "stdout",
     "output_type": "stream",
     "text": [
      "video_url : https://www.youtube.com/watch?v=9uXlIlyNIxo\n"
     ]
    },
    {
     "name": "stderr",
     "output_type": "stream",
     "text": [
      "C:\\Users\\ASUS\\AppData\\Local\\Temp/ipykernel_6768/900030924.py:21: DeprecationWarning: Call to deprecated function get_by_language_code (This object can be treated as a dictionary, i.e. captions['en']).\n",
      "  cap = yt.captions.get_by_language_code('a.ko')\n"
     ]
    },
    {
     "name": "stdout",
     "output_type": "stream",
     "text": [
      "video_url : https://www.youtube.com/watch?v=r7c78nZeL90\n"
     ]
    },
    {
     "name": "stderr",
     "output_type": "stream",
     "text": [
      "C:\\Users\\ASUS\\AppData\\Local\\Temp/ipykernel_6768/900030924.py:21: DeprecationWarning: Call to deprecated function get_by_language_code (This object can be treated as a dictionary, i.e. captions['en']).\n",
      "  cap = yt.captions.get_by_language_code('a.ko')\n"
     ]
    },
    {
     "name": "stdout",
     "output_type": "stream",
     "text": [
      "video_url : https://www.youtube.com/watch?v=ui-IawOBrcA\n"
     ]
    },
    {
     "name": "stderr",
     "output_type": "stream",
     "text": [
      "C:\\Users\\ASUS\\AppData\\Local\\Temp/ipykernel_6768/900030924.py:21: DeprecationWarning: Call to deprecated function get_by_language_code (This object can be treated as a dictionary, i.e. captions['en']).\n",
      "  cap = yt.captions.get_by_language_code('a.ko')\n"
     ]
    },
    {
     "name": "stdout",
     "output_type": "stream",
     "text": [
      "video_url : https://www.youtube.com/watch?v=77C6Oft1poA\n"
     ]
    },
    {
     "name": "stderr",
     "output_type": "stream",
     "text": [
      "C:\\Users\\ASUS\\AppData\\Local\\Temp/ipykernel_6768/900030924.py:21: DeprecationWarning: Call to deprecated function get_by_language_code (This object can be treated as a dictionary, i.e. captions['en']).\n",
      "  cap = yt.captions.get_by_language_code('a.ko')\n"
     ]
    },
    {
     "name": "stdout",
     "output_type": "stream",
     "text": [
      "video_url : https://www.youtube.com/watch?v=rYYLBESZwm0\n"
     ]
    },
    {
     "name": "stderr",
     "output_type": "stream",
     "text": [
      "C:\\Users\\ASUS\\AppData\\Local\\Temp/ipykernel_6768/900030924.py:21: DeprecationWarning: Call to deprecated function get_by_language_code (This object can be treated as a dictionary, i.e. captions['en']).\n",
      "  cap = yt.captions.get_by_language_code('a.ko')\n"
     ]
    },
    {
     "name": "stdout",
     "output_type": "stream",
     "text": [
      "video_url : https://www.youtube.com/watch?v=y901YTUuqPY\n"
     ]
    },
    {
     "name": "stderr",
     "output_type": "stream",
     "text": [
      "C:\\Users\\ASUS\\AppData\\Local\\Temp/ipykernel_6768/900030924.py:21: DeprecationWarning: Call to deprecated function get_by_language_code (This object can be treated as a dictionary, i.e. captions['en']).\n",
      "  cap = yt.captions.get_by_language_code('a.ko')\n"
     ]
    },
    {
     "name": "stdout",
     "output_type": "stream",
     "text": [
      "video_url : https://www.youtube.com/watch?v=BLZdbIf-LbI\n"
     ]
    },
    {
     "name": "stderr",
     "output_type": "stream",
     "text": [
      "C:\\Users\\ASUS\\AppData\\Local\\Temp/ipykernel_6768/900030924.py:21: DeprecationWarning: Call to deprecated function get_by_language_code (This object can be treated as a dictionary, i.e. captions['en']).\n",
      "  cap = yt.captions.get_by_language_code('a.ko')\n"
     ]
    },
    {
     "name": "stdout",
     "output_type": "stream",
     "text": [
      "video_url : https://www.youtube.com/watch?v=T8BFN-XLfps\n"
     ]
    },
    {
     "name": "stderr",
     "output_type": "stream",
     "text": [
      "C:\\Users\\ASUS\\AppData\\Local\\Temp/ipykernel_6768/900030924.py:21: DeprecationWarning: Call to deprecated function get_by_language_code (This object can be treated as a dictionary, i.e. captions['en']).\n",
      "  cap = yt.captions.get_by_language_code('a.ko')\n"
     ]
    },
    {
     "name": "stdout",
     "output_type": "stream",
     "text": [
      "video_url : https://www.youtube.com/watch?v=xQe38r_M8Wc\n"
     ]
    },
    {
     "name": "stderr",
     "output_type": "stream",
     "text": [
      "C:\\Users\\ASUS\\AppData\\Local\\Temp/ipykernel_6768/900030924.py:21: DeprecationWarning: Call to deprecated function get_by_language_code (This object can be treated as a dictionary, i.e. captions['en']).\n",
      "  cap = yt.captions.get_by_language_code('a.ko')\n"
     ]
    },
    {
     "name": "stdout",
     "output_type": "stream",
     "text": [
      "video_url : https://www.youtube.com/watch?v=5a0mY54HSUo\n"
     ]
    },
    {
     "name": "stderr",
     "output_type": "stream",
     "text": [
      "C:\\Users\\ASUS\\AppData\\Local\\Temp/ipykernel_6768/900030924.py:21: DeprecationWarning: Call to deprecated function get_by_language_code (This object can be treated as a dictionary, i.e. captions['en']).\n",
      "  cap = yt.captions.get_by_language_code('a.ko')\n"
     ]
    },
    {
     "name": "stdout",
     "output_type": "stream",
     "text": [
      "video_url : https://www.youtube.com/watch?v=IMtdkOJ0OaI\n"
     ]
    },
    {
     "name": "stderr",
     "output_type": "stream",
     "text": [
      "C:\\Users\\ASUS\\AppData\\Local\\Temp/ipykernel_6768/900030924.py:21: DeprecationWarning: Call to deprecated function get_by_language_code (This object can be treated as a dictionary, i.e. captions['en']).\n",
      "  cap = yt.captions.get_by_language_code('a.ko')\n"
     ]
    },
    {
     "name": "stdout",
     "output_type": "stream",
     "text": [
      "video_url : https://www.youtube.com/watch?v=NyOKTbmjCNQ\n"
     ]
    },
    {
     "name": "stderr",
     "output_type": "stream",
     "text": [
      "C:\\Users\\ASUS\\AppData\\Local\\Temp/ipykernel_6768/900030924.py:21: DeprecationWarning: Call to deprecated function get_by_language_code (This object can be treated as a dictionary, i.e. captions['en']).\n",
      "  cap = yt.captions.get_by_language_code('a.ko')\n"
     ]
    },
    {
     "name": "stdout",
     "output_type": "stream",
     "text": [
      "video_url : https://www.youtube.com/watch?v=wCZ_UEkrHq8\n"
     ]
    },
    {
     "name": "stderr",
     "output_type": "stream",
     "text": [
      "C:\\Users\\ASUS\\AppData\\Local\\Temp/ipykernel_6768/900030924.py:21: DeprecationWarning: Call to deprecated function get_by_language_code (This object can be treated as a dictionary, i.e. captions['en']).\n",
      "  cap = yt.captions.get_by_language_code('a.ko')\n"
     ]
    },
    {
     "name": "stdout",
     "output_type": "stream",
     "text": [
      "video_url : https://www.youtube.com/watch?v=XbsrMgjH1BM\n"
     ]
    },
    {
     "name": "stderr",
     "output_type": "stream",
     "text": [
      "C:\\Users\\ASUS\\AppData\\Local\\Temp/ipykernel_6768/900030924.py:21: DeprecationWarning: Call to deprecated function get_by_language_code (This object can be treated as a dictionary, i.e. captions['en']).\n",
      "  cap = yt.captions.get_by_language_code('a.ko')\n"
     ]
    },
    {
     "name": "stdout",
     "output_type": "stream",
     "text": [
      "video_url : https://www.youtube.com/watch?v=9bzOR7YGXyU\n"
     ]
    },
    {
     "name": "stderr",
     "output_type": "stream",
     "text": [
      "C:\\Users\\ASUS\\AppData\\Local\\Temp/ipykernel_6768/900030924.py:21: DeprecationWarning: Call to deprecated function get_by_language_code (This object can be treated as a dictionary, i.e. captions['en']).\n",
      "  cap = yt.captions.get_by_language_code('a.ko')\n"
     ]
    },
    {
     "name": "stdout",
     "output_type": "stream",
     "text": [
      "video_url : https://www.youtube.com/watch?v=hVvU8SX-W8Y\n"
     ]
    },
    {
     "name": "stderr",
     "output_type": "stream",
     "text": [
      "C:\\Users\\ASUS\\AppData\\Local\\Temp/ipykernel_6768/900030924.py:21: DeprecationWarning: Call to deprecated function get_by_language_code (This object can be treated as a dictionary, i.e. captions['en']).\n",
      "  cap = yt.captions.get_by_language_code('a.ko')\n"
     ]
    },
    {
     "name": "stdout",
     "output_type": "stream",
     "text": [
      "video_url : https://www.youtube.com/watch?v=i470qRODmn4\n"
     ]
    },
    {
     "name": "stderr",
     "output_type": "stream",
     "text": [
      "C:\\Users\\ASUS\\AppData\\Local\\Temp/ipykernel_6768/900030924.py:21: DeprecationWarning: Call to deprecated function get_by_language_code (This object can be treated as a dictionary, i.e. captions['en']).\n",
      "  cap = yt.captions.get_by_language_code('a.ko')\n"
     ]
    },
    {
     "name": "stdout",
     "output_type": "stream",
     "text": [
      "video_url : https://www.youtube.com/watch?v=zhJNNtoRrws\n"
     ]
    },
    {
     "name": "stderr",
     "output_type": "stream",
     "text": [
      "C:\\Users\\ASUS\\AppData\\Local\\Temp/ipykernel_6768/900030924.py:21: DeprecationWarning: Call to deprecated function get_by_language_code (This object can be treated as a dictionary, i.e. captions['en']).\n",
      "  cap = yt.captions.get_by_language_code('a.ko')\n"
     ]
    },
    {
     "name": "stdout",
     "output_type": "stream",
     "text": [
      "video_url : https://www.youtube.com/watch?v=9N6liLWbDaQ\n"
     ]
    },
    {
     "name": "stderr",
     "output_type": "stream",
     "text": [
      "C:\\Users\\ASUS\\AppData\\Local\\Temp/ipykernel_6768/900030924.py:21: DeprecationWarning: Call to deprecated function get_by_language_code (This object can be treated as a dictionary, i.e. captions['en']).\n",
      "  cap = yt.captions.get_by_language_code('a.ko')\n"
     ]
    },
    {
     "name": "stdout",
     "output_type": "stream",
     "text": [
      "video_url : https://www.youtube.com/watch?v=Ht8CqUgZwoM\n"
     ]
    },
    {
     "name": "stderr",
     "output_type": "stream",
     "text": [
      "C:\\Users\\ASUS\\AppData\\Local\\Temp/ipykernel_6768/900030924.py:21: DeprecationWarning: Call to deprecated function get_by_language_code (This object can be treated as a dictionary, i.e. captions['en']).\n",
      "  cap = yt.captions.get_by_language_code('a.ko')\n"
     ]
    },
    {
     "name": "stdout",
     "output_type": "stream",
     "text": [
      "video_url : https://www.youtube.com/watch?v=zCzFar2BZwQ\n"
     ]
    },
    {
     "name": "stderr",
     "output_type": "stream",
     "text": [
      "C:\\Users\\ASUS\\AppData\\Local\\Temp/ipykernel_6768/900030924.py:21: DeprecationWarning: Call to deprecated function get_by_language_code (This object can be treated as a dictionary, i.e. captions['en']).\n",
      "  cap = yt.captions.get_by_language_code('a.ko')\n"
     ]
    },
    {
     "name": "stdout",
     "output_type": "stream",
     "text": [
      "video_url : https://www.youtube.com/watch?v=tultlZbTrbo\n"
     ]
    },
    {
     "name": "stderr",
     "output_type": "stream",
     "text": [
      "C:\\Users\\ASUS\\AppData\\Local\\Temp/ipykernel_6768/900030924.py:21: DeprecationWarning: Call to deprecated function get_by_language_code (This object can be treated as a dictionary, i.e. captions['en']).\n",
      "  cap = yt.captions.get_by_language_code('a.ko')\n"
     ]
    },
    {
     "name": "stdout",
     "output_type": "stream",
     "text": [
      "video_url : https://www.youtube.com/watch?v=ABQvqjunOzs\n"
     ]
    },
    {
     "name": "stderr",
     "output_type": "stream",
     "text": [
      "C:\\Users\\ASUS\\AppData\\Local\\Temp/ipykernel_6768/900030924.py:21: DeprecationWarning: Call to deprecated function get_by_language_code (This object can be treated as a dictionary, i.e. captions['en']).\n",
      "  cap = yt.captions.get_by_language_code('a.ko')\n"
     ]
    },
    {
     "name": "stdout",
     "output_type": "stream",
     "text": [
      "video_url : https://www.youtube.com/watch?v=OfOjteLTyTw\n"
     ]
    },
    {
     "name": "stderr",
     "output_type": "stream",
     "text": [
      "C:\\Users\\ASUS\\AppData\\Local\\Temp/ipykernel_6768/900030924.py:21: DeprecationWarning: Call to deprecated function get_by_language_code (This object can be treated as a dictionary, i.e. captions['en']).\n",
      "  cap = yt.captions.get_by_language_code('a.ko')\n"
     ]
    },
    {
     "name": "stdout",
     "output_type": "stream",
     "text": [
      "video_url : https://www.youtube.com/watch?v=V0mTgn6WN5s\n"
     ]
    },
    {
     "name": "stderr",
     "output_type": "stream",
     "text": [
      "C:\\Users\\ASUS\\AppData\\Local\\Temp/ipykernel_6768/900030924.py:21: DeprecationWarning: Call to deprecated function get_by_language_code (This object can be treated as a dictionary, i.e. captions['en']).\n",
      "  cap = yt.captions.get_by_language_code('a.ko')\n"
     ]
    },
    {
     "name": "stdout",
     "output_type": "stream",
     "text": [
      "video_url : https://www.youtube.com/watch?v=iYW-XYaLm80\n"
     ]
    },
    {
     "name": "stderr",
     "output_type": "stream",
     "text": [
      "C:\\Users\\ASUS\\AppData\\Local\\Temp/ipykernel_6768/900030924.py:21: DeprecationWarning: Call to deprecated function get_by_language_code (This object can be treated as a dictionary, i.e. captions['en']).\n",
      "  cap = yt.captions.get_by_language_code('a.ko')\n"
     ]
    },
    {
     "name": "stdout",
     "output_type": "stream",
     "text": [
      "video_url : https://www.youtube.com/watch?v=AYoRgrz_K-I\n"
     ]
    },
    {
     "name": "stderr",
     "output_type": "stream",
     "text": [
      "C:\\Users\\ASUS\\AppData\\Local\\Temp/ipykernel_6768/900030924.py:21: DeprecationWarning: Call to deprecated function get_by_language_code (This object can be treated as a dictionary, i.e. captions['en']).\n",
      "  cap = yt.captions.get_by_language_code('a.ko')\n"
     ]
    },
    {
     "name": "stdout",
     "output_type": "stream",
     "text": [
      "video_url : https://www.youtube.com/watch?v=rI8vsFargNI\n"
     ]
    },
    {
     "name": "stderr",
     "output_type": "stream",
     "text": [
      "C:\\Users\\ASUS\\AppData\\Local\\Temp/ipykernel_6768/900030924.py:21: DeprecationWarning: Call to deprecated function get_by_language_code (This object can be treated as a dictionary, i.e. captions['en']).\n",
      "  cap = yt.captions.get_by_language_code('a.ko')\n"
     ]
    },
    {
     "name": "stdout",
     "output_type": "stream",
     "text": [
      "c/MBCNEWS11 : 30\n",
      "video_url : https://www.youtube.com/watch?v=Svn8l8-ZdkU\n"
     ]
    },
    {
     "name": "stderr",
     "output_type": "stream",
     "text": [
      "C:\\Users\\ASUS\\AppData\\Local\\Temp/ipykernel_6768/900030924.py:21: DeprecationWarning: Call to deprecated function get_by_language_code (This object can be treated as a dictionary, i.e. captions['en']).\n",
      "  cap = yt.captions.get_by_language_code('a.ko')\n"
     ]
    },
    {
     "name": "stdout",
     "output_type": "stream",
     "text": [
      "video_url : https://www.youtube.com/watch?v=sF_epYZPxRE\n"
     ]
    },
    {
     "name": "stderr",
     "output_type": "stream",
     "text": [
      "C:\\Users\\ASUS\\AppData\\Local\\Temp/ipykernel_6768/900030924.py:21: DeprecationWarning: Call to deprecated function get_by_language_code (This object can be treated as a dictionary, i.e. captions['en']).\n",
      "  cap = yt.captions.get_by_language_code('a.ko')\n"
     ]
    },
    {
     "name": "stdout",
     "output_type": "stream",
     "text": [
      "video_url : https://www.youtube.com/watch?v=MCIicmPituE\n"
     ]
    },
    {
     "name": "stderr",
     "output_type": "stream",
     "text": [
      "C:\\Users\\ASUS\\AppData\\Local\\Temp/ipykernel_6768/900030924.py:21: DeprecationWarning: Call to deprecated function get_by_language_code (This object can be treated as a dictionary, i.e. captions['en']).\n",
      "  cap = yt.captions.get_by_language_code('a.ko')\n"
     ]
    },
    {
     "name": "stdout",
     "output_type": "stream",
     "text": [
      "video_url : https://www.youtube.com/watch?v=lIMwfDlPsr8\n"
     ]
    },
    {
     "name": "stderr",
     "output_type": "stream",
     "text": [
      "C:\\Users\\ASUS\\AppData\\Local\\Temp/ipykernel_6768/900030924.py:21: DeprecationWarning: Call to deprecated function get_by_language_code (This object can be treated as a dictionary, i.e. captions['en']).\n",
      "  cap = yt.captions.get_by_language_code('a.ko')\n"
     ]
    },
    {
     "name": "stdout",
     "output_type": "stream",
     "text": [
      "video_url : https://www.youtube.com/watch?v=WPhB_m-QTe4\n"
     ]
    },
    {
     "name": "stderr",
     "output_type": "stream",
     "text": [
      "C:\\Users\\ASUS\\AppData\\Local\\Temp/ipykernel_6768/900030924.py:21: DeprecationWarning: Call to deprecated function get_by_language_code (This object can be treated as a dictionary, i.e. captions['en']).\n",
      "  cap = yt.captions.get_by_language_code('a.ko')\n"
     ]
    },
    {
     "name": "stdout",
     "output_type": "stream",
     "text": [
      "video_url : https://www.youtube.com/watch?v=8ONkpPcjZ0g\n"
     ]
    },
    {
     "name": "stderr",
     "output_type": "stream",
     "text": [
      "C:\\Users\\ASUS\\AppData\\Local\\Temp/ipykernel_6768/900030924.py:21: DeprecationWarning: Call to deprecated function get_by_language_code (This object can be treated as a dictionary, i.e. captions['en']).\n",
      "  cap = yt.captions.get_by_language_code('a.ko')\n"
     ]
    },
    {
     "name": "stdout",
     "output_type": "stream",
     "text": [
      "video_url : https://www.youtube.com/watch?v=LEvsqT3_R_Y\n"
     ]
    },
    {
     "name": "stderr",
     "output_type": "stream",
     "text": [
      "C:\\Users\\ASUS\\AppData\\Local\\Temp/ipykernel_6768/900030924.py:21: DeprecationWarning: Call to deprecated function get_by_language_code (This object can be treated as a dictionary, i.e. captions['en']).\n",
      "  cap = yt.captions.get_by_language_code('a.ko')\n"
     ]
    },
    {
     "name": "stdout",
     "output_type": "stream",
     "text": [
      "video_url : https://www.youtube.com/watch?v=mDZnxFWzXm8\n"
     ]
    },
    {
     "name": "stderr",
     "output_type": "stream",
     "text": [
      "C:\\Users\\ASUS\\AppData\\Local\\Temp/ipykernel_6768/900030924.py:21: DeprecationWarning: Call to deprecated function get_by_language_code (This object can be treated as a dictionary, i.e. captions['en']).\n",
      "  cap = yt.captions.get_by_language_code('a.ko')\n"
     ]
    },
    {
     "name": "stdout",
     "output_type": "stream",
     "text": [
      "video_url : https://www.youtube.com/watch?v=qREgdmyGwvA\n"
     ]
    },
    {
     "name": "stderr",
     "output_type": "stream",
     "text": [
      "C:\\Users\\ASUS\\AppData\\Local\\Temp/ipykernel_6768/900030924.py:21: DeprecationWarning: Call to deprecated function get_by_language_code (This object can be treated as a dictionary, i.e. captions['en']).\n",
      "  cap = yt.captions.get_by_language_code('a.ko')\n"
     ]
    },
    {
     "name": "stdout",
     "output_type": "stream",
     "text": [
      "video_url : https://www.youtube.com/watch?v=E37DEws_1oU\n"
     ]
    },
    {
     "name": "stderr",
     "output_type": "stream",
     "text": [
      "C:\\Users\\ASUS\\AppData\\Local\\Temp/ipykernel_6768/900030924.py:21: DeprecationWarning: Call to deprecated function get_by_language_code (This object can be treated as a dictionary, i.e. captions['en']).\n",
      "  cap = yt.captions.get_by_language_code('a.ko')\n"
     ]
    },
    {
     "name": "stdout",
     "output_type": "stream",
     "text": [
      "video_url : https://www.youtube.com/watch?v=gYvsfLj2dJo\n"
     ]
    },
    {
     "name": "stderr",
     "output_type": "stream",
     "text": [
      "C:\\Users\\ASUS\\AppData\\Local\\Temp/ipykernel_6768/900030924.py:21: DeprecationWarning: Call to deprecated function get_by_language_code (This object can be treated as a dictionary, i.e. captions['en']).\n",
      "  cap = yt.captions.get_by_language_code('a.ko')\n"
     ]
    },
    {
     "name": "stdout",
     "output_type": "stream",
     "text": [
      "video_url : https://www.youtube.com/watch?v=v1bkS1BfD84\n"
     ]
    },
    {
     "name": "stderr",
     "output_type": "stream",
     "text": [
      "C:\\Users\\ASUS\\AppData\\Local\\Temp/ipykernel_6768/900030924.py:21: DeprecationWarning: Call to deprecated function get_by_language_code (This object can be treated as a dictionary, i.e. captions['en']).\n",
      "  cap = yt.captions.get_by_language_code('a.ko')\n"
     ]
    },
    {
     "name": "stdout",
     "output_type": "stream",
     "text": [
      "video_url : https://www.youtube.com/watch?v=8ifE_7qWUmQ\n"
     ]
    },
    {
     "name": "stderr",
     "output_type": "stream",
     "text": [
      "C:\\Users\\ASUS\\AppData\\Local\\Temp/ipykernel_6768/900030924.py:21: DeprecationWarning: Call to deprecated function get_by_language_code (This object can be treated as a dictionary, i.e. captions['en']).\n",
      "  cap = yt.captions.get_by_language_code('a.ko')\n"
     ]
    },
    {
     "name": "stdout",
     "output_type": "stream",
     "text": [
      "video_url : https://www.youtube.com/watch?v=PYRTBjucyJY\n"
     ]
    },
    {
     "name": "stderr",
     "output_type": "stream",
     "text": [
      "C:\\Users\\ASUS\\AppData\\Local\\Temp/ipykernel_6768/900030924.py:21: DeprecationWarning: Call to deprecated function get_by_language_code (This object can be treated as a dictionary, i.e. captions['en']).\n",
      "  cap = yt.captions.get_by_language_code('a.ko')\n"
     ]
    },
    {
     "name": "stdout",
     "output_type": "stream",
     "text": [
      "video_url : https://www.youtube.com/watch?v=aCsOWiOzB0c\n"
     ]
    },
    {
     "name": "stderr",
     "output_type": "stream",
     "text": [
      "C:\\Users\\ASUS\\AppData\\Local\\Temp/ipykernel_6768/900030924.py:21: DeprecationWarning: Call to deprecated function get_by_language_code (This object can be treated as a dictionary, i.e. captions['en']).\n",
      "  cap = yt.captions.get_by_language_code('a.ko')\n"
     ]
    },
    {
     "name": "stdout",
     "output_type": "stream",
     "text": [
      "video_url : https://www.youtube.com/watch?v=8nhhFcHLkSA\n"
     ]
    },
    {
     "name": "stderr",
     "output_type": "stream",
     "text": [
      "C:\\Users\\ASUS\\AppData\\Local\\Temp/ipykernel_6768/900030924.py:21: DeprecationWarning: Call to deprecated function get_by_language_code (This object can be treated as a dictionary, i.e. captions['en']).\n",
      "  cap = yt.captions.get_by_language_code('a.ko')\n"
     ]
    },
    {
     "name": "stdout",
     "output_type": "stream",
     "text": [
      "video_url : https://www.youtube.com/watch?v=9R90Ll6E5Ok\n"
     ]
    },
    {
     "name": "stderr",
     "output_type": "stream",
     "text": [
      "C:\\Users\\ASUS\\AppData\\Local\\Temp/ipykernel_6768/900030924.py:21: DeprecationWarning: Call to deprecated function get_by_language_code (This object can be treated as a dictionary, i.e. captions['en']).\n",
      "  cap = yt.captions.get_by_language_code('a.ko')\n"
     ]
    },
    {
     "name": "stdout",
     "output_type": "stream",
     "text": [
      "video_url : https://www.youtube.com/watch?v=cXCFZffFAjk\n"
     ]
    },
    {
     "name": "stderr",
     "output_type": "stream",
     "text": [
      "C:\\Users\\ASUS\\AppData\\Local\\Temp/ipykernel_6768/900030924.py:21: DeprecationWarning: Call to deprecated function get_by_language_code (This object can be treated as a dictionary, i.e. captions['en']).\n",
      "  cap = yt.captions.get_by_language_code('a.ko')\n"
     ]
    },
    {
     "name": "stdout",
     "output_type": "stream",
     "text": [
      "video_url : https://www.youtube.com/watch?v=W-YUZRrWNXs\n"
     ]
    },
    {
     "name": "stderr",
     "output_type": "stream",
     "text": [
      "C:\\Users\\ASUS\\AppData\\Local\\Temp/ipykernel_6768/900030924.py:21: DeprecationWarning: Call to deprecated function get_by_language_code (This object can be treated as a dictionary, i.e. captions['en']).\n",
      "  cap = yt.captions.get_by_language_code('a.ko')\n"
     ]
    },
    {
     "name": "stdout",
     "output_type": "stream",
     "text": [
      "video_url : https://www.youtube.com/watch?v=AJSAMQJZ9OY\n"
     ]
    },
    {
     "name": "stderr",
     "output_type": "stream",
     "text": [
      "C:\\Users\\ASUS\\AppData\\Local\\Temp/ipykernel_6768/900030924.py:21: DeprecationWarning: Call to deprecated function get_by_language_code (This object can be treated as a dictionary, i.e. captions['en']).\n",
      "  cap = yt.captions.get_by_language_code('a.ko')\n"
     ]
    },
    {
     "name": "stdout",
     "output_type": "stream",
     "text": [
      "video_url : https://www.youtube.com/watch?v=c2U42cZSaUw\n"
     ]
    },
    {
     "name": "stderr",
     "output_type": "stream",
     "text": [
      "C:\\Users\\ASUS\\AppData\\Local\\Temp/ipykernel_6768/900030924.py:21: DeprecationWarning: Call to deprecated function get_by_language_code (This object can be treated as a dictionary, i.e. captions['en']).\n",
      "  cap = yt.captions.get_by_language_code('a.ko')\n"
     ]
    },
    {
     "name": "stdout",
     "output_type": "stream",
     "text": [
      "video_url : https://www.youtube.com/watch?v=kKppLjoPTGY\n"
     ]
    },
    {
     "name": "stderr",
     "output_type": "stream",
     "text": [
      "C:\\Users\\ASUS\\AppData\\Local\\Temp/ipykernel_6768/900030924.py:21: DeprecationWarning: Call to deprecated function get_by_language_code (This object can be treated as a dictionary, i.e. captions['en']).\n",
      "  cap = yt.captions.get_by_language_code('a.ko')\n"
     ]
    },
    {
     "name": "stdout",
     "output_type": "stream",
     "text": [
      "video_url : https://www.youtube.com/watch?v=SbAN-2ycdd0\n"
     ]
    },
    {
     "name": "stderr",
     "output_type": "stream",
     "text": [
      "C:\\Users\\ASUS\\AppData\\Local\\Temp/ipykernel_6768/900030924.py:21: DeprecationWarning: Call to deprecated function get_by_language_code (This object can be treated as a dictionary, i.e. captions['en']).\n",
      "  cap = yt.captions.get_by_language_code('a.ko')\n"
     ]
    },
    {
     "name": "stdout",
     "output_type": "stream",
     "text": [
      "video_url : https://www.youtube.com/watch?v=AGF48kFHIcA\n"
     ]
    },
    {
     "name": "stderr",
     "output_type": "stream",
     "text": [
      "C:\\Users\\ASUS\\AppData\\Local\\Temp/ipykernel_6768/900030924.py:21: DeprecationWarning: Call to deprecated function get_by_language_code (This object can be treated as a dictionary, i.e. captions['en']).\n",
      "  cap = yt.captions.get_by_language_code('a.ko')\n"
     ]
    },
    {
     "name": "stdout",
     "output_type": "stream",
     "text": [
      "video_url : https://www.youtube.com/watch?v=eFRj7sYQea0\n"
     ]
    },
    {
     "name": "stderr",
     "output_type": "stream",
     "text": [
      "C:\\Users\\ASUS\\AppData\\Local\\Temp/ipykernel_6768/900030924.py:21: DeprecationWarning: Call to deprecated function get_by_language_code (This object can be treated as a dictionary, i.e. captions['en']).\n",
      "  cap = yt.captions.get_by_language_code('a.ko')\n"
     ]
    },
    {
     "name": "stdout",
     "output_type": "stream",
     "text": [
      "video_url : https://www.youtube.com/watch?v=-x56wkWxfJ8\n"
     ]
    },
    {
     "name": "stderr",
     "output_type": "stream",
     "text": [
      "C:\\Users\\ASUS\\AppData\\Local\\Temp/ipykernel_6768/900030924.py:21: DeprecationWarning: Call to deprecated function get_by_language_code (This object can be treated as a dictionary, i.e. captions['en']).\n",
      "  cap = yt.captions.get_by_language_code('a.ko')\n"
     ]
    },
    {
     "name": "stdout",
     "output_type": "stream",
     "text": [
      "video_url : https://www.youtube.com/watch?v=QpjWfpHtrAM\n"
     ]
    },
    {
     "name": "stderr",
     "output_type": "stream",
     "text": [
      "C:\\Users\\ASUS\\AppData\\Local\\Temp/ipykernel_6768/900030924.py:21: DeprecationWarning: Call to deprecated function get_by_language_code (This object can be treated as a dictionary, i.e. captions['en']).\n",
      "  cap = yt.captions.get_by_language_code('a.ko')\n"
     ]
    },
    {
     "name": "stdout",
     "output_type": "stream",
     "text": [
      "video_url : https://www.youtube.com/watch?v=TCLU-eLMFJw\n"
     ]
    },
    {
     "name": "stderr",
     "output_type": "stream",
     "text": [
      "C:\\Users\\ASUS\\AppData\\Local\\Temp/ipykernel_6768/900030924.py:21: DeprecationWarning: Call to deprecated function get_by_language_code (This object can be treated as a dictionary, i.e. captions['en']).\n",
      "  cap = yt.captions.get_by_language_code('a.ko')\n"
     ]
    },
    {
     "name": "stdout",
     "output_type": "stream",
     "text": [
      "video_url : https://www.youtube.com/watch?v=vjgIcVLj8Bk\n"
     ]
    },
    {
     "name": "stderr",
     "output_type": "stream",
     "text": [
      "C:\\Users\\ASUS\\AppData\\Local\\Temp/ipykernel_6768/900030924.py:21: DeprecationWarning: Call to deprecated function get_by_language_code (This object can be treated as a dictionary, i.e. captions['en']).\n",
      "  cap = yt.captions.get_by_language_code('a.ko')\n"
     ]
    },
    {
     "name": "stdout",
     "output_type": "stream",
     "text": [
      "video_url : https://www.youtube.com/watch?v=tOsKWtL7mWc\n"
     ]
    },
    {
     "name": "stderr",
     "output_type": "stream",
     "text": [
      "C:\\Users\\ASUS\\AppData\\Local\\Temp/ipykernel_6768/900030924.py:21: DeprecationWarning: Call to deprecated function get_by_language_code (This object can be treated as a dictionary, i.e. captions['en']).\n",
      "  cap = yt.captions.get_by_language_code('a.ko')\n"
     ]
    },
    {
     "name": "stdout",
     "output_type": "stream",
     "text": [
      "sbs8news : 30\n",
      "video_url : https://www.youtube.com/watch?v=jQwrnLwfS6A\n"
     ]
    },
    {
     "name": "stderr",
     "output_type": "stream",
     "text": [
      "C:\\Users\\ASUS\\AppData\\Local\\Temp/ipykernel_6768/900030924.py:21: DeprecationWarning: Call to deprecated function get_by_language_code (This object can be treated as a dictionary, i.e. captions['en']).\n",
      "  cap = yt.captions.get_by_language_code('a.ko')\n"
     ]
    },
    {
     "name": "stdout",
     "output_type": "stream",
     "text": [
      "video_url : https://www.youtube.com/watch?v=R9u_VPDMx0U\n"
     ]
    },
    {
     "name": "stderr",
     "output_type": "stream",
     "text": [
      "C:\\Users\\ASUS\\AppData\\Local\\Temp/ipykernel_6768/900030924.py:21: DeprecationWarning: Call to deprecated function get_by_language_code (This object can be treated as a dictionary, i.e. captions['en']).\n",
      "  cap = yt.captions.get_by_language_code('a.ko')\n"
     ]
    },
    {
     "name": "stdout",
     "output_type": "stream",
     "text": [
      "video_url : https://www.youtube.com/watch?v=BTXdCP9tEbI\n"
     ]
    },
    {
     "name": "stderr",
     "output_type": "stream",
     "text": [
      "C:\\Users\\ASUS\\AppData\\Local\\Temp/ipykernel_6768/900030924.py:21: DeprecationWarning: Call to deprecated function get_by_language_code (This object can be treated as a dictionary, i.e. captions['en']).\n",
      "  cap = yt.captions.get_by_language_code('a.ko')\n"
     ]
    },
    {
     "name": "stdout",
     "output_type": "stream",
     "text": [
      "video_url : https://www.youtube.com/watch?v=YB4HHzfi9gk\n"
     ]
    },
    {
     "name": "stderr",
     "output_type": "stream",
     "text": [
      "C:\\Users\\ASUS\\AppData\\Local\\Temp/ipykernel_6768/900030924.py:21: DeprecationWarning: Call to deprecated function get_by_language_code (This object can be treated as a dictionary, i.e. captions['en']).\n",
      "  cap = yt.captions.get_by_language_code('a.ko')\n"
     ]
    },
    {
     "name": "stdout",
     "output_type": "stream",
     "text": [
      "video_url : https://www.youtube.com/watch?v=KwIoryp2lDY\n"
     ]
    },
    {
     "name": "stderr",
     "output_type": "stream",
     "text": [
      "C:\\Users\\ASUS\\AppData\\Local\\Temp/ipykernel_6768/900030924.py:21: DeprecationWarning: Call to deprecated function get_by_language_code (This object can be treated as a dictionary, i.e. captions['en']).\n",
      "  cap = yt.captions.get_by_language_code('a.ko')\n"
     ]
    },
    {
     "name": "stdout",
     "output_type": "stream",
     "text": [
      "video_url : https://www.youtube.com/watch?v=cUqpcLQRlZ0\n"
     ]
    },
    {
     "name": "stderr",
     "output_type": "stream",
     "text": [
      "C:\\Users\\ASUS\\AppData\\Local\\Temp/ipykernel_6768/900030924.py:21: DeprecationWarning: Call to deprecated function get_by_language_code (This object can be treated as a dictionary, i.e. captions['en']).\n",
      "  cap = yt.captions.get_by_language_code('a.ko')\n"
     ]
    },
    {
     "name": "stdout",
     "output_type": "stream",
     "text": [
      "video_url : https://www.youtube.com/watch?v=YJXyizV4WTo\n"
     ]
    },
    {
     "name": "stderr",
     "output_type": "stream",
     "text": [
      "C:\\Users\\ASUS\\AppData\\Local\\Temp/ipykernel_6768/900030924.py:21: DeprecationWarning: Call to deprecated function get_by_language_code (This object can be treated as a dictionary, i.e. captions['en']).\n",
      "  cap = yt.captions.get_by_language_code('a.ko')\n"
     ]
    },
    {
     "name": "stdout",
     "output_type": "stream",
     "text": [
      "video_url : https://www.youtube.com/watch?v=C1-OAsh7CxE\n"
     ]
    },
    {
     "name": "stderr",
     "output_type": "stream",
     "text": [
      "C:\\Users\\ASUS\\AppData\\Local\\Temp/ipykernel_6768/900030924.py:21: DeprecationWarning: Call to deprecated function get_by_language_code (This object can be treated as a dictionary, i.e. captions['en']).\n",
      "  cap = yt.captions.get_by_language_code('a.ko')\n"
     ]
    },
    {
     "name": "stdout",
     "output_type": "stream",
     "text": [
      "video_url : https://www.youtube.com/watch?v=jpNGyLKi8U4\n"
     ]
    },
    {
     "name": "stderr",
     "output_type": "stream",
     "text": [
      "C:\\Users\\ASUS\\AppData\\Local\\Temp/ipykernel_6768/900030924.py:21: DeprecationWarning: Call to deprecated function get_by_language_code (This object can be treated as a dictionary, i.e. captions['en']).\n",
      "  cap = yt.captions.get_by_language_code('a.ko')\n"
     ]
    },
    {
     "name": "stdout",
     "output_type": "stream",
     "text": [
      "video_url : https://www.youtube.com/watch?v=nKQt4rE17NE\n"
     ]
    },
    {
     "name": "stderr",
     "output_type": "stream",
     "text": [
      "C:\\Users\\ASUS\\AppData\\Local\\Temp/ipykernel_6768/900030924.py:21: DeprecationWarning: Call to deprecated function get_by_language_code (This object can be treated as a dictionary, i.e. captions['en']).\n",
      "  cap = yt.captions.get_by_language_code('a.ko')\n"
     ]
    },
    {
     "name": "stdout",
     "output_type": "stream",
     "text": [
      "video_url : https://www.youtube.com/watch?v=M37j9zgBR10\n"
     ]
    },
    {
     "name": "stderr",
     "output_type": "stream",
     "text": [
      "C:\\Users\\ASUS\\AppData\\Local\\Temp/ipykernel_6768/900030924.py:21: DeprecationWarning: Call to deprecated function get_by_language_code (This object can be treated as a dictionary, i.e. captions['en']).\n",
      "  cap = yt.captions.get_by_language_code('a.ko')\n"
     ]
    },
    {
     "name": "stdout",
     "output_type": "stream",
     "text": [
      "video_url : https://www.youtube.com/watch?v=_z8xI87BHrE\n"
     ]
    },
    {
     "name": "stderr",
     "output_type": "stream",
     "text": [
      "C:\\Users\\ASUS\\AppData\\Local\\Temp/ipykernel_6768/900030924.py:21: DeprecationWarning: Call to deprecated function get_by_language_code (This object can be treated as a dictionary, i.e. captions['en']).\n",
      "  cap = yt.captions.get_by_language_code('a.ko')\n"
     ]
    },
    {
     "name": "stdout",
     "output_type": "stream",
     "text": [
      "video_url : https://www.youtube.com/watch?v=eJ7eweReuKs\n"
     ]
    },
    {
     "name": "stderr",
     "output_type": "stream",
     "text": [
      "C:\\Users\\ASUS\\AppData\\Local\\Temp/ipykernel_6768/900030924.py:21: DeprecationWarning: Call to deprecated function get_by_language_code (This object can be treated as a dictionary, i.e. captions['en']).\n",
      "  cap = yt.captions.get_by_language_code('a.ko')\n"
     ]
    },
    {
     "name": "stdout",
     "output_type": "stream",
     "text": [
      "video_url : https://www.youtube.com/watch?v=QuogzUXk32Q\n"
     ]
    },
    {
     "name": "stderr",
     "output_type": "stream",
     "text": [
      "C:\\Users\\ASUS\\AppData\\Local\\Temp/ipykernel_6768/900030924.py:21: DeprecationWarning: Call to deprecated function get_by_language_code (This object can be treated as a dictionary, i.e. captions['en']).\n",
      "  cap = yt.captions.get_by_language_code('a.ko')\n"
     ]
    },
    {
     "name": "stdout",
     "output_type": "stream",
     "text": [
      "video_url : https://www.youtube.com/watch?v=CEXLhQFTc8k\n"
     ]
    },
    {
     "name": "stderr",
     "output_type": "stream",
     "text": [
      "C:\\Users\\ASUS\\AppData\\Local\\Temp/ipykernel_6768/900030924.py:21: DeprecationWarning: Call to deprecated function get_by_language_code (This object can be treated as a dictionary, i.e. captions['en']).\n",
      "  cap = yt.captions.get_by_language_code('a.ko')\n"
     ]
    },
    {
     "name": "stdout",
     "output_type": "stream",
     "text": [
      "video_url : https://www.youtube.com/watch?v=2XazStUm6wM\n"
     ]
    },
    {
     "name": "stderr",
     "output_type": "stream",
     "text": [
      "C:\\Users\\ASUS\\AppData\\Local\\Temp/ipykernel_6768/900030924.py:21: DeprecationWarning: Call to deprecated function get_by_language_code (This object can be treated as a dictionary, i.e. captions['en']).\n",
      "  cap = yt.captions.get_by_language_code('a.ko')\n"
     ]
    },
    {
     "name": "stdout",
     "output_type": "stream",
     "text": [
      "video_url : https://www.youtube.com/watch?v=VYcjwvvlb2Q\n"
     ]
    },
    {
     "name": "stderr",
     "output_type": "stream",
     "text": [
      "C:\\Users\\ASUS\\AppData\\Local\\Temp/ipykernel_6768/900030924.py:21: DeprecationWarning: Call to deprecated function get_by_language_code (This object can be treated as a dictionary, i.e. captions['en']).\n",
      "  cap = yt.captions.get_by_language_code('a.ko')\n"
     ]
    },
    {
     "name": "stdout",
     "output_type": "stream",
     "text": [
      "video_url : https://www.youtube.com/watch?v=JkuAColWxAw\n"
     ]
    },
    {
     "name": "stderr",
     "output_type": "stream",
     "text": [
      "C:\\Users\\ASUS\\AppData\\Local\\Temp/ipykernel_6768/900030924.py:21: DeprecationWarning: Call to deprecated function get_by_language_code (This object can be treated as a dictionary, i.e. captions['en']).\n",
      "  cap = yt.captions.get_by_language_code('a.ko')\n"
     ]
    },
    {
     "name": "stdout",
     "output_type": "stream",
     "text": [
      "video_url : https://www.youtube.com/watch?v=RowRIZmPGWU\n"
     ]
    },
    {
     "name": "stderr",
     "output_type": "stream",
     "text": [
      "C:\\Users\\ASUS\\AppData\\Local\\Temp/ipykernel_6768/900030924.py:21: DeprecationWarning: Call to deprecated function get_by_language_code (This object can be treated as a dictionary, i.e. captions['en']).\n",
      "  cap = yt.captions.get_by_language_code('a.ko')\n"
     ]
    },
    {
     "name": "stdout",
     "output_type": "stream",
     "text": [
      "video_url : https://www.youtube.com/watch?v=G4ex2eNDpAw\n"
     ]
    },
    {
     "name": "stderr",
     "output_type": "stream",
     "text": [
      "C:\\Users\\ASUS\\AppData\\Local\\Temp/ipykernel_6768/900030924.py:21: DeprecationWarning: Call to deprecated function get_by_language_code (This object can be treated as a dictionary, i.e. captions['en']).\n",
      "  cap = yt.captions.get_by_language_code('a.ko')\n"
     ]
    },
    {
     "name": "stdout",
     "output_type": "stream",
     "text": [
      "video_url : https://www.youtube.com/watch?v=r5pyIIfH-x8\n"
     ]
    },
    {
     "name": "stderr",
     "output_type": "stream",
     "text": [
      "C:\\Users\\ASUS\\AppData\\Local\\Temp/ipykernel_6768/900030924.py:21: DeprecationWarning: Call to deprecated function get_by_language_code (This object can be treated as a dictionary, i.e. captions['en']).\n",
      "  cap = yt.captions.get_by_language_code('a.ko')\n"
     ]
    },
    {
     "name": "stdout",
     "output_type": "stream",
     "text": [
      "video_url : https://www.youtube.com/watch?v=9LwwG7pv1xQ\n"
     ]
    },
    {
     "name": "stderr",
     "output_type": "stream",
     "text": [
      "C:\\Users\\ASUS\\AppData\\Local\\Temp/ipykernel_6768/900030924.py:21: DeprecationWarning: Call to deprecated function get_by_language_code (This object can be treated as a dictionary, i.e. captions['en']).\n",
      "  cap = yt.captions.get_by_language_code('a.ko')\n"
     ]
    },
    {
     "name": "stdout",
     "output_type": "stream",
     "text": [
      "video_url : https://www.youtube.com/watch?v=OqDhRBhdKV8\n"
     ]
    },
    {
     "name": "stderr",
     "output_type": "stream",
     "text": [
      "C:\\Users\\ASUS\\AppData\\Local\\Temp/ipykernel_6768/900030924.py:21: DeprecationWarning: Call to deprecated function get_by_language_code (This object can be treated as a dictionary, i.e. captions['en']).\n",
      "  cap = yt.captions.get_by_language_code('a.ko')\n"
     ]
    },
    {
     "name": "stdout",
     "output_type": "stream",
     "text": [
      "video_url : https://www.youtube.com/watch?v=_Dczp7Q1I4s\n"
     ]
    },
    {
     "name": "stderr",
     "output_type": "stream",
     "text": [
      "C:\\Users\\ASUS\\AppData\\Local\\Temp/ipykernel_6768/900030924.py:21: DeprecationWarning: Call to deprecated function get_by_language_code (This object can be treated as a dictionary, i.e. captions['en']).\n",
      "  cap = yt.captions.get_by_language_code('a.ko')\n"
     ]
    },
    {
     "name": "stdout",
     "output_type": "stream",
     "text": [
      "video_url : https://www.youtube.com/watch?v=o6rT1e4s2QY\n"
     ]
    },
    {
     "name": "stderr",
     "output_type": "stream",
     "text": [
      "C:\\Users\\ASUS\\AppData\\Local\\Temp/ipykernel_6768/900030924.py:21: DeprecationWarning: Call to deprecated function get_by_language_code (This object can be treated as a dictionary, i.e. captions['en']).\n",
      "  cap = yt.captions.get_by_language_code('a.ko')\n"
     ]
    },
    {
     "name": "stdout",
     "output_type": "stream",
     "text": [
      "video_url : https://www.youtube.com/watch?v=cCF-NRxSzus\n"
     ]
    },
    {
     "name": "stderr",
     "output_type": "stream",
     "text": [
      "C:\\Users\\ASUS\\AppData\\Local\\Temp/ipykernel_6768/900030924.py:21: DeprecationWarning: Call to deprecated function get_by_language_code (This object can be treated as a dictionary, i.e. captions['en']).\n",
      "  cap = yt.captions.get_by_language_code('a.ko')\n"
     ]
    },
    {
     "name": "stdout",
     "output_type": "stream",
     "text": [
      "video_url : https://www.youtube.com/watch?v=xn7LzZ1c5xI\n"
     ]
    },
    {
     "name": "stderr",
     "output_type": "stream",
     "text": [
      "C:\\Users\\ASUS\\AppData\\Local\\Temp/ipykernel_6768/900030924.py:21: DeprecationWarning: Call to deprecated function get_by_language_code (This object can be treated as a dictionary, i.e. captions['en']).\n",
      "  cap = yt.captions.get_by_language_code('a.ko')\n"
     ]
    },
    {
     "name": "stdout",
     "output_type": "stream",
     "text": [
      "video_url : https://www.youtube.com/watch?v=vUtBXA3rwmI\n"
     ]
    },
    {
     "name": "stderr",
     "output_type": "stream",
     "text": [
      "C:\\Users\\ASUS\\AppData\\Local\\Temp/ipykernel_6768/900030924.py:21: DeprecationWarning: Call to deprecated function get_by_language_code (This object can be treated as a dictionary, i.e. captions['en']).\n",
      "  cap = yt.captions.get_by_language_code('a.ko')\n"
     ]
    },
    {
     "name": "stdout",
     "output_type": "stream",
     "text": [
      "video_url : https://www.youtube.com/watch?v=8Oh-nip5vts\n"
     ]
    },
    {
     "name": "stderr",
     "output_type": "stream",
     "text": [
      "C:\\Users\\ASUS\\AppData\\Local\\Temp/ipykernel_6768/900030924.py:21: DeprecationWarning: Call to deprecated function get_by_language_code (This object can be treated as a dictionary, i.e. captions['en']).\n",
      "  cap = yt.captions.get_by_language_code('a.ko')\n"
     ]
    },
    {
     "name": "stdout",
     "output_type": "stream",
     "text": [
      "video_url : https://www.youtube.com/watch?v=VbINvYIBB5E\n"
     ]
    },
    {
     "name": "stderr",
     "output_type": "stream",
     "text": [
      "C:\\Users\\ASUS\\AppData\\Local\\Temp/ipykernel_6768/900030924.py:21: DeprecationWarning: Call to deprecated function get_by_language_code (This object can be treated as a dictionary, i.e. captions['en']).\n",
      "  cap = yt.captions.get_by_language_code('a.ko')\n"
     ]
    }
   ],
   "source": [
    "DIR = os.getcwd()\n",
    "\n",
    "for k in keyword :\n",
    "    print('{} :'.format(k), len(yt_list[k]['주소']))\n",
    "    for video_url in yt_list[k]['주소'] :\n",
    "        print('video_url :', video_url)\n",
    "        name = ''\n",
    "        if 'c/' in k :\n",
    "            name = k.lstrip('/c')\n",
    "        else :\n",
    "            name = k\n",
    "        video_name = name + '_' + video_url[33:]\n",
    "        video_path = os.path.join(DIR, name)\n",
    "        \n",
    "        if not os.path.isdir(video_path) :\n",
    "            os.mkdir(video_path)\n",
    "\n",
    "        yt = YouTube(video_url)\n",
    "        #print(yt.captions.all())\n",
    "\n",
    "        cap = yt.captions.get_by_language_code('a.ko')\n",
    "        \n",
    "        if cap is not None:\n",
    "            # xml 다운로드\n",
    "            download_cap = cap.download(video_name, False, name, '') # title/srt여부/파일경로/prefix\n",
    "\n",
    "            # xml 2 txt\n",
    "            tree = parse(download_cap)\n",
    "            root = tree.getroot()\n",
    "            words = ''\n",
    "            for w in root.itertext() :\n",
    "                if w == '' or w == '\\n' :\n",
    "                    continue\n",
    "                else :\n",
    "                    words= words + w\n",
    "\n",
    "            with open(os.path.join(video_path, video_name+'.txt'), 'w', encoding='utf8') as f:\n",
    "                f.write(words)\n",
    "            \n",
    "        "
   ]
  },
  {
   "cell_type": "code",
   "execution_count": null,
   "id": "4b92e74c",
   "metadata": {
    "scrolled": true
   },
   "outputs": [],
   "source": []
  },
  {
   "cell_type": "code",
   "execution_count": null,
   "id": "8a857bdf",
   "metadata": {},
   "outputs": [],
   "source": []
  }
 ],
 "metadata": {
  "kernelspec": {
   "display_name": "Python 3 (ipykernel)",
   "language": "python",
   "name": "python3"
  },
  "language_info": {
   "codemirror_mode": {
    "name": "ipython",
    "version": 3
   },
   "file_extension": ".py",
   "mimetype": "text/x-python",
   "name": "python",
   "nbconvert_exporter": "python",
   "pygments_lexer": "ipython3",
   "version": "3.9.2"
  }
 },
 "nbformat": 4,
 "nbformat_minor": 5
}
