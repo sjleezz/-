{
 "cells": [
  {
   "cell_type": "code",
   "execution_count": 5,
   "id": "fa2f40e7",
   "metadata": {},
   "outputs": [],
   "source": [
    "from pytube import YouTube\n",
    "from xml.etree.ElementTree import parse\n",
    "import os"
   ]
  },
  {
   "cell_type": "code",
   "execution_count": 6,
   "id": "0f1a9672",
   "metadata": {},
   "outputs": [
    {
     "name": "stdout",
     "output_type": "stream",
     "text": [
      "D:\\kusp\\venv\\kusp\n"
     ]
    }
   ],
   "source": [
    "print(os.getcwd())"
   ]
  },
  {
   "cell_type": "markdown",
   "id": "0feec25b",
   "metadata": {},
   "source": [
    "### Data Properties"
   ]
  },
  {
   "cell_type": "code",
   "execution_count": 24,
   "id": "7e35068e",
   "metadata": {},
   "outputs": [
    {
     "name": "stderr",
     "output_type": "stream",
     "text": [
      "C:\\Users\\ASUS\\AppData\\Local\\Temp/ipykernel_6664/4032183637.py:12: DeprecationWarning: executable_path has been deprecated, please pass in a Service object\n",
      "  driver = webdriver.Chrome('./chromedriver.exe')\n"
     ]
    },
    {
     "name": "stdout",
     "output_type": "stream",
     "text": [
      "{'제목': ['[풀영상] 뉴스9 : 강원 최전방서 1명 월북…군, 3시간 가까이 몰라 - 2022년 1월 2일(일) / KBS', '2022년을 더 밝게 빛낼 스포츠 신성들! / KBS  2022.01.02.', '[날씨] 중부·경북 일부 한파주의보…서울 -8도 / KBS  2022.01.02.', '한국어 열공·태권도 노란띠…아프간 특별기여자 387명은 지금 / KBS  2022.01.02.', '엇갈리는 예측…변수는 금리·전세·선거 / KBS  2022.01.02.', '‘장마’ 윤흥길 작가 “남북 화해의 길에 문학으로 기여했기를…” / KBS', '한(恨)으로 응어리진 ‘분단의 비극’…윤흥길 ‘장마’ / KBS  2022.01.02.', '미국-우크라이나 정상 통화…“러시아 위협 공동대응” / KBS  2022.01.02.', '러시아-우크라이나 군사 긴장 고조…배경은? / KBS  2022.01.02.', '“동네의원이 재택치료자 주치의가 되어드립니다” / KBS  2022.01.02.', '“방역 패스 취소돼야”…시민 천여 명 집단 행정소송 / KBS  2022.01.02.', '지지율 상승세 안철수…단일화 논의 ‘꿈틀’대나 / KBS  2022.01.02.', '이재명 “청년 월세 지원”…윤석열 “반값 임대료” / KBS  2022.01.02.', 'CCTV 찍히고 경보 울렸는데도…군 3시간 가까이 ‘경계 허점’ / KBS  2022.01.02.', '코로나19 신규 확진자 3,833명…위중증 환자 여전히 1천 명대 / KBS  2022.01.02.', '최전방서 1명 월북…군 감시태세 허점 속 생사 우려 / KBS  2022.01.02.', '문 대통령, 내일(3일) 임기 마지막 해 신년사 발표 / KBS  2022.01.02.', '[글로벌K] 나이지리아, 백신 대량 폐기…서방의 ‘생색 기부’ 비판 / KBS  2021.12.27.', '[글로벌K] 버스? 기차?… 일본에서 ‘버스 겸 기차’ 운행 시작 / KBS  2021.12.28.', '대출 2억 원 초과시 DSR 규제…새해 달라지는 것들 / KBS  2022.01.02.', '[날씨] 낮부터 영상권 회복…동쪽 대기 건조 / KBS  2022.01.02.', '검찰, ‘신한카드 채용 비리’ 위성호 전 대표 기소 / KBS  2022.01.02.', '이재명 “월세 공제 확대”, 윤석열 “디지털 플랫폼 정부” / KBS  2022.01.02.', '동부전선 최전방 철책 통해 1명 월북…군, 3시간 동안 몰라 / KBS  2022.01.02.', '[풀영상] 코로나19 통합뉴스룸 : 위중증 환자 1,024명 – 2021년 1월 2일(일) 12:00~ / KBS', '코로나19 신규 확진자 3,833명…위중증 환자 여전히 1천 명대 / KBS  2022.01.02.', '[글로벌K] 지난달 구조된 퓨마과 동물 ‘재규어런디’ / KBS  2021.12.29.', '유권자가 뽑은 ‘우리 사회 중요 의제’ 1위 “집값 안정” / KBS  2022.01.01.', '졸음운전, 봄보다 겨울철에 더 많다 / KBS  2022.01.02.', '[글로벌K] 영국, 2022년 기념주화 공개…엘리자베스 2세 여왕 통치 70주년 / KBS  2021.12.31.'], '주소': ['https://www.youtube.com/watch?v=udHh3hXldx8', 'https://www.youtube.com/watch?v=InzvnlDFEJY', 'https://www.youtube.com/watch?v=0bCWOPSBj5c', 'https://www.youtube.com/watch?v=U33TbA_PhcA', 'https://www.youtube.com/watch?v=efgU_aQsvsE', 'https://www.youtube.com/watch?v=YdO2ch3s26A', 'https://www.youtube.com/watch?v=uBWO59kLWQY', 'https://www.youtube.com/watch?v=sy8FLPdpaA8', 'https://www.youtube.com/watch?v=0Gf_vtK8LlQ', 'https://www.youtube.com/watch?v=VgEG5qMYhlY', 'https://www.youtube.com/watch?v=1wqX5TC5Iik', 'https://www.youtube.com/watch?v=VQpNzyAvIEY', 'https://www.youtube.com/watch?v=V73bqj_lzpo', 'https://www.youtube.com/watch?v=fJgkauQBbaw', 'https://www.youtube.com/watch?v=czr4UEdVpGA', 'https://www.youtube.com/watch?v=iI-9UavzZXY', 'https://www.youtube.com/watch?v=mcAaWWbOpmE', 'https://www.youtube.com/watch?v=kD-njP5iGRk', 'https://www.youtube.com/watch?v=Jd-yLj3qeIA', 'https://www.youtube.com/watch?v=OWct6UX3DvY', 'https://www.youtube.com/watch?v=4UsBI7Fmktw', 'https://www.youtube.com/watch?v=HgtbXvG54iM', 'https://www.youtube.com/watch?v=Uh1yHjK2QlY', 'https://www.youtube.com/watch?v=zt3P8VWGzOg', 'https://www.youtube.com/watch?v=CVMmeTRteqQ', 'https://www.youtube.com/watch?v=5P7HqTj6zGI', 'https://www.youtube.com/watch?v=p0rr8ROrAlk', 'https://www.youtube.com/watch?v=1h0_Bv-mc2k', 'https://www.youtube.com/watch?v=dbKB4p0cnB0', 'https://www.youtube.com/watch?v=KcJypbgb1yE'], '조회수': ['8,679회', '342회', '1,923회', '5,007회', '7,357회', '249회', '169회', '1,747회', '4,564회', '363회', '207,664회', '2,215회', '333회', '2,357회', '13,483회', '309,987회', '2,390회', '426,992회', '60,403회', '3,951회', '5,910회', '1,051회', '2,581회', '123,749회', '6,217회', '2,782회', '33,750회', '1,224회', '3,171회', '1,133회']}\n",
      "\n",
      "{'제목': [\"#Shorts / 내일부터 '딩동'하면 출입 못해‥대상자 70% 3차접종 (2022.01.02/뉴스데스크/MBC)\", \"내일부터 '딩동'은 출입 못해.. 접종 유효기간 적용- [풀영상] MBC 뉴스데스크 2022년 1월 2일\", '[이슈 Pick? Pick!] 李, \\'경제·청년\\' 행보로 중도 확장‥\"반사이익 경계\" (2022.01.02)', '[날씨] 출근길, 다시 기온 뚝↓‥반짝 미세먼지 물러가·동쪽 메마른 대기 (2022.01.02/뉴스데스크/MBC)', \"[스포츠 영상] '부상 투혼' 최준용의 슬램덩크! (2022.01.02/뉴스데스크/MBC)\", \"[톱플레이] 이틀 연속 끝내기 버저비터‥'정말 끝내주네' (2022.01.02/뉴스데스크/MBC)\", '문 대통령 내일 신년사 \"위기극복·선도국가 원년\" (2022.01.02/뉴스데스크/MBC)', '실손보험료 오르고 음주운전 하면 패가망신 (2022.01.02/뉴스데스크/MBC)', '산불에 폭설까지‥미 콜로라도 재난지역 선포 (2022.01.02/뉴스데스크/MBC)', '李, \\'경제·청년\\' 행보로 중도 확장‥\"반사이익 경계\" (2022.01.02/뉴스데스크/MBC)', '새해 첫날 새벽부터 노동자 사망 사고‥부천서 아파트 정전 (2022.01.02/뉴스데스크/MBC)', \"내일부터 '딩동'은 출입 못해.. 접종 유효기간 적용- [LIVE] MBC 뉴스데스크 2022년 1월 2일\", 'CCTV 찍히고 경보까지 울렸는데 또 뚫렸다 (2022.01.02/뉴스데스크/MBC)', \"연초 '단일화' 신경전 본격화‥안·심도 '삼프로' 출격 (2022.01.02/뉴스데스크/MBC)\", '尹, 정책 행보로 위기 돌파? \"후보 성향보다 국민 정서\" (2022.01.02/뉴스데스크/MBC)', \"내일부터 '딩동'하면 출입 못해‥대상자 70% 3차접종 (2022.01.02/뉴스데스크/MBC)\", '#Shorts / 코로나 올해는 끝나나?‥\"풍토병 전환 중\" (2022.01.02/뉴스투데이/MBC)', '[날씨] 잠시 기온 올라‥중서부 일시 공기 탁해 (2022.01.02/12MBC뉴스)', '김정은, 새해 첫 공개활동 금수산궁전 참배 (2022.01.02/12MBC뉴스)', '강원 동부전선 최전방 철책 통해 1명 월북 (2022.01.02/12MBC뉴스)', \"내일부터 방역패스 '6개월 유효기간' 적용 (2022.01.02/12MBC뉴스)\", '李 \"월세 공제 확대\"‥尹 \"청년 일자리 해결\" (2022.01.02/12MBC뉴스)', '신규 확진 3천833명‥위중증 13일 연속 1천 명대 (2022.01.02/12MBC뉴스)', '신규확진 3,833명‥위중증 13일 연속 1천명 대 - [LIVE] MBC 뉴스 2022년 01월 02일', '국민의당 안철수 후보의 복지 정책은? - [끝까지 LIVE] MBC 중계방송 2021년 1월 2일', '국민의힘 윤석열 후보의 디지털플랫폼 정부 구상은? - [끝까지 LIVE] MBC 중계방송 2022년 1월 2일', '[날씨] 수도권·강원 오전에 눈‥낮 1~11도 (2022.01.02/뉴스투데이/MBC)', '신규 확진 감소 추세‥오늘 4천 명대 초반 예상 (2022.01.02/뉴스투데이/MBC)', '코로나 올해는 끝나나?‥\"풍토병 전환 중\" (2022.01.02/뉴스투데이/MBC)', '이, 부산 스마트시티 방문‥윤, 디지털 플랫폼 정부 공약 (2022.01.02/뉴스투데이/MBC)'], '주소': ['https://www.youtube.com/watch?v=IxN2JhqCU-g', 'https://www.youtube.com/watch?v=UG8uyz_ZGvU', 'https://www.youtube.com/watch?v=k8FHmu2Ug6E', 'https://www.youtube.com/watch?v=si-AwGDln9A', 'https://www.youtube.com/watch?v=l4AFhlF1QoI', 'https://www.youtube.com/watch?v=EpJKhPnU_ic', 'https://www.youtube.com/watch?v=igbBxFdoMSQ', 'https://www.youtube.com/watch?v=j6jis7sycJk', 'https://www.youtube.com/watch?v=JnrAjXNgOms', 'https://www.youtube.com/watch?v=Z6fPuui6hAQ', 'https://www.youtube.com/watch?v=5AE4azfyedI', 'https://www.youtube.com/watch?v=uf9mTLZarlg', 'https://www.youtube.com/watch?v=B2CxssVbgNA', 'https://www.youtube.com/watch?v=DmRZ_MbPowU', 'https://www.youtube.com/watch?v=zR9NI0oWhag', 'https://www.youtube.com/watch?v=XL0URkUvQeU', 'https://www.youtube.com/watch?v=d1FybxYCB-4', 'https://www.youtube.com/watch?v=hvo6bnxF_TQ', 'https://www.youtube.com/watch?v=nC6mYNc_Hso', 'https://www.youtube.com/watch?v=FzR_xLNSFng', 'https://www.youtube.com/watch?v=1uuWyG_3Utc', 'https://www.youtube.com/watch?v=LMiN63pFQhw', 'https://www.youtube.com/watch?v=LDIhRI-CahI', 'https://www.youtube.com/watch?v=r_V6fcI-JBM', 'https://www.youtube.com/watch?v=Le0wSg6krts', 'https://www.youtube.com/watch?v=vrDPBTLXu_o', 'https://www.youtube.com/watch?v=r_xfhH3TVzk', 'https://www.youtube.com/watch?v=Ho-5QqOdc1c', 'https://www.youtube.com/watch?v=VtHLuAcTitk', 'https://www.youtube.com/watch?v=V5vP_OXI16E'], '조회수': ['3,676회', '22,256회', '13,337회', '20,768회', '3,081회', '17,812회', '3,109회', '117,028회', '5,833회', '15,319회', '7,008회', '137,256회', '61,843회', '43,761회', '9,720회', '265,395회', '6,981회', '7,791회', '17,746회', '71,754회', '29,998회', '6,810회', '3,836회', '20,783회', '7,542회', '20,293회', '18,126회', '3,944회', '615,311회', '4,636회']}\n",
      "\n",
      "{'제목': ['[날씨] 동해안 대기 건조 확대…출근길 반짝 추위 / SBS', '이재명 후보에게 듣는다 \"스스로도 많이 나갔다 한 발언은…\" / SBS', \"4강행 확정 지은 차유람의 쓰리쿠션 '짜릿' / SBS\", '공수처 출범 1년 초라한 성적표…돌파구는 / SBS', \"중국 경제 둔화에 수출 '가시밭길' / SBS\", '[여론조사] 박근혜 사면 \"잘했다\" 63.4%…20대 \\'부정적\\' / SBS', '[여론조사] \"사과 충분\" 이 장남 44.5%…윤 배우자 25.6% / SBS', '\"대세 하락\" vs \"소폭 상승\"…2022 부동산 시장 전망 보니 / SBS', '강추위에 떨던 치매 노인…이웃 관심에 가족 품으로 / SBS', '8뉴스｜1/2(일) - 주말 5주 만에 3천 명대…위중증 1천 명대 / SBS', \"'고양시 붕괴 위험' 건물 안전진단 시작…장사 못 해 '막막' / SBS\", 'CCTV 찍히고 경보 울렸는데…철책 넘어 월북 / SBS', '이재명 \"신기술 일자리 창출\"…윤석열 \"디지털 플랫폼 정부\" / SBS', \"내일(3일)부터 방역 패스 '이 날짜' 전이면 제한됩니다 / SBS\", '주말 5주 만에 3천 명대…위중증 1천 명대 / SBS', '안철수 \"단일화 생각 없어..정권교체로 새시대 맏형될 것\" / SBS', \"[날씨] '영상권 기온' 추위 누그러져…차츰 미세먼지↑ / SBS\", '설 앞두고 선물 · 제수용품 원산지 표시 집중 단속 / SBS', '이재명, 스마트시티 점검…윤석열, 디지털정부 약속 / SBS', '강원 동부전선 철책 통해 1명 월북…생사확인 안 돼 / SBS', \"신규 확진 3,833명…3일부터 방역패스 '유효기간' 적용 / SBS\", '12시 뉴스｜1/2(일) - 신규 확진 주말기준 5주 만에 3천명대…내일부터 방역패스 유효기간 적용 外 / SBS', '윤석열 \"앞으로 감염병 대응도 훨씬 과학적이고 정교하게\" - 공약 발표 / SBS', '[날씨] 중부 곳곳 약한 눈비…동해안 대기 건조 / SBS', '미, 새해 첫날부터 총격 사고…신년 파티서 3명 사망 / SBS', '오미크론·폭설로 2,500편 결항…계속되는 미 항공대란 / SBS', '동해행 KTX 열차, 고장으로 멈춰…1시간 반 지연 / SBS', '오미크론, 한 달 만에 1천 명↑…델타보다 2.5배 빨라 / SBS', \"'대선주자 지지율' 이재명 34.9% vs 윤석열 26.0% / SBS\", '6시 뉴스｜1/2(일) - 대선주자 지지율 이재명 34.9% vs. 윤석열 26.0% 外 / SBS'], '주소': ['https://www.youtube.com/watch?v=tLNRihkNN1Q', 'https://www.youtube.com/watch?v=5E-r2smrE2c', 'https://www.youtube.com/watch?v=6PaVpJePcvs', 'https://www.youtube.com/watch?v=hfoGdjVsGXg', 'https://www.youtube.com/watch?v=D0L33MaKPCQ', 'https://www.youtube.com/watch?v=l62zxwhP2Qg', 'https://www.youtube.com/watch?v=V0JQ28jhaHU', 'https://www.youtube.com/watch?v=-HfAkQcsWFo', 'https://www.youtube.com/watch?v=2ehiNiqxBdc', 'https://www.youtube.com/watch?v=5SWDx9aFXJ4', 'https://www.youtube.com/watch?v=w1Wo5TlEong', 'https://www.youtube.com/watch?v=d6fcCwRthxA', 'https://www.youtube.com/watch?v=uueyz5tz_d4', 'https://www.youtube.com/watch?v=EdWN7CuhWO8', 'https://www.youtube.com/watch?v=2FvQLOkAQKY', 'https://www.youtube.com/watch?v=yThXqUgrthc', 'https://www.youtube.com/watch?v=e1emiG9QPss', 'https://www.youtube.com/watch?v=RvjWZNLPsYM', 'https://www.youtube.com/watch?v=vYjssQan5mM', 'https://www.youtube.com/watch?v=5_9ntJqZ2bg', 'https://www.youtube.com/watch?v=uKIPQS1ctdM', 'https://www.youtube.com/watch?v=f53ET18-pOY', 'https://www.youtube.com/watch?v=ZLCt8Qox3gM', 'https://www.youtube.com/watch?v=6uo1gPCTn7k', 'https://www.youtube.com/watch?v=uzZqEmiTQ9s', 'https://www.youtube.com/watch?v=Em8XBY4aSZ4', 'https://www.youtube.com/watch?v=A97BM8oN464', 'https://www.youtube.com/watch?v=djD76GOvyXk', 'https://www.youtube.com/watch?v=7F8GfqPrskk', 'https://www.youtube.com/watch?v=eP5BqbfyF5I'], '조회수': ['3,659회', '19,444회', '16,111회', '2,115회', '3,918회', '2,791회', '15,273회', '6,407회', '1,785회', '44,905회', '2,740회', '28,810회', '1,455회', '6,169회', '2,022회', '21,406회', '3,939회', '1,950회', '2,211회', '103,769회', '11,155회', '9,609회', '13,144회', '8,037회', '25,191회', '2,307회', '12,800회', '4,487회', '13,387회', '9,446회']}\n",
      "\n"
     ]
    }
   ],
   "source": [
    "from selenium import webdriver\n",
    "from bs4 import BeautifulSoup as bs\n",
    "import pandas as pd\n",
    "from selenium.webdriver.common.keys import Keys\n",
    "import time\n",
    "\n",
    "keyword = ['c/newskbs', 'c/MBCNEWS11', 'sbs8news']\n",
    "yt_list = dict()\n",
    "\n",
    "for k in keyword :\n",
    "    url = 'https://www.youtube.com/{}/videos'.format(k)\n",
    "    driver = webdriver.Chrome('./chromedriver.exe')\n",
    "    driver.get(url)\n",
    "    soup = bs(driver.page_source, 'html.parser')\n",
    "    driver.close()\n",
    "\n",
    "    name = soup.select('a#video-title')\n",
    "    video_url = soup.select('a#video-title')\n",
    "    view = soup.select('a#video-title')\n",
    "\n",
    "    name_list = []\n",
    "    url_list = []\n",
    "    view_list = []\n",
    "\n",
    "    for i in range(len(name)):\n",
    "        name_list.append(name[i].text.strip())\n",
    "        view_list.append(view[i].get('aria-label').split()[-1])\n",
    "    for i in video_url:\n",
    "        url_list.append('{}{}'.format('https://www.youtube.com',i.get('href')))\n",
    "\n",
    "    yt_Info = {\n",
    "        '제목': name_list,\n",
    "        '주소': url_list,\n",
    "        '조회수': view_list\n",
    "    }\n",
    "    yt_list[k] = yt_Info \n",
    "    print(yt_list[k])\n",
    "    print('')\n",
    "    "
   ]
  },
  {
   "cell_type": "code",
   "execution_count": 26,
   "id": "06ec0b6f",
   "metadata": {},
   "outputs": [
    {
     "name": "stdout",
     "output_type": "stream",
     "text": [
      "c/newskbs : ['https://www.youtube.com/watch?v=udHh3hXldx8', 'https://www.youtube.com/watch?v=InzvnlDFEJY', 'https://www.youtube.com/watch?v=0bCWOPSBj5c', 'https://www.youtube.com/watch?v=U33TbA_PhcA', 'https://www.youtube.com/watch?v=efgU_aQsvsE', 'https://www.youtube.com/watch?v=YdO2ch3s26A', 'https://www.youtube.com/watch?v=uBWO59kLWQY', 'https://www.youtube.com/watch?v=sy8FLPdpaA8', 'https://www.youtube.com/watch?v=0Gf_vtK8LlQ', 'https://www.youtube.com/watch?v=VgEG5qMYhlY', 'https://www.youtube.com/watch?v=1wqX5TC5Iik', 'https://www.youtube.com/watch?v=VQpNzyAvIEY', 'https://www.youtube.com/watch?v=V73bqj_lzpo', 'https://www.youtube.com/watch?v=fJgkauQBbaw', 'https://www.youtube.com/watch?v=czr4UEdVpGA', 'https://www.youtube.com/watch?v=iI-9UavzZXY', 'https://www.youtube.com/watch?v=mcAaWWbOpmE', 'https://www.youtube.com/watch?v=kD-njP5iGRk', 'https://www.youtube.com/watch?v=Jd-yLj3qeIA', 'https://www.youtube.com/watch?v=OWct6UX3DvY', 'https://www.youtube.com/watch?v=4UsBI7Fmktw', 'https://www.youtube.com/watch?v=HgtbXvG54iM', 'https://www.youtube.com/watch?v=Uh1yHjK2QlY', 'https://www.youtube.com/watch?v=zt3P8VWGzOg', 'https://www.youtube.com/watch?v=CVMmeTRteqQ', 'https://www.youtube.com/watch?v=5P7HqTj6zGI', 'https://www.youtube.com/watch?v=p0rr8ROrAlk', 'https://www.youtube.com/watch?v=1h0_Bv-mc2k', 'https://www.youtube.com/watch?v=dbKB4p0cnB0', 'https://www.youtube.com/watch?v=KcJypbgb1yE']\n",
      "\n",
      "c/MBCNEWS11 : ['https://www.youtube.com/watch?v=IxN2JhqCU-g', 'https://www.youtube.com/watch?v=UG8uyz_ZGvU', 'https://www.youtube.com/watch?v=k8FHmu2Ug6E', 'https://www.youtube.com/watch?v=si-AwGDln9A', 'https://www.youtube.com/watch?v=l4AFhlF1QoI', 'https://www.youtube.com/watch?v=EpJKhPnU_ic', 'https://www.youtube.com/watch?v=igbBxFdoMSQ', 'https://www.youtube.com/watch?v=j6jis7sycJk', 'https://www.youtube.com/watch?v=JnrAjXNgOms', 'https://www.youtube.com/watch?v=Z6fPuui6hAQ', 'https://www.youtube.com/watch?v=5AE4azfyedI', 'https://www.youtube.com/watch?v=uf9mTLZarlg', 'https://www.youtube.com/watch?v=B2CxssVbgNA', 'https://www.youtube.com/watch?v=DmRZ_MbPowU', 'https://www.youtube.com/watch?v=zR9NI0oWhag', 'https://www.youtube.com/watch?v=XL0URkUvQeU', 'https://www.youtube.com/watch?v=d1FybxYCB-4', 'https://www.youtube.com/watch?v=hvo6bnxF_TQ', 'https://www.youtube.com/watch?v=nC6mYNc_Hso', 'https://www.youtube.com/watch?v=FzR_xLNSFng', 'https://www.youtube.com/watch?v=1uuWyG_3Utc', 'https://www.youtube.com/watch?v=LMiN63pFQhw', 'https://www.youtube.com/watch?v=LDIhRI-CahI', 'https://www.youtube.com/watch?v=r_V6fcI-JBM', 'https://www.youtube.com/watch?v=Le0wSg6krts', 'https://www.youtube.com/watch?v=vrDPBTLXu_o', 'https://www.youtube.com/watch?v=r_xfhH3TVzk', 'https://www.youtube.com/watch?v=Ho-5QqOdc1c', 'https://www.youtube.com/watch?v=VtHLuAcTitk', 'https://www.youtube.com/watch?v=V5vP_OXI16E']\n",
      "\n",
      "sbs8news : ['https://www.youtube.com/watch?v=tLNRihkNN1Q', 'https://www.youtube.com/watch?v=5E-r2smrE2c', 'https://www.youtube.com/watch?v=6PaVpJePcvs', 'https://www.youtube.com/watch?v=hfoGdjVsGXg', 'https://www.youtube.com/watch?v=D0L33MaKPCQ', 'https://www.youtube.com/watch?v=l62zxwhP2Qg', 'https://www.youtube.com/watch?v=V0JQ28jhaHU', 'https://www.youtube.com/watch?v=-HfAkQcsWFo', 'https://www.youtube.com/watch?v=2ehiNiqxBdc', 'https://www.youtube.com/watch?v=5SWDx9aFXJ4', 'https://www.youtube.com/watch?v=w1Wo5TlEong', 'https://www.youtube.com/watch?v=d6fcCwRthxA', 'https://www.youtube.com/watch?v=uueyz5tz_d4', 'https://www.youtube.com/watch?v=EdWN7CuhWO8', 'https://www.youtube.com/watch?v=2FvQLOkAQKY', 'https://www.youtube.com/watch?v=yThXqUgrthc', 'https://www.youtube.com/watch?v=e1emiG9QPss', 'https://www.youtube.com/watch?v=RvjWZNLPsYM', 'https://www.youtube.com/watch?v=vYjssQan5mM', 'https://www.youtube.com/watch?v=5_9ntJqZ2bg', 'https://www.youtube.com/watch?v=uKIPQS1ctdM', 'https://www.youtube.com/watch?v=f53ET18-pOY', 'https://www.youtube.com/watch?v=ZLCt8Qox3gM', 'https://www.youtube.com/watch?v=6uo1gPCTn7k', 'https://www.youtube.com/watch?v=uzZqEmiTQ9s', 'https://www.youtube.com/watch?v=Em8XBY4aSZ4', 'https://www.youtube.com/watch?v=A97BM8oN464', 'https://www.youtube.com/watch?v=djD76GOvyXk', 'https://www.youtube.com/watch?v=7F8GfqPrskk', 'https://www.youtube.com/watch?v=eP5BqbfyF5I']\n",
      "\n"
     ]
    }
   ],
   "source": [
    "import copy\n",
    "\n",
    "DIR = 'D:\\\\tessvenv\\\\news_caps'\n",
    "\n",
    "for k in keyword :\n",
    "    video_url_list = copy.deepcopy(yt_list[k]['주소'])\n",
    "    print('{} :'.format(k), video_url_list)\n",
    "    print()\n"
   ]
  },
  {
   "cell_type": "code",
   "execution_count": 5,
   "id": "d54318cf",
   "metadata": {},
   "outputs": [],
   "source": [
    "DIR = 'D:\\\\tessvenv\\\\news_caps'\n",
    "journal_name = 'MBC'\n",
    "\n",
    "video_url_list = ['https://www.youtube.com/watch?v=He0pIxuFIj0', 'https://www.youtube.com/watch?v=y1ujjwWFkB0',\n",
    "                 'https://www.youtube.com/watch?v=LCQsheCT_mo', 'https://www.youtube.com/watch?v=auGpUN6cAwQ',\n",
    "                 'https://www.youtube.com/watch?v=_akJzC_SjqQ', 'https://www.youtube.com/watch?v=OWzfntct0c0',\n",
    "                 'https://www.youtube.com/watch?v=JnOF98tB_8I', 'https://www.youtube.com/watch?v=DFBMBD7nQis',\n",
    "                 'https://www.youtube.com/watch?v=0Zgo5d-FC4Y', 'https://www.youtube.com/watch?v=yGTVR6OYXA0',\n",
    "                 'https://www.youtube.com/watch?v=2nNzvJ4IEec', 'https://www.youtube.com/watch?v=r-C8OHt_Q40',\n",
    "                 'https://www.youtube.com/watch?v=u_il_4RduZY', 'https://www.youtube.com/watch?v=mcTYRd1tFpA', \n",
    "                 'https://www.youtube.com/watch?v=-RhFIbFgDEY', 'https://www.youtube.com/watch?v=7W3wJiP_1ZI',\n",
    "                 '', 'https://www.youtube.com/watch?v=ZfZnRjTRBeo',\n",
    "                 '', '',\n",
    "                 '', '',\n",
    "                 '', '',\n",
    "                 ]"
   ]
  },
  {
   "cell_type": "code",
   "execution_count": 6,
   "id": "4b92e74c",
   "metadata": {
    "scrolled": true
   },
   "outputs": [
    {
     "name": "stderr",
     "output_type": "stream",
     "text": [
      "d:\\tessvenv\\lib\\site-packages\\ipykernel_launcher.py:8: DeprecationWarning: Call to deprecated function get_by_language_code (This object can be treated as a dictionary, i.e. captions['en']).\n",
      "  \n",
      "d:\\tessvenv\\lib\\site-packages\\ipykernel_launcher.py:8: DeprecationWarning: Call to deprecated function get_by_language_code (This object can be treated as a dictionary, i.e. captions['en']).\n",
      "  \n",
      "d:\\tessvenv\\lib\\site-packages\\ipykernel_launcher.py:8: DeprecationWarning: Call to deprecated function get_by_language_code (This object can be treated as a dictionary, i.e. captions['en']).\n",
      "  \n",
      "d:\\tessvenv\\lib\\site-packages\\ipykernel_launcher.py:8: DeprecationWarning: Call to deprecated function get_by_language_code (This object can be treated as a dictionary, i.e. captions['en']).\n",
      "  \n",
      "d:\\tessvenv\\lib\\site-packages\\ipykernel_launcher.py:8: DeprecationWarning: Call to deprecated function get_by_language_code (This object can be treated as a dictionary, i.e. captions['en']).\n",
      "  \n",
      "d:\\tessvenv\\lib\\site-packages\\ipykernel_launcher.py:8: DeprecationWarning: Call to deprecated function get_by_language_code (This object can be treated as a dictionary, i.e. captions['en']).\n",
      "  \n",
      "d:\\tessvenv\\lib\\site-packages\\ipykernel_launcher.py:8: DeprecationWarning: Call to deprecated function get_by_language_code (This object can be treated as a dictionary, i.e. captions['en']).\n",
      "  \n",
      "d:\\tessvenv\\lib\\site-packages\\ipykernel_launcher.py:8: DeprecationWarning: Call to deprecated function get_by_language_code (This object can be treated as a dictionary, i.e. captions['en']).\n",
      "  \n",
      "d:\\tessvenv\\lib\\site-packages\\ipykernel_launcher.py:8: DeprecationWarning: Call to deprecated function get_by_language_code (This object can be treated as a dictionary, i.e. captions['en']).\n",
      "  \n",
      "d:\\tessvenv\\lib\\site-packages\\ipykernel_launcher.py:8: DeprecationWarning: Call to deprecated function get_by_language_code (This object can be treated as a dictionary, i.e. captions['en']).\n",
      "  \n",
      "d:\\tessvenv\\lib\\site-packages\\ipykernel_launcher.py:8: DeprecationWarning: Call to deprecated function get_by_language_code (This object can be treated as a dictionary, i.e. captions['en']).\n",
      "  \n",
      "d:\\tessvenv\\lib\\site-packages\\ipykernel_launcher.py:8: DeprecationWarning: Call to deprecated function get_by_language_code (This object can be treated as a dictionary, i.e. captions['en']).\n",
      "  \n",
      "d:\\tessvenv\\lib\\site-packages\\ipykernel_launcher.py:8: DeprecationWarning: Call to deprecated function get_by_language_code (This object can be treated as a dictionary, i.e. captions['en']).\n",
      "  \n",
      "d:\\tessvenv\\lib\\site-packages\\ipykernel_launcher.py:8: DeprecationWarning: Call to deprecated function get_by_language_code (This object can be treated as a dictionary, i.e. captions['en']).\n",
      "  \n",
      "d:\\tessvenv\\lib\\site-packages\\ipykernel_launcher.py:8: DeprecationWarning: Call to deprecated function get_by_language_code (This object can be treated as a dictionary, i.e. captions['en']).\n",
      "  \n",
      "d:\\tessvenv\\lib\\site-packages\\ipykernel_launcher.py:8: DeprecationWarning: Call to deprecated function get_by_language_code (This object can be treated as a dictionary, i.e. captions['en']).\n",
      "  \n"
     ]
    }
   ],
   "source": [
    "for video_url in video_url_list :\n",
    "    video_name = journal_name + '_' + video_url[33:]\n",
    "    video_path = os.path.join(DIR, video_name+'.txt' )\n",
    "\n",
    "    yt = YouTube(video_url)\n",
    "    #print(yt.captions.all())\n",
    "\n",
    "    cap = yt.captions.get_by_language_code('a.ko')\n",
    "\n",
    "    # 자막 살펴보기(xml 포맷)\n",
    "    cap_xml = cap.xml_captions\n",
    "    #print(cap_xml)\n",
    "\n",
    "    # 다운로드\n",
    "    download_cap = cap.download(video_name, False, '', '') # title/srt여부/파일경로/prefix\n",
    "\n",
    "    tree = parse(download_cap)\n",
    "    root = tree.getroot()\n",
    "    words = ''\n",
    "    for w in root.itertext() :\n",
    "        if w is '' or w is '\\n' :\n",
    "            continue\n",
    "        else :\n",
    "            words= words + w\n",
    "\n",
    "    #print(words)\n",
    "\n",
    "    with open(video_path, 'w', encoding='utf8') as f:\n",
    "        f.write(words)"
   ]
  },
  {
   "cell_type": "code",
   "execution_count": null,
   "id": "8a857bdf",
   "metadata": {},
   "outputs": [],
   "source": []
  }
 ],
 "metadata": {
  "kernelspec": {
   "display_name": "Python 3 (ipykernel)",
   "language": "python",
   "name": "python3"
  },
  "language_info": {
   "codemirror_mode": {
    "name": "ipython",
    "version": 3
   },
   "file_extension": ".py",
   "mimetype": "text/x-python",
   "name": "python",
   "nbconvert_exporter": "python",
   "pygments_lexer": "ipython3",
   "version": "3.9.2"
  }
 },
 "nbformat": 4,
 "nbformat_minor": 5
}
