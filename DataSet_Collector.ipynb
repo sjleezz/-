{
 "cells": [
  {
   "cell_type": "code",
   "execution_count": 1,
   "id": "fa2f40e7",
   "metadata": {},
   "outputs": [],
   "source": [
    "from pytube import YouTube\n",
    "from xml.etree.ElementTree import parse\n",
    "import os"
   ]
  },
  {
   "cell_type": "code",
   "execution_count": 2,
   "id": "0f1a9672",
   "metadata": {},
   "outputs": [
    {
     "name": "stdout",
     "output_type": "stream",
     "text": [
      "D:\\kusp\\venv\\kusp\n"
     ]
    }
   ],
   "source": [
    "print(os.getcwd())"
   ]
  },
  {
   "cell_type": "markdown",
   "id": "0feec25b",
   "metadata": {},
   "source": [
    "### Data Properties"
   ]
  },
  {
   "cell_type": "code",
   "execution_count": 3,
   "id": "52519332",
   "metadata": {},
   "outputs": [
    {
     "name": "stderr",
     "output_type": "stream",
     "text": [
      "C:\\Users\\ASUS\\AppData\\Local\\Temp/ipykernel_6768/4288776634.py:12: DeprecationWarning: executable_path has been deprecated, please pass in a Service object\n",
      "  driver = webdriver.Chrome('./chromedriver.exe')\n"
     ]
    }
   ],
   "source": [
    "from selenium import webdriver\n",
    "from bs4 import BeautifulSoup as bs\n",
    "import pandas as pd\n",
    "from selenium.webdriver.common.keys import Keys\n",
    "import time\n",
    "\n",
    "keyword = ['c/newskbs', 'c/MBCNEWS11', 'sbs8news']\n",
    "yt_list = dict()\n",
    "\n",
    "for k in keyword :\n",
    "    url = 'https://www.youtube.com/{}/videos'.format(k)\n",
    "    driver = webdriver.Chrome('./chromedriver.exe')\n",
    "    driver.get(url)\n",
    "    soup = bs(driver.page_source, 'html.parser')\n",
    "    driver.close()\n",
    "\n",
    "    name = soup.select('a#video-title')\n",
    "    video_url = soup.select('a#video-title')\n",
    "    view = soup.select('a#video-title')\n",
    "\n",
    "    name_list = []\n",
    "    url_list = []\n",
    "    view_list = []\n",
    "\n",
    "    for i in range(len(name)):\n",
    "        name_list.append(name[i].text.strip())\n",
    "        view_list.append(view[i].get('aria-label').split()[-1])\n",
    "    for i in video_url:\n",
    "        url_list.append('{}{}'.format('https://www.youtube.com',i.get('href')))\n",
    "\n",
    "    yt_Info = {\n",
    "        '제목': name_list,\n",
    "        '주소': url_list,\n",
    "        '조회수': view_list\n",
    "    }\n",
    "    yt_list[k] = yt_Info \n",
    "    "
   ]
  },
  {
   "cell_type": "code",
   "execution_count": 19,
   "id": "06ec0b6f",
   "metadata": {},
   "outputs": [
    {
     "name": "stderr",
     "output_type": "stream",
     "text": [
      "<>:35: SyntaxWarning: \"is\" with a literal. Did you mean \"==\"?\n",
      "<>:35: SyntaxWarning: \"is\" with a literal. Did you mean \"==\"?\n",
      "<>:35: SyntaxWarning: \"is\" with a literal. Did you mean \"==\"?\n",
      "<>:35: SyntaxWarning: \"is\" with a literal. Did you mean \"==\"?\n",
      "C:\\Users\\ASUS\\AppData\\Local\\Temp/ipykernel_6768/2746235212.py:35: SyntaxWarning: \"is\" with a literal. Did you mean \"==\"?\n",
      "  if w is '' or w is '\\n' :\n",
      "C:\\Users\\ASUS\\AppData\\Local\\Temp/ipykernel_6768/2746235212.py:35: SyntaxWarning: \"is\" with a literal. Did you mean \"==\"?\n",
      "  if w is '' or w is '\\n' :\n"
     ]
    },
    {
     "name": "stdout",
     "output_type": "stream",
     "text": [
      "c/newskbs : ['https://www.youtube.com/watch?v=tLNRihkNN1Q', 'https://www.youtube.com/watch?v=5E-r2smrE2c', 'https://www.youtube.com/watch?v=6PaVpJePcvs', 'https://www.youtube.com/watch?v=hfoGdjVsGXg', 'https://www.youtube.com/watch?v=D0L33MaKPCQ', 'https://www.youtube.com/watch?v=l62zxwhP2Qg', 'https://www.youtube.com/watch?v=V0JQ28jhaHU', 'https://www.youtube.com/watch?v=-HfAkQcsWFo', 'https://www.youtube.com/watch?v=2ehiNiqxBdc', 'https://www.youtube.com/watch?v=5SWDx9aFXJ4', 'https://www.youtube.com/watch?v=w1Wo5TlEong', 'https://www.youtube.com/watch?v=d6fcCwRthxA', 'https://www.youtube.com/watch?v=uueyz5tz_d4', 'https://www.youtube.com/watch?v=EdWN7CuhWO8', 'https://www.youtube.com/watch?v=2FvQLOkAQKY', 'https://www.youtube.com/watch?v=yThXqUgrthc', 'https://www.youtube.com/watch?v=e1emiG9QPss', 'https://www.youtube.com/watch?v=RvjWZNLPsYM', 'https://www.youtube.com/watch?v=vYjssQan5mM', 'https://www.youtube.com/watch?v=5_9ntJqZ2bg', 'https://www.youtube.com/watch?v=uKIPQS1ctdM', 'https://www.youtube.com/watch?v=f53ET18-pOY', 'https://www.youtube.com/watch?v=ZLCt8Qox3gM', 'https://www.youtube.com/watch?v=6uo1gPCTn7k', 'https://www.youtube.com/watch?v=uzZqEmiTQ9s', 'https://www.youtube.com/watch?v=Em8XBY4aSZ4', 'https://www.youtube.com/watch?v=A97BM8oN464', 'https://www.youtube.com/watch?v=djD76GOvyXk', 'https://www.youtube.com/watch?v=7F8GfqPrskk', 'https://www.youtube.com/watch?v=eP5BqbfyF5I', ['https://www.youtube.com/watch?v=udHh3hXldx8', 'https://www.youtube.com/watch?v=InzvnlDFEJY', 'https://www.youtube.com/watch?v=0bCWOPSBj5c', 'https://www.youtube.com/watch?v=U33TbA_PhcA', 'https://www.youtube.com/watch?v=efgU_aQsvsE', 'https://www.youtube.com/watch?v=YdO2ch3s26A', 'https://www.youtube.com/watch?v=uBWO59kLWQY', 'https://www.youtube.com/watch?v=sy8FLPdpaA8', 'https://www.youtube.com/watch?v=0Gf_vtK8LlQ', 'https://www.youtube.com/watch?v=VgEG5qMYhlY', 'https://www.youtube.com/watch?v=1wqX5TC5Iik', 'https://www.youtube.com/watch?v=VQpNzyAvIEY', 'https://www.youtube.com/watch?v=V73bqj_lzpo', 'https://www.youtube.com/watch?v=fJgkauQBbaw', 'https://www.youtube.com/watch?v=czr4UEdVpGA', 'https://www.youtube.com/watch?v=iI-9UavzZXY', 'https://www.youtube.com/watch?v=mcAaWWbOpmE', 'https://www.youtube.com/watch?v=kD-njP5iGRk', 'https://www.youtube.com/watch?v=Jd-yLj3qeIA', 'https://www.youtube.com/watch?v=OWct6UX3DvY', 'https://www.youtube.com/watch?v=4UsBI7Fmktw', 'https://www.youtube.com/watch?v=HgtbXvG54iM', 'https://www.youtube.com/watch?v=Uh1yHjK2QlY', 'https://www.youtube.com/watch?v=zt3P8VWGzOg', 'https://www.youtube.com/watch?v=CVMmeTRteqQ', 'https://www.youtube.com/watch?v=5P7HqTj6zGI', 'https://www.youtube.com/watch?v=p0rr8ROrAlk', 'https://www.youtube.com/watch?v=1h0_Bv-mc2k', 'https://www.youtube.com/watch?v=dbKB4p0cnB0', 'https://www.youtube.com/watch?v=KcJypbgb1yE'], ['https://www.youtube.com/watch?v=udHh3hXldx8', 'https://www.youtube.com/watch?v=InzvnlDFEJY', 'https://www.youtube.com/watch?v=0bCWOPSBj5c', 'https://www.youtube.com/watch?v=U33TbA_PhcA', 'https://www.youtube.com/watch?v=efgU_aQsvsE', 'https://www.youtube.com/watch?v=YdO2ch3s26A', 'https://www.youtube.com/watch?v=uBWO59kLWQY', 'https://www.youtube.com/watch?v=sy8FLPdpaA8', 'https://www.youtube.com/watch?v=0Gf_vtK8LlQ', 'https://www.youtube.com/watch?v=VgEG5qMYhlY', 'https://www.youtube.com/watch?v=1wqX5TC5Iik', 'https://www.youtube.com/watch?v=VQpNzyAvIEY', 'https://www.youtube.com/watch?v=V73bqj_lzpo', 'https://www.youtube.com/watch?v=fJgkauQBbaw', 'https://www.youtube.com/watch?v=czr4UEdVpGA', 'https://www.youtube.com/watch?v=iI-9UavzZXY', 'https://www.youtube.com/watch?v=mcAaWWbOpmE', 'https://www.youtube.com/watch?v=kD-njP5iGRk', 'https://www.youtube.com/watch?v=Jd-yLj3qeIA', 'https://www.youtube.com/watch?v=OWct6UX3DvY', 'https://www.youtube.com/watch?v=4UsBI7Fmktw', 'https://www.youtube.com/watch?v=HgtbXvG54iM', 'https://www.youtube.com/watch?v=Uh1yHjK2QlY', 'https://www.youtube.com/watch?v=zt3P8VWGzOg', 'https://www.youtube.com/watch?v=CVMmeTRteqQ', 'https://www.youtube.com/watch?v=5P7HqTj6zGI', 'https://www.youtube.com/watch?v=p0rr8ROrAlk', 'https://www.youtube.com/watch?v=1h0_Bv-mc2k', 'https://www.youtube.com/watch?v=dbKB4p0cnB0', 'https://www.youtube.com/watch?v=KcJypbgb1yE'], ['https://www.youtube.com/watch?v=udHh3hXldx8', 'https://www.youtube.com/watch?v=InzvnlDFEJY', 'https://www.youtube.com/watch?v=0bCWOPSBj5c', 'https://www.youtube.com/watch?v=U33TbA_PhcA', 'https://www.youtube.com/watch?v=efgU_aQsvsE', 'https://www.youtube.com/watch?v=YdO2ch3s26A', 'https://www.youtube.com/watch?v=uBWO59kLWQY', 'https://www.youtube.com/watch?v=sy8FLPdpaA8', 'https://www.youtube.com/watch?v=0Gf_vtK8LlQ', 'https://www.youtube.com/watch?v=VgEG5qMYhlY', 'https://www.youtube.com/watch?v=1wqX5TC5Iik', 'https://www.youtube.com/watch?v=VQpNzyAvIEY', 'https://www.youtube.com/watch?v=V73bqj_lzpo', 'https://www.youtube.com/watch?v=fJgkauQBbaw', 'https://www.youtube.com/watch?v=czr4UEdVpGA', 'https://www.youtube.com/watch?v=iI-9UavzZXY', 'https://www.youtube.com/watch?v=mcAaWWbOpmE', 'https://www.youtube.com/watch?v=kD-njP5iGRk', 'https://www.youtube.com/watch?v=Jd-yLj3qeIA', 'https://www.youtube.com/watch?v=OWct6UX3DvY', 'https://www.youtube.com/watch?v=4UsBI7Fmktw', 'https://www.youtube.com/watch?v=HgtbXvG54iM', 'https://www.youtube.com/watch?v=Uh1yHjK2QlY', 'https://www.youtube.com/watch?v=zt3P8VWGzOg', 'https://www.youtube.com/watch?v=CVMmeTRteqQ', 'https://www.youtube.com/watch?v=5P7HqTj6zGI', 'https://www.youtube.com/watch?v=p0rr8ROrAlk', 'https://www.youtube.com/watch?v=1h0_Bv-mc2k', 'https://www.youtube.com/watch?v=dbKB4p0cnB0', 'https://www.youtube.com/watch?v=KcJypbgb1yE'], ['https://www.youtube.com/watch?v=udHh3hXldx8', 'https://www.youtube.com/watch?v=InzvnlDFEJY', 'https://www.youtube.com/watch?v=0bCWOPSBj5c', 'https://www.youtube.com/watch?v=U33TbA_PhcA', 'https://www.youtube.com/watch?v=efgU_aQsvsE', 'https://www.youtube.com/watch?v=YdO2ch3s26A', 'https://www.youtube.com/watch?v=uBWO59kLWQY', 'https://www.youtube.com/watch?v=sy8FLPdpaA8', 'https://www.youtube.com/watch?v=0Gf_vtK8LlQ', 'https://www.youtube.com/watch?v=VgEG5qMYhlY', 'https://www.youtube.com/watch?v=1wqX5TC5Iik', 'https://www.youtube.com/watch?v=VQpNzyAvIEY', 'https://www.youtube.com/watch?v=V73bqj_lzpo', 'https://www.youtube.com/watch?v=fJgkauQBbaw', 'https://www.youtube.com/watch?v=czr4UEdVpGA', 'https://www.youtube.com/watch?v=iI-9UavzZXY', 'https://www.youtube.com/watch?v=mcAaWWbOpmE', 'https://www.youtube.com/watch?v=kD-njP5iGRk', 'https://www.youtube.com/watch?v=Jd-yLj3qeIA', 'https://www.youtube.com/watch?v=OWct6UX3DvY', 'https://www.youtube.com/watch?v=4UsBI7Fmktw', 'https://www.youtube.com/watch?v=HgtbXvG54iM', 'https://www.youtube.com/watch?v=Uh1yHjK2QlY', 'https://www.youtube.com/watch?v=zt3P8VWGzOg', 'https://www.youtube.com/watch?v=CVMmeTRteqQ', 'https://www.youtube.com/watch?v=5P7HqTj6zGI', 'https://www.youtube.com/watch?v=p0rr8ROrAlk', 'https://www.youtube.com/watch?v=1h0_Bv-mc2k', 'https://www.youtube.com/watch?v=dbKB4p0cnB0', 'https://www.youtube.com/watch?v=KcJypbgb1yE'], ['https://www.youtube.com/watch?v=udHh3hXldx8', 'https://www.youtube.com/watch?v=InzvnlDFEJY', 'https://www.youtube.com/watch?v=0bCWOPSBj5c', 'https://www.youtube.com/watch?v=U33TbA_PhcA', 'https://www.youtube.com/watch?v=efgU_aQsvsE', 'https://www.youtube.com/watch?v=YdO2ch3s26A', 'https://www.youtube.com/watch?v=uBWO59kLWQY', 'https://www.youtube.com/watch?v=sy8FLPdpaA8', 'https://www.youtube.com/watch?v=0Gf_vtK8LlQ', 'https://www.youtube.com/watch?v=VgEG5qMYhlY', 'https://www.youtube.com/watch?v=1wqX5TC5Iik', 'https://www.youtube.com/watch?v=VQpNzyAvIEY', 'https://www.youtube.com/watch?v=V73bqj_lzpo', 'https://www.youtube.com/watch?v=fJgkauQBbaw', 'https://www.youtube.com/watch?v=czr4UEdVpGA', 'https://www.youtube.com/watch?v=iI-9UavzZXY', 'https://www.youtube.com/watch?v=mcAaWWbOpmE', 'https://www.youtube.com/watch?v=kD-njP5iGRk', 'https://www.youtube.com/watch?v=Jd-yLj3qeIA', 'https://www.youtube.com/watch?v=OWct6UX3DvY', 'https://www.youtube.com/watch?v=4UsBI7Fmktw', 'https://www.youtube.com/watch?v=HgtbXvG54iM', 'https://www.youtube.com/watch?v=Uh1yHjK2QlY', 'https://www.youtube.com/watch?v=zt3P8VWGzOg', 'https://www.youtube.com/watch?v=CVMmeTRteqQ', 'https://www.youtube.com/watch?v=5P7HqTj6zGI', 'https://www.youtube.com/watch?v=p0rr8ROrAlk', 'https://www.youtube.com/watch?v=1h0_Bv-mc2k', 'https://www.youtube.com/watch?v=dbKB4p0cnB0', 'https://www.youtube.com/watch?v=KcJypbgb1yE'], ['https://www.youtube.com/watch?v=udHh3hXldx8', 'https://www.youtube.com/watch?v=InzvnlDFEJY', 'https://www.youtube.com/watch?v=0bCWOPSBj5c', 'https://www.youtube.com/watch?v=U33TbA_PhcA', 'https://www.youtube.com/watch?v=efgU_aQsvsE', 'https://www.youtube.com/watch?v=YdO2ch3s26A', 'https://www.youtube.com/watch?v=uBWO59kLWQY', 'https://www.youtube.com/watch?v=sy8FLPdpaA8', 'https://www.youtube.com/watch?v=0Gf_vtK8LlQ', 'https://www.youtube.com/watch?v=VgEG5qMYhlY', 'https://www.youtube.com/watch?v=1wqX5TC5Iik', 'https://www.youtube.com/watch?v=VQpNzyAvIEY', 'https://www.youtube.com/watch?v=V73bqj_lzpo', 'https://www.youtube.com/watch?v=fJgkauQBbaw', 'https://www.youtube.com/watch?v=czr4UEdVpGA', 'https://www.youtube.com/watch?v=iI-9UavzZXY', 'https://www.youtube.com/watch?v=mcAaWWbOpmE', 'https://www.youtube.com/watch?v=kD-njP5iGRk', 'https://www.youtube.com/watch?v=Jd-yLj3qeIA', 'https://www.youtube.com/watch?v=OWct6UX3DvY', 'https://www.youtube.com/watch?v=4UsBI7Fmktw', 'https://www.youtube.com/watch?v=HgtbXvG54iM', 'https://www.youtube.com/watch?v=Uh1yHjK2QlY', 'https://www.youtube.com/watch?v=zt3P8VWGzOg', 'https://www.youtube.com/watch?v=CVMmeTRteqQ', 'https://www.youtube.com/watch?v=5P7HqTj6zGI', 'https://www.youtube.com/watch?v=p0rr8ROrAlk', 'https://www.youtube.com/watch?v=1h0_Bv-mc2k', 'https://www.youtube.com/watch?v=dbKB4p0cnB0', 'https://www.youtube.com/watch?v=KcJypbgb1yE'], ['https://www.youtube.com/watch?v=udHh3hXldx8', 'https://www.youtube.com/watch?v=InzvnlDFEJY', 'https://www.youtube.com/watch?v=0bCWOPSBj5c', 'https://www.youtube.com/watch?v=U33TbA_PhcA', 'https://www.youtube.com/watch?v=efgU_aQsvsE', 'https://www.youtube.com/watch?v=YdO2ch3s26A', 'https://www.youtube.com/watch?v=uBWO59kLWQY', 'https://www.youtube.com/watch?v=sy8FLPdpaA8', 'https://www.youtube.com/watch?v=0Gf_vtK8LlQ', 'https://www.youtube.com/watch?v=VgEG5qMYhlY', 'https://www.youtube.com/watch?v=1wqX5TC5Iik', 'https://www.youtube.com/watch?v=VQpNzyAvIEY', 'https://www.youtube.com/watch?v=V73bqj_lzpo', 'https://www.youtube.com/watch?v=fJgkauQBbaw', 'https://www.youtube.com/watch?v=czr4UEdVpGA', 'https://www.youtube.com/watch?v=iI-9UavzZXY', 'https://www.youtube.com/watch?v=mcAaWWbOpmE', 'https://www.youtube.com/watch?v=kD-njP5iGRk', 'https://www.youtube.com/watch?v=Jd-yLj3qeIA', 'https://www.youtube.com/watch?v=OWct6UX3DvY', 'https://www.youtube.com/watch?v=4UsBI7Fmktw', 'https://www.youtube.com/watch?v=HgtbXvG54iM', 'https://www.youtube.com/watch?v=Uh1yHjK2QlY', 'https://www.youtube.com/watch?v=zt3P8VWGzOg', 'https://www.youtube.com/watch?v=CVMmeTRteqQ', 'https://www.youtube.com/watch?v=5P7HqTj6zGI', 'https://www.youtube.com/watch?v=p0rr8ROrAlk', 'https://www.youtube.com/watch?v=1h0_Bv-mc2k', 'https://www.youtube.com/watch?v=dbKB4p0cnB0', 'https://www.youtube.com/watch?v=KcJypbgb1yE'], ['https://www.youtube.com/watch?v=udHh3hXldx8', 'https://www.youtube.com/watch?v=InzvnlDFEJY', 'https://www.youtube.com/watch?v=0bCWOPSBj5c', 'https://www.youtube.com/watch?v=U33TbA_PhcA', 'https://www.youtube.com/watch?v=efgU_aQsvsE', 'https://www.youtube.com/watch?v=YdO2ch3s26A', 'https://www.youtube.com/watch?v=uBWO59kLWQY', 'https://www.youtube.com/watch?v=sy8FLPdpaA8', 'https://www.youtube.com/watch?v=0Gf_vtK8LlQ', 'https://www.youtube.com/watch?v=VgEG5qMYhlY', 'https://www.youtube.com/watch?v=1wqX5TC5Iik', 'https://www.youtube.com/watch?v=VQpNzyAvIEY', 'https://www.youtube.com/watch?v=V73bqj_lzpo', 'https://www.youtube.com/watch?v=fJgkauQBbaw', 'https://www.youtube.com/watch?v=czr4UEdVpGA', 'https://www.youtube.com/watch?v=iI-9UavzZXY', 'https://www.youtube.com/watch?v=mcAaWWbOpmE', 'https://www.youtube.com/watch?v=kD-njP5iGRk', 'https://www.youtube.com/watch?v=Jd-yLj3qeIA', 'https://www.youtube.com/watch?v=OWct6UX3DvY', 'https://www.youtube.com/watch?v=4UsBI7Fmktw', 'https://www.youtube.com/watch?v=HgtbXvG54iM', 'https://www.youtube.com/watch?v=Uh1yHjK2QlY', 'https://www.youtube.com/watch?v=zt3P8VWGzOg', 'https://www.youtube.com/watch?v=CVMmeTRteqQ', 'https://www.youtube.com/watch?v=5P7HqTj6zGI', 'https://www.youtube.com/watch?v=p0rr8ROrAlk', 'https://www.youtube.com/watch?v=1h0_Bv-mc2k', 'https://www.youtube.com/watch?v=dbKB4p0cnB0', 'https://www.youtube.com/watch?v=KcJypbgb1yE'], ['https://www.youtube.com/watch?v=udHh3hXldx8', 'https://www.youtube.com/watch?v=InzvnlDFEJY', 'https://www.youtube.com/watch?v=0bCWOPSBj5c', 'https://www.youtube.com/watch?v=U33TbA_PhcA', 'https://www.youtube.com/watch?v=efgU_aQsvsE', 'https://www.youtube.com/watch?v=YdO2ch3s26A', 'https://www.youtube.com/watch?v=uBWO59kLWQY', 'https://www.youtube.com/watch?v=sy8FLPdpaA8', 'https://www.youtube.com/watch?v=0Gf_vtK8LlQ', 'https://www.youtube.com/watch?v=VgEG5qMYhlY', 'https://www.youtube.com/watch?v=1wqX5TC5Iik', 'https://www.youtube.com/watch?v=VQpNzyAvIEY', 'https://www.youtube.com/watch?v=V73bqj_lzpo', 'https://www.youtube.com/watch?v=fJgkauQBbaw', 'https://www.youtube.com/watch?v=czr4UEdVpGA', 'https://www.youtube.com/watch?v=iI-9UavzZXY', 'https://www.youtube.com/watch?v=mcAaWWbOpmE', 'https://www.youtube.com/watch?v=kD-njP5iGRk', 'https://www.youtube.com/watch?v=Jd-yLj3qeIA', 'https://www.youtube.com/watch?v=OWct6UX3DvY', 'https://www.youtube.com/watch?v=4UsBI7Fmktw', 'https://www.youtube.com/watch?v=HgtbXvG54iM', 'https://www.youtube.com/watch?v=Uh1yHjK2QlY', 'https://www.youtube.com/watch?v=zt3P8VWGzOg', 'https://www.youtube.com/watch?v=CVMmeTRteqQ', 'https://www.youtube.com/watch?v=5P7HqTj6zGI', 'https://www.youtube.com/watch?v=p0rr8ROrAlk', 'https://www.youtube.com/watch?v=1h0_Bv-mc2k', 'https://www.youtube.com/watch?v=dbKB4p0cnB0', 'https://www.youtube.com/watch?v=KcJypbgb1yE'], ['https://www.youtube.com/watch?v=udHh3hXldx8', 'https://www.youtube.com/watch?v=InzvnlDFEJY', 'https://www.youtube.com/watch?v=0bCWOPSBj5c', 'https://www.youtube.com/watch?v=U33TbA_PhcA', 'https://www.youtube.com/watch?v=efgU_aQsvsE', 'https://www.youtube.com/watch?v=YdO2ch3s26A', 'https://www.youtube.com/watch?v=uBWO59kLWQY', 'https://www.youtube.com/watch?v=sy8FLPdpaA8', 'https://www.youtube.com/watch?v=0Gf_vtK8LlQ', 'https://www.youtube.com/watch?v=VgEG5qMYhlY', 'https://www.youtube.com/watch?v=1wqX5TC5Iik', 'https://www.youtube.com/watch?v=VQpNzyAvIEY', 'https://www.youtube.com/watch?v=V73bqj_lzpo', 'https://www.youtube.com/watch?v=fJgkauQBbaw', 'https://www.youtube.com/watch?v=czr4UEdVpGA', 'https://www.youtube.com/watch?v=iI-9UavzZXY', 'https://www.youtube.com/watch?v=mcAaWWbOpmE', 'https://www.youtube.com/watch?v=kD-njP5iGRk', 'https://www.youtube.com/watch?v=Jd-yLj3qeIA', 'https://www.youtube.com/watch?v=OWct6UX3DvY', 'https://www.youtube.com/watch?v=4UsBI7Fmktw', 'https://www.youtube.com/watch?v=HgtbXvG54iM', 'https://www.youtube.com/watch?v=Uh1yHjK2QlY', 'https://www.youtube.com/watch?v=zt3P8VWGzOg', 'https://www.youtube.com/watch?v=CVMmeTRteqQ', 'https://www.youtube.com/watch?v=5P7HqTj6zGI', 'https://www.youtube.com/watch?v=p0rr8ROrAlk', 'https://www.youtube.com/watch?v=1h0_Bv-mc2k', 'https://www.youtube.com/watch?v=dbKB4p0cnB0', 'https://www.youtube.com/watch?v=KcJypbgb1yE'], ['https://www.youtube.com/watch?v=udHh3hXldx8', 'https://www.youtube.com/watch?v=InzvnlDFEJY', 'https://www.youtube.com/watch?v=0bCWOPSBj5c', 'https://www.youtube.com/watch?v=U33TbA_PhcA', 'https://www.youtube.com/watch?v=efgU_aQsvsE', 'https://www.youtube.com/watch?v=YdO2ch3s26A', 'https://www.youtube.com/watch?v=uBWO59kLWQY', 'https://www.youtube.com/watch?v=sy8FLPdpaA8', 'https://www.youtube.com/watch?v=0Gf_vtK8LlQ', 'https://www.youtube.com/watch?v=VgEG5qMYhlY', 'https://www.youtube.com/watch?v=1wqX5TC5Iik', 'https://www.youtube.com/watch?v=VQpNzyAvIEY', 'https://www.youtube.com/watch?v=V73bqj_lzpo', 'https://www.youtube.com/watch?v=fJgkauQBbaw', 'https://www.youtube.com/watch?v=czr4UEdVpGA', 'https://www.youtube.com/watch?v=iI-9UavzZXY', 'https://www.youtube.com/watch?v=mcAaWWbOpmE', 'https://www.youtube.com/watch?v=kD-njP5iGRk', 'https://www.youtube.com/watch?v=Jd-yLj3qeIA', 'https://www.youtube.com/watch?v=OWct6UX3DvY', 'https://www.youtube.com/watch?v=4UsBI7Fmktw', 'https://www.youtube.com/watch?v=HgtbXvG54iM', 'https://www.youtube.com/watch?v=Uh1yHjK2QlY', 'https://www.youtube.com/watch?v=zt3P8VWGzOg', 'https://www.youtube.com/watch?v=CVMmeTRteqQ', 'https://www.youtube.com/watch?v=5P7HqTj6zGI', 'https://www.youtube.com/watch?v=p0rr8ROrAlk', 'https://www.youtube.com/watch?v=1h0_Bv-mc2k', 'https://www.youtube.com/watch?v=dbKB4p0cnB0', 'https://www.youtube.com/watch?v=KcJypbgb1yE'], ['https://www.youtube.com/watch?v=udHh3hXldx8', 'https://www.youtube.com/watch?v=InzvnlDFEJY', 'https://www.youtube.com/watch?v=0bCWOPSBj5c', 'https://www.youtube.com/watch?v=U33TbA_PhcA', 'https://www.youtube.com/watch?v=efgU_aQsvsE', 'https://www.youtube.com/watch?v=YdO2ch3s26A', 'https://www.youtube.com/watch?v=uBWO59kLWQY', 'https://www.youtube.com/watch?v=sy8FLPdpaA8', 'https://www.youtube.com/watch?v=0Gf_vtK8LlQ', 'https://www.youtube.com/watch?v=VgEG5qMYhlY', 'https://www.youtube.com/watch?v=1wqX5TC5Iik', 'https://www.youtube.com/watch?v=VQpNzyAvIEY', 'https://www.youtube.com/watch?v=V73bqj_lzpo', 'https://www.youtube.com/watch?v=fJgkauQBbaw', 'https://www.youtube.com/watch?v=czr4UEdVpGA', 'https://www.youtube.com/watch?v=iI-9UavzZXY', 'https://www.youtube.com/watch?v=mcAaWWbOpmE', 'https://www.youtube.com/watch?v=kD-njP5iGRk', 'https://www.youtube.com/watch?v=Jd-yLj3qeIA', 'https://www.youtube.com/watch?v=OWct6UX3DvY', 'https://www.youtube.com/watch?v=4UsBI7Fmktw', 'https://www.youtube.com/watch?v=HgtbXvG54iM', 'https://www.youtube.com/watch?v=Uh1yHjK2QlY', 'https://www.youtube.com/watch?v=zt3P8VWGzOg', 'https://www.youtube.com/watch?v=CVMmeTRteqQ', 'https://www.youtube.com/watch?v=5P7HqTj6zGI', 'https://www.youtube.com/watch?v=p0rr8ROrAlk', 'https://www.youtube.com/watch?v=1h0_Bv-mc2k', 'https://www.youtube.com/watch?v=dbKB4p0cnB0', 'https://www.youtube.com/watch?v=KcJypbgb1yE'], ['https://www.youtube.com/watch?v=udHh3hXldx8', 'https://www.youtube.com/watch?v=InzvnlDFEJY', 'https://www.youtube.com/watch?v=0bCWOPSBj5c', 'https://www.youtube.com/watch?v=U33TbA_PhcA', 'https://www.youtube.com/watch?v=efgU_aQsvsE', 'https://www.youtube.com/watch?v=YdO2ch3s26A', 'https://www.youtube.com/watch?v=uBWO59kLWQY', 'https://www.youtube.com/watch?v=sy8FLPdpaA8', 'https://www.youtube.com/watch?v=0Gf_vtK8LlQ', 'https://www.youtube.com/watch?v=VgEG5qMYhlY', 'https://www.youtube.com/watch?v=1wqX5TC5Iik', 'https://www.youtube.com/watch?v=VQpNzyAvIEY', 'https://www.youtube.com/watch?v=V73bqj_lzpo', 'https://www.youtube.com/watch?v=fJgkauQBbaw', 'https://www.youtube.com/watch?v=czr4UEdVpGA', 'https://www.youtube.com/watch?v=iI-9UavzZXY', 'https://www.youtube.com/watch?v=mcAaWWbOpmE', 'https://www.youtube.com/watch?v=kD-njP5iGRk', 'https://www.youtube.com/watch?v=Jd-yLj3qeIA', 'https://www.youtube.com/watch?v=OWct6UX3DvY', 'https://www.youtube.com/watch?v=4UsBI7Fmktw', 'https://www.youtube.com/watch?v=HgtbXvG54iM', 'https://www.youtube.com/watch?v=Uh1yHjK2QlY', 'https://www.youtube.com/watch?v=zt3P8VWGzOg', 'https://www.youtube.com/watch?v=CVMmeTRteqQ', 'https://www.youtube.com/watch?v=5P7HqTj6zGI', 'https://www.youtube.com/watch?v=p0rr8ROrAlk', 'https://www.youtube.com/watch?v=1h0_Bv-mc2k', 'https://www.youtube.com/watch?v=dbKB4p0cnB0', 'https://www.youtube.com/watch?v=KcJypbgb1yE'], ['https://www.youtube.com/watch?v=udHh3hXldx8', 'https://www.youtube.com/watch?v=InzvnlDFEJY', 'https://www.youtube.com/watch?v=0bCWOPSBj5c', 'https://www.youtube.com/watch?v=U33TbA_PhcA', 'https://www.youtube.com/watch?v=efgU_aQsvsE', 'https://www.youtube.com/watch?v=YdO2ch3s26A', 'https://www.youtube.com/watch?v=uBWO59kLWQY', 'https://www.youtube.com/watch?v=sy8FLPdpaA8', 'https://www.youtube.com/watch?v=0Gf_vtK8LlQ', 'https://www.youtube.com/watch?v=VgEG5qMYhlY', 'https://www.youtube.com/watch?v=1wqX5TC5Iik', 'https://www.youtube.com/watch?v=VQpNzyAvIEY', 'https://www.youtube.com/watch?v=V73bqj_lzpo', 'https://www.youtube.com/watch?v=fJgkauQBbaw', 'https://www.youtube.com/watch?v=czr4UEdVpGA', 'https://www.youtube.com/watch?v=iI-9UavzZXY', 'https://www.youtube.com/watch?v=mcAaWWbOpmE', 'https://www.youtube.com/watch?v=kD-njP5iGRk', 'https://www.youtube.com/watch?v=Jd-yLj3qeIA', 'https://www.youtube.com/watch?v=OWct6UX3DvY', 'https://www.youtube.com/watch?v=4UsBI7Fmktw', 'https://www.youtube.com/watch?v=HgtbXvG54iM', 'https://www.youtube.com/watch?v=Uh1yHjK2QlY', 'https://www.youtube.com/watch?v=zt3P8VWGzOg', 'https://www.youtube.com/watch?v=CVMmeTRteqQ', 'https://www.youtube.com/watch?v=5P7HqTj6zGI', 'https://www.youtube.com/watch?v=p0rr8ROrAlk', 'https://www.youtube.com/watch?v=1h0_Bv-mc2k', 'https://www.youtube.com/watch?v=dbKB4p0cnB0', 'https://www.youtube.com/watch?v=KcJypbgb1yE']]\n",
      "\n"
     ]
    },
    {
     "name": "stderr",
     "output_type": "stream",
     "text": [
      "C:\\Users\\ASUS\\AppData\\Local\\Temp/ipykernel_6768/2746235212.py:22: DeprecationWarning: Call to deprecated function get_by_language_code (This object can be treated as a dictionary, i.e. captions['en']).\n",
      "  cap = yt.captions.get_by_language_code('a.ko')\n"
     ]
    },
    {
     "ename": "AttributeError",
     "evalue": "'str' object has no attribute 'name'",
     "output_type": "error",
     "traceback": [
      "\u001b[1;31m---------------------------------------------------------------------------\u001b[0m",
      "\u001b[1;31mAttributeError\u001b[0m                            Traceback (most recent call last)",
      "\u001b[1;32m~\\AppData\\Local\\Temp/ipykernel_6768/2746235212.py\u001b[0m in \u001b[0;36m<module>\u001b[1;34m\u001b[0m\n\u001b[0;32m     28\u001b[0m         \u001b[1;31m# 다운로드\u001b[0m\u001b[1;33m\u001b[0m\u001b[1;33m\u001b[0m\u001b[1;33m\u001b[0m\u001b[0m\n\u001b[0;32m     29\u001b[0m         \u001b[0mdownload_cap\u001b[0m \u001b[1;33m=\u001b[0m \u001b[0mcap\u001b[0m\u001b[1;33m.\u001b[0m\u001b[0mdownload\u001b[0m\u001b[1;33m(\u001b[0m\u001b[0mvideo_name\u001b[0m\u001b[1;33m,\u001b[0m \u001b[1;32mFalse\u001b[0m\u001b[1;33m,\u001b[0m \u001b[0mname\u001b[0m\u001b[1;33m,\u001b[0m \u001b[1;34m''\u001b[0m\u001b[1;33m)\u001b[0m \u001b[1;31m# title/srt여부/파일경로/prefix\u001b[0m\u001b[1;33m\u001b[0m\u001b[1;33m\u001b[0m\u001b[0m\n\u001b[1;32m---> 30\u001b[1;33m         \u001b[0mprint\u001b[0m\u001b[1;33m(\u001b[0m\u001b[0mdownload_cap\u001b[0m\u001b[1;33m.\u001b[0m\u001b[0mname\u001b[0m\u001b[1;33m)\u001b[0m\u001b[1;33m\u001b[0m\u001b[1;33m\u001b[0m\u001b[0m\n\u001b[0m\u001b[0;32m     31\u001b[0m         \u001b[0mtree\u001b[0m \u001b[1;33m=\u001b[0m \u001b[0mparse\u001b[0m\u001b[1;33m(\u001b[0m\u001b[0mdownload_cap\u001b[0m\u001b[1;33m)\u001b[0m\u001b[1;33m\u001b[0m\u001b[1;33m\u001b[0m\u001b[0m\n\u001b[0;32m     32\u001b[0m         \u001b[0mroot\u001b[0m \u001b[1;33m=\u001b[0m \u001b[0mtree\u001b[0m\u001b[1;33m.\u001b[0m\u001b[0mgetroot\u001b[0m\u001b[1;33m(\u001b[0m\u001b[1;33m)\u001b[0m\u001b[1;33m\u001b[0m\u001b[1;33m\u001b[0m\u001b[0m\n",
      "\u001b[1;31mAttributeError\u001b[0m: 'str' object has no attribute 'name'"
     ]
    }
   ],
   "source": [
    "import copy\n",
    "\n",
    "DIR = os.getcwd()\n",
    "\n",
    "for k in keyword :\n",
    "    video_url_list.append(copy.deepcopy(yt_list[k]['주소']))\n",
    "    print('{} :'.format(k), video_url_list)\n",
    "    print()\n",
    "\n",
    "    for video_url in video_url_list :\n",
    "        name = ''\n",
    "        if 'c/' in k :\n",
    "            name = k.lstrip('/c')\n",
    "        else :\n",
    "            name = k\n",
    "        video_name = name + '_' + video_url[33:]\n",
    "        video_path = os.path.join(DIR, name)\n",
    "\n",
    "        yt = YouTube(video_url)\n",
    "        #print(yt.captions.all())\n",
    "\n",
    "        cap = yt.captions.get_by_language_code('a.ko')\n",
    "\n",
    "        # 자막 살펴보기(xml 포맷)\n",
    "        cap_xml = cap.xml_captions\n",
    "        #print(cap_xml)\n",
    "\n",
    "        # 다운로드\n",
    "        download_cap = cap.download(video_name, False, name, '') # title/srt여부/파일경로/prefix\n",
    "        print(download_cap.name)\n",
    "        tree = parse(download_cap)\n",
    "        root = tree.getroot()\n",
    "        words = ''\n",
    "        for w in root.itertext() :\n",
    "            if w is '' or w is '\\n' :\n",
    "                continue\n",
    "            else :\n",
    "                words= words + w\n",
    "\n",
    "        #print(words)\n",
    "        if not os.path.isdir(video_path) :\n",
    "            os.mkdir(video_path)\n",
    "\n",
    "        with open(os.path.join(video_path, video_name+'.txt'), 'w', encoding='utf8') as f:\n",
    "            f.write(words)\n",
    "            \n",
    "        "
   ]
  },
  {
   "cell_type": "code",
   "execution_count": null,
   "id": "4b92e74c",
   "metadata": {
    "scrolled": true
   },
   "outputs": [],
   "source": []
  },
  {
   "cell_type": "code",
   "execution_count": null,
   "id": "8a857bdf",
   "metadata": {},
   "outputs": [],
   "source": []
  }
 ],
 "metadata": {
  "kernelspec": {
   "display_name": "Python 3 (ipykernel)",
   "language": "python",
   "name": "python3"
  },
  "language_info": {
   "codemirror_mode": {
    "name": "ipython",
    "version": 3
   },
   "file_extension": ".py",
   "mimetype": "text/x-python",
   "name": "python",
   "nbconvert_exporter": "python",
   "pygments_lexer": "ipython3",
   "version": "3.9.2"
  }
 },
 "nbformat": 4,
 "nbformat_minor": 5
}
