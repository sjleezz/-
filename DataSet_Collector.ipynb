{
 "cells": [
  {
   "cell_type": "code",
   "execution_count": 1,
   "id": "fa2f40e7",
   "metadata": {},
   "outputs": [],
   "source": [
    "from pytube import YouTube\n",
    "from xml.etree.ElementTree import parse\n",
    "import os"
   ]
  },
  {
   "cell_type": "code",
   "execution_count": 2,
   "id": "0f1a9672",
   "metadata": {},
   "outputs": [
    {
     "name": "stdout",
     "output_type": "stream",
     "text": [
      "D:\\tessvenv\n"
     ]
    }
   ],
   "source": [
    "print(os.getcwd())"
   ]
  },
  {
   "cell_type": "markdown",
   "id": "0feec25b",
   "metadata": {},
   "source": [
    "### Data Properties"
   ]
  },
  {
   "cell_type": "code",
   "execution_count": 3,
   "id": "06ec0b6f",
   "metadata": {},
   "outputs": [],
   "source": [
    "DIR = 'D:\\\\tessvenv\\\\news_caps'\n",
    "journal_name = 'KBS'\n",
    "\n",
    "video_url_list = ['https://www.youtube.com/watch?v=BGrGi8c9c5A', 'https://www.youtube.com/watch?v=1Hj47K5oL9o', \n",
    "                  'https://www.youtube.com/watch?v=LImFhoYi8L0', 'https://www.youtube.com/watch?v=Xggh-82SDm8',\n",
    "                 'https://www.youtube.com/watch?v=3JtKNc-avU4', 'https://www.youtube.com/watch?v=VJtOEBeJpOA',\n",
    "                 'https://www.youtube.com/watch?v=fdWZJO_sD7Y','https://www.youtube.com/watch?v=33EglKxdaSg',\n",
    "                 'https://www.youtube.com/watch?v=UwBsVM0TCxU','https://www.youtube.com/watch?v=0BbOsXLWGOk',\n",
    "                 'https://www.youtube.com/watch?v=z8eTCk9_Zys','https://www.youtube.com/watch?v=Qx86IXEpucU',\n",
    "                 'https://www.youtube.com/watch?v=vI5FCc-Oa0U', 'https://www.youtube.com/watch?v=fOtKKjXSwuc',\n",
    "                 'https://www.youtube.com/watch?v=j2dz7mUS0d8', 'https://www.youtube.com/watch?v=IKkgXB4B6bo',\n",
    "                 'https://www.youtube.com/watch?v=ymRop8h3zlU', 'https://www.youtube.com/watch?v=G1hIz3zPL_E',\n",
    "                 'https://www.youtube.com/watch?v=rMmSE6d3YL0', 'https://www.youtube.com/watch?v=wEKsnMOtY14',\n",
    "                 'https://www.youtube.com/watch?v=cbBH8Lb4DEs', 'https://www.youtube.com/watch?v=_LCJEWY-O-A',\n",
    "                 'https://www.youtube.com/watch?v=-nEZN3W_jf4', 'https://www.youtube.com/watch?v=u3KRL9HnRng']\n"
   ]
  },
  {
   "cell_type": "code",
   "execution_count": 5,
   "id": "d54318cf",
   "metadata": {},
   "outputs": [],
   "source": [
    "DIR = 'D:\\\\tessvenv\\\\news_caps'\n",
    "journal_name = 'MBC'\n",
    "\n",
    "video_url_list = ['https://www.youtube.com/watch?v=He0pIxuFIj0', 'https://www.youtube.com/watch?v=y1ujjwWFkB0',\n",
    "                 'https://www.youtube.com/watch?v=LCQsheCT_mo', 'https://www.youtube.com/watch?v=auGpUN6cAwQ',\n",
    "                 'https://www.youtube.com/watch?v=_akJzC_SjqQ', 'https://www.youtube.com/watch?v=OWzfntct0c0',\n",
    "                 'https://www.youtube.com/watch?v=JnOF98tB_8I', 'https://www.youtube.com/watch?v=DFBMBD7nQis',\n",
    "                 'https://www.youtube.com/watch?v=0Zgo5d-FC4Y', 'https://www.youtube.com/watch?v=yGTVR6OYXA0',\n",
    "                 'https://www.youtube.com/watch?v=2nNzvJ4IEec', 'https://www.youtube.com/watch?v=r-C8OHt_Q40',\n",
    "                 'https://www.youtube.com/watch?v=u_il_4RduZY', 'https://www.youtube.com/watch?v=mcTYRd1tFpA', \n",
    "                 'https://www.youtube.com/watch?v=-RhFIbFgDEY', 'https://www.youtube.com/watch?v=7W3wJiP_1ZI',\n",
    "                 '', 'https://www.youtube.com/watch?v=ZfZnRjTRBeo',\n",
    "                 '', '',\n",
    "                 '', '',\n",
    "                 '', '',\n",
    "                 ]"
   ]
  },
  {
   "cell_type": "code",
   "execution_count": 6,
   "id": "4b92e74c",
   "metadata": {
    "scrolled": true
   },
   "outputs": [
    {
     "name": "stderr",
     "output_type": "stream",
     "text": [
      "d:\\tessvenv\\lib\\site-packages\\ipykernel_launcher.py:8: DeprecationWarning: Call to deprecated function get_by_language_code (This object can be treated as a dictionary, i.e. captions['en']).\n",
      "  \n",
      "d:\\tessvenv\\lib\\site-packages\\ipykernel_launcher.py:8: DeprecationWarning: Call to deprecated function get_by_language_code (This object can be treated as a dictionary, i.e. captions['en']).\n",
      "  \n",
      "d:\\tessvenv\\lib\\site-packages\\ipykernel_launcher.py:8: DeprecationWarning: Call to deprecated function get_by_language_code (This object can be treated as a dictionary, i.e. captions['en']).\n",
      "  \n",
      "d:\\tessvenv\\lib\\site-packages\\ipykernel_launcher.py:8: DeprecationWarning: Call to deprecated function get_by_language_code (This object can be treated as a dictionary, i.e. captions['en']).\n",
      "  \n",
      "d:\\tessvenv\\lib\\site-packages\\ipykernel_launcher.py:8: DeprecationWarning: Call to deprecated function get_by_language_code (This object can be treated as a dictionary, i.e. captions['en']).\n",
      "  \n",
      "d:\\tessvenv\\lib\\site-packages\\ipykernel_launcher.py:8: DeprecationWarning: Call to deprecated function get_by_language_code (This object can be treated as a dictionary, i.e. captions['en']).\n",
      "  \n",
      "d:\\tessvenv\\lib\\site-packages\\ipykernel_launcher.py:8: DeprecationWarning: Call to deprecated function get_by_language_code (This object can be treated as a dictionary, i.e. captions['en']).\n",
      "  \n",
      "d:\\tessvenv\\lib\\site-packages\\ipykernel_launcher.py:8: DeprecationWarning: Call to deprecated function get_by_language_code (This object can be treated as a dictionary, i.e. captions['en']).\n",
      "  \n",
      "d:\\tessvenv\\lib\\site-packages\\ipykernel_launcher.py:8: DeprecationWarning: Call to deprecated function get_by_language_code (This object can be treated as a dictionary, i.e. captions['en']).\n",
      "  \n",
      "d:\\tessvenv\\lib\\site-packages\\ipykernel_launcher.py:8: DeprecationWarning: Call to deprecated function get_by_language_code (This object can be treated as a dictionary, i.e. captions['en']).\n",
      "  \n",
      "d:\\tessvenv\\lib\\site-packages\\ipykernel_launcher.py:8: DeprecationWarning: Call to deprecated function get_by_language_code (This object can be treated as a dictionary, i.e. captions['en']).\n",
      "  \n",
      "d:\\tessvenv\\lib\\site-packages\\ipykernel_launcher.py:8: DeprecationWarning: Call to deprecated function get_by_language_code (This object can be treated as a dictionary, i.e. captions['en']).\n",
      "  \n",
      "d:\\tessvenv\\lib\\site-packages\\ipykernel_launcher.py:8: DeprecationWarning: Call to deprecated function get_by_language_code (This object can be treated as a dictionary, i.e. captions['en']).\n",
      "  \n",
      "d:\\tessvenv\\lib\\site-packages\\ipykernel_launcher.py:8: DeprecationWarning: Call to deprecated function get_by_language_code (This object can be treated as a dictionary, i.e. captions['en']).\n",
      "  \n",
      "d:\\tessvenv\\lib\\site-packages\\ipykernel_launcher.py:8: DeprecationWarning: Call to deprecated function get_by_language_code (This object can be treated as a dictionary, i.e. captions['en']).\n",
      "  \n",
      "d:\\tessvenv\\lib\\site-packages\\ipykernel_launcher.py:8: DeprecationWarning: Call to deprecated function get_by_language_code (This object can be treated as a dictionary, i.e. captions['en']).\n",
      "  \n"
     ]
    }
   ],
   "source": [
    "for video_url in video_url_list :\n",
    "    video_name = journal_name + '_' + video_url[33:]\n",
    "    video_path = os.path.join(DIR, video_name+'.txt' )\n",
    "\n",
    "    yt = YouTube(video_url)\n",
    "    #print(yt.captions.all())\n",
    "\n",
    "    cap = yt.captions.get_by_language_code('a.ko')\n",
    "\n",
    "    # 자막 살펴보기(xml 포맷)\n",
    "    cap_xml = cap.xml_captions\n",
    "    #print(cap_xml)\n",
    "\n",
    "    # 다운로드\n",
    "    download_cap = cap.download(video_name, False, '', '') # title/srt여부/파일경로/prefix\n",
    "\n",
    "    tree = parse(download_cap)\n",
    "    root = tree.getroot()\n",
    "    words = ''\n",
    "    for w in root.itertext() :\n",
    "        if w is '' or w is '\\n' :\n",
    "            continue\n",
    "        else :\n",
    "            words= words + w\n",
    "\n",
    "    #print(words)\n",
    "\n",
    "    with open(video_path, 'w', encoding='utf8') as f:\n",
    "        f.write(words)"
   ]
  },
  {
   "cell_type": "code",
   "execution_count": null,
   "id": "8a857bdf",
   "metadata": {},
   "outputs": [],
   "source": []
  }
 ],
 "metadata": {
  "kernelspec": {
   "display_name": "Python 3 (ipykernel)",
   "language": "python",
   "name": "python3"
  },
  "language_info": {
   "codemirror_mode": {
    "name": "ipython",
    "version": 3
   },
   "file_extension": ".py",
   "mimetype": "text/x-python",
   "name": "python",
   "nbconvert_exporter": "python",
   "pygments_lexer": "ipython3",
   "version": "3.7.9"
  }
 },
 "nbformat": 4,
 "nbformat_minor": 5
}
